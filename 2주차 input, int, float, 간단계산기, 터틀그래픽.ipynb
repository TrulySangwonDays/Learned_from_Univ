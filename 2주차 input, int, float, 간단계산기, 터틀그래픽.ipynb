{
 "cells": [
  {
   "cell_type": "code",
   "execution_count": 2,
   "id": "50439ded",
   "metadata": {},
   "outputs": [
    {
     "name": "stdout",
     "output_type": "stream",
     "text": [
      "100\n",
      "200\n"
     ]
    }
   ],
   "source": [
    "a = 100\n",
    "b = 200\n",
    "a == 0\n",
    "b == 200\n",
    "print(a)\n",
    "print(b)"
   ]
  },
  {
   "cell_type": "code",
   "execution_count": 3,
   "id": "d3f1cad8",
   "metadata": {},
   "outputs": [
    {
     "name": "stdout",
     "output_type": "stream",
     "text": [
      "100\n",
      "50\n",
      "150\n"
     ]
    }
   ],
   "source": [
    "a = 100\n",
    "b = 50\n",
    "result = a + b\n",
    "print(a)\n",
    "print(b)\n",
    "print(result)"
   ]
  },
  {
   "cell_type": "code",
   "execution_count": 4,
   "id": "5d4295b3",
   "metadata": {},
   "outputs": [
    {
     "name": "stdout",
     "output_type": "stream",
     "text": [
      "100 + 50 = 150\n"
     ]
    }
   ],
   "source": [
    "a = 100\n",
    "b = 50\n",
    "result = a + b\n",
    "print(a, '+', b, '=', result)"
   ]
  },
  {
   "cell_type": "code",
   "execution_count": 5,
   "id": "d2ee857c",
   "metadata": {},
   "outputs": [
    {
     "name": "stdout",
     "output_type": "stream",
     "text": [
      "It is me.\n",
      "It is me.\n",
      "It's me.\n"
     ]
    }
   ],
   "source": [
    "m = 'It is me.'\n",
    "print(m)\n",
    "n = \"It is me.\"\n",
    "print(n)\n",
    "k = \"It's me.\"\n",
    "print(k)"
   ]
  },
  {
   "cell_type": "code",
   "execution_count": 6,
   "id": "ac802a95",
   "metadata": {
    "scrolled": true
   },
   "outputs": [
    {
     "name": "stdout",
     "output_type": "stream",
     "text": [
      "100 + 50 = 150\n",
      "100 - 50 = 50\n",
      "100 * 50 = 5000\n",
      "100 / 50 = 2.0\n"
     ]
    }
   ],
   "source": [
    "a = 100\n",
    "b = 50\n",
    "\n",
    "result = a + b\n",
    "print(a, '+', b, '=', result)\n",
    "\n",
    "result = a - b\n",
    "print(a, '-', b, '=', result)\n",
    "\n",
    "result = a * b\n",
    "print(a, '*', b, '=', result)\n",
    "\n",
    "result = a / b\n",
    "print(a, '/', b, '=', result)"
   ]
  },
  {
   "cell_type": "markdown",
   "id": "178d54ce",
   "metadata": {},
   "source": [
    "# 터틀그래픽"
   ]
  },
  {
   "cell_type": "markdown",
   "id": "26bf6aba",
   "metadata": {},
   "source": [
    "---\n",
    "#### 터틀그래픽(1)"
   ]
  },
  {
   "cell_type": "code",
   "execution_count": 7,
   "id": "cb5af3e7",
   "metadata": {},
   "outputs": [
    {
     "data": {
      "text/plain": [
       "<function turtle.mainloop()>"
      ]
     },
     "execution_count": 7,
     "metadata": {},
     "output_type": "execute_result"
    }
   ],
   "source": [
    "import turtle\n",
    "\n",
    "turtle.shape('turtle')\n",
    "\n",
    "turtle.forward(200)\n",
    "turtle.right(90)\n",
    "turtle.forward(200)\n",
    "turtle.right(90)\n",
    "turtle.forward(200)\n",
    "turtle.right(90)\n",
    "turtle.forward(200)\n",
    "turtle.right(90)\n",
    "\n",
    "turtle.done"
   ]
  },
  {
   "cell_type": "markdown",
   "id": "0dcd3951",
   "metadata": {},
   "source": [
    "---\n",
    "#### 터틀그래픽(2)"
   ]
  },
  {
   "cell_type": "code",
   "execution_count": 8,
   "id": "b5bcd8eb",
   "metadata": {},
   "outputs": [
    {
     "data": {
      "text/plain": [
       "<function turtle.mainloop()>"
      ]
     },
     "execution_count": 8,
     "metadata": {},
     "output_type": "execute_result"
    }
   ],
   "source": [
    "import turtle\n",
    "\n",
    "myT = None\n",
    "\n",
    "myT = turtle.Turtle()\n",
    "myT.shape('turtle')\n",
    "for i in range(0,4):\n",
    "    myT.forward(200)\n",
    "    myT.right(90)\n",
    "\n",
    "myT2 = turtle.Turtle()\n",
    "myT2.shape('circle')\n",
    "myT2.color('red')\n",
    "myT2.goto(100, 200)\n",
    "\n",
    "\n",
    "\n",
    "turtle.done"
   ]
  },
  {
   "cell_type": "markdown",
   "id": "a9fee1c8",
   "metadata": {},
   "source": [
    "---\n",
    "### 터틀 그림판"
   ]
  },
  {
   "cell_type": "code",
   "execution_count": 9,
   "id": "8bb87111",
   "metadata": {
    "collapsed": true
   },
   "outputs": [],
   "source": [
    "import turtle\n",
    "import random\n",
    "\n",
    "def screenLeftClick(x, y) :\n",
    "    global r, g, b\n",
    "    turtle.pencolor((r, g, b))\n",
    "    turtle.pendown()\n",
    "    turtle.goto(x, y)\n",
    "\n",
    "def screenRightClick(x, y) :\n",
    "    turtle.penup()\n",
    "    turtle.goto(x, y)\n",
    "\n",
    "def screenMidClick(x, y) :\n",
    "    global r, g, b\n",
    "    tSize = random.randrange(1, 10)\n",
    "    turtle.shapesize(tSize)\n",
    "    r = random.random()\n",
    "    g = random.random()\n",
    "    b = random.random()\n",
    "\n",
    "pSize = 10\n",
    "r, g, b = 0.0, 0.0, 0.0\n",
    "\n",
    "\n",
    "turtle.title(\"거북이로 그림 그리기\")\n",
    "turtle.shape('turtle')\n",
    "turtle.pensize(pSize)\n",
    "\n",
    "turtle.onscreenclick(screenLeftClick, 1)\n",
    "turtle.onscreenclick(screenMidClick, 2)\n",
    "turtle.onscreenclick(screenRightClick, 3)\n",
    "\n",
    "turtle.done()"
   ]
  },
  {
   "cell_type": "code",
   "execution_count": null,
   "id": "d55fc1c3",
   "metadata": {},
   "outputs": [],
   "source": []
  },
  {
   "cell_type": "code",
   "execution_count": null,
   "id": "1601d9b7",
   "metadata": {},
   "outputs": [],
   "source": []
  },
  {
   "cell_type": "code",
   "execution_count": null,
   "id": "a94546ce",
   "metadata": {},
   "outputs": [],
   "source": []
  }
 ],
 "metadata": {
  "kernelspec": {
   "display_name": "Python 3 (ipykernel)",
   "language": "python",
   "name": "python3"
  },
  "language_info": {
   "codemirror_mode": {
    "name": "ipython",
    "version": 3
   },
   "file_extension": ".py",
   "mimetype": "text/x-python",
   "name": "python",
   "nbconvert_exporter": "python",
   "pygments_lexer": "ipython3",
   "version": "3.11.4"
  }
 },
 "nbformat": 4,
 "nbformat_minor": 5
}
