{
 "cells": [
  {
   "cell_type": "markdown",
   "id": "d020de41",
   "metadata": {},
   "source": [
    "---\n",
    "# if, 중첩if, else"
   ]
  },
  {
   "cell_type": "code",
   "execution_count": 19,
   "id": "454fe20d",
   "metadata": {},
   "outputs": [],
   "source": [
    "a = 200\n",
    "\n",
    "if a < 100 :\n",
    "    print('a가 100보다 작군요')\n",
    "    print('거짓이므로 이 문장은 안보이겠네요')"
   ]
  },
  {
   "cell_type": "code",
   "execution_count": 20,
   "id": "e4620ef4",
   "metadata": {},
   "outputs": [
    {
     "name": "stdout",
     "output_type": "stream",
     "text": [
      "100보다 작군요\n"
     ]
    }
   ],
   "source": [
    "a = 99\n",
    "\n",
    "if a < 100 :\n",
    "    print('100보다 작군요')\n",
    "else :\n",
    "    print('100 이상이군요')"
   ]
  },
  {
   "cell_type": "code",
   "execution_count": 21,
   "id": "be7d3262",
   "metadata": {},
   "outputs": [
    {
     "name": "stdout",
     "output_type": "stream",
     "text": [
      "정수를 입력하세요. : 5\n",
      "5은 홀수네요\n"
     ]
    }
   ],
   "source": [
    "num = int(input('정수를 입력하세요. : '))\n",
    "\n",
    "if num % 2 == 0 :\n",
    "    print(f'{num}는 짝수네요')\n",
    "else :\n",
    "    print(f'{num}은 홀수네요')"
   ]
  },
  {
   "cell_type": "code",
   "execution_count": 22,
   "id": "9e1d9a11",
   "metadata": {},
   "outputs": [
    {
     "name": "stdout",
     "output_type": "stream",
     "text": [
      "75\n",
      "50이상이고 100보다 작군요\n"
     ]
    }
   ],
   "source": [
    "a = 75\n",
    "print(a)\n",
    "\n",
    "if a > 50 :\n",
    "    if a < 100 :\n",
    "        print('50이상이고 100보다 작군요')\n",
    "    else :\n",
    "        print('100 이상의 수군요')\n",
    "else :\n",
    "    print('50보다 작은 수요군요')"
   ]
  },
  {
   "cell_type": "markdown",
   "id": "bd5222db",
   "metadata": {},
   "source": [
    "---\n",
    "#### 윤년 판별 프로그램\n",
    "- 윤년 4로 나눠떨어지면 윤년.\n",
    "- 4로 나눠떨어지면서 100으로 나눠떨어지면 윤년 아님\n",
    "- 400으로 나눠떨어지면 윤년"
   ]
  },
  {
   "cell_type": "code",
   "execution_count": 23,
   "id": "e5118460",
   "metadata": {},
   "outputs": [
    {
     "name": "stdout",
     "output_type": "stream",
     "text": [
      "연도를 입력하세요. : 2024\n",
      "윤년\n"
     ]
    }
   ],
   "source": [
    "y = int(input('연도를 입력하세요. : '))\n",
    "\n",
    "if y % 4 == 0 :\n",
    "    if y % 100 != 0 :\n",
    "        print('윤년')\n",
    "    else :\n",
    "        if y % 400 == 0 :\n",
    "            print('윤년')\n",
    "        else :\n",
    "            ('윤년 아님')\n",
    "else :\n",
    "    print('윤년 아님')"
   ]
  },
  {
   "cell_type": "markdown",
   "id": "0d9fbb19",
   "metadata": {},
   "source": [
    "---\n",
    "# elif, 학점계산 프로그램, 삼항연산자"
   ]
  },
  {
   "cell_type": "code",
   "execution_count": 24,
   "id": "50fb8498",
   "metadata": {},
   "outputs": [
    {
     "name": "stdout",
     "output_type": "stream",
     "text": [
      "학점 입력 : 65\n",
      "D\n",
      "학점 입니다\n"
     ]
    }
   ],
   "source": [
    "a = int(input('학점 입력 : '))\n",
    "\n",
    "if a >= 90 :\n",
    "    print('A')\n",
    "elif a >= 80 :\n",
    "    print('B')\n",
    "elif a >= 70 :\n",
    "    print('C')\n",
    "elif a >= 60 :\n",
    "    print('D')\n",
    "else :\n",
    "    print('F')\n",
    "print('학점 입니다')"
   ]
  },
  {
   "cell_type": "code",
   "execution_count": 25,
   "id": "5c3dee5d",
   "metadata": {},
   "outputs": [
    {
     "name": "stdout",
     "output_type": "stream",
     "text": [
      "합격\n"
     ]
    }
   ],
   "source": [
    "a = 100\n",
    "res = '합격' if a >= 60 else '불합격'\n",
    "print(res)"
   ]
  },
  {
   "cell_type": "markdown",
   "id": "ff2a8f37",
   "metadata": {},
   "source": [
    "---\n",
    "# 무지개색 원그리기 (feat. turtle)"
   ]
  },
  {
   "cell_type": "code",
   "execution_count": null,
   "id": "4cd9dc1f",
   "metadata": {},
   "outputs": [],
   "source": [
    "import turtle\n",
    "\n",
    "## 전역변수 선언 부분 ##\n",
    "swidth, sheight = 500, 500\n",
    "\n",
    "## 메인코드 부분 ##\n",
    "turtle.title('무지개색 원그리기')\n",
    "turtle.shape('turtle')\n",
    "turtle.setup(width = swidth+50, height = sheight+50)\n",
    "turtle.screensize(swidth, sheight)\n",
    "turtle.penup()\n",
    "turtle.goto(0, -sheight/2)\n",
    "turtle.pendown()\n",
    "turtle.speed(50)\n",
    "\n",
    "for radius in range(1, 250) :\n",
    "    if radius % 6 == 0 :\n",
    "        turtle.pencolor('red')\n",
    "    elif radius % 5 == 0 :\n",
    "        turtle.pencolor('orange')\n",
    "    elif radius % 4 == 0 :\n",
    "        turtle.pencolor('yellow')\n",
    "    elif radius % 3 == 0 :\n",
    "        turtle.pencolor('green')\n",
    "    elif radius % 2 == 0 :\n",
    "        turtle.pencolor('blue')\n",
    "    elif radius % 1 == 0 :\n",
    "        turtle.pencolor('navyblue')\n",
    "    else :\n",
    "        turtle.pencolor('purple')\n",
    "\n",
    "    turtle.circle(radius)\n",
    "\n",
    "turtle.down()"
   ]
  },
  {
   "cell_type": "markdown",
   "id": "55db2217",
   "metadata": {},
   "source": [
    "---\n",
    "# List"
   ]
  },
  {
   "cell_type": "code",
   "execution_count": 3,
   "id": "37960423",
   "metadata": {},
   "outputs": [
    {
     "data": {
      "text/plain": [
       "['사과', '배', '딸기', '포도']"
      ]
     },
     "execution_count": 3,
     "metadata": {},
     "output_type": "execute_result"
    }
   ],
   "source": [
    "fruit = ['사과', '배', '딸기', '포도']\n",
    "fruit"
   ]
  },
  {
   "cell_type": "code",
   "execution_count": 4,
   "id": "8d7e2582",
   "metadata": {},
   "outputs": [
    {
     "data": {
      "text/plain": [
       "list"
      ]
     },
     "execution_count": 4,
     "metadata": {},
     "output_type": "execute_result"
    }
   ],
   "source": [
    "type(fruit)"
   ]
  },
  {
   "cell_type": "code",
   "execution_count": 5,
   "id": "57c89ba1",
   "metadata": {},
   "outputs": [
    {
     "data": {
      "text/plain": [
       "range(0, 100)"
      ]
     },
     "execution_count": 5,
     "metadata": {},
     "output_type": "execute_result"
    }
   ],
   "source": [
    "b = range(0, 100)\n",
    "b"
   ]
  },
  {
   "cell_type": "code",
   "execution_count": 6,
   "id": "1f72e9c8",
   "metadata": {
    "collapsed": true
   },
   "outputs": [
    {
     "data": {
      "text/plain": [
       "[0,\n",
       " 1,\n",
       " 2,\n",
       " 3,\n",
       " 4,\n",
       " 5,\n",
       " 6,\n",
       " 7,\n",
       " 8,\n",
       " 9,\n",
       " 10,\n",
       " 11,\n",
       " 12,\n",
       " 13,\n",
       " 14,\n",
       " 15,\n",
       " 16,\n",
       " 17,\n",
       " 18,\n",
       " 19,\n",
       " 20,\n",
       " 21,\n",
       " 22,\n",
       " 23,\n",
       " 24,\n",
       " 25,\n",
       " 26,\n",
       " 27,\n",
       " 28,\n",
       " 29,\n",
       " 30,\n",
       " 31,\n",
       " 32,\n",
       " 33,\n",
       " 34,\n",
       " 35,\n",
       " 36,\n",
       " 37,\n",
       " 38,\n",
       " 39,\n",
       " 40,\n",
       " 41,\n",
       " 42,\n",
       " 43,\n",
       " 44,\n",
       " 45,\n",
       " 46,\n",
       " 47,\n",
       " 48,\n",
       " 49,\n",
       " 50,\n",
       " 51,\n",
       " 52,\n",
       " 53,\n",
       " 54,\n",
       " 55,\n",
       " 56,\n",
       " 57,\n",
       " 58,\n",
       " 59,\n",
       " 60,\n",
       " 61,\n",
       " 62,\n",
       " 63,\n",
       " 64,\n",
       " 65,\n",
       " 66,\n",
       " 67,\n",
       " 68,\n",
       " 69,\n",
       " 70,\n",
       " 71,\n",
       " 72,\n",
       " 73,\n",
       " 74,\n",
       " 75,\n",
       " 76,\n",
       " 77,\n",
       " 78,\n",
       " 79,\n",
       " 80,\n",
       " 81,\n",
       " 82,\n",
       " 83,\n",
       " 84,\n",
       " 85,\n",
       " 86,\n",
       " 87,\n",
       " 88,\n",
       " 89,\n",
       " 90,\n",
       " 91,\n",
       " 92,\n",
       " 93,\n",
       " 94,\n",
       " 95,\n",
       " 96,\n",
       " 97,\n",
       " 98,\n",
       " 99]"
      ]
     },
     "execution_count": 6,
     "metadata": {},
     "output_type": "execute_result"
    }
   ],
   "source": [
    "list(b)"
   ]
  },
  {
   "cell_type": "code",
   "execution_count": 7,
   "id": "521378d4",
   "metadata": {
    "collapsed": true
   },
   "outputs": [
    {
     "data": {
      "text/plain": [
       "[1,\n",
       " 4,\n",
       " 7,\n",
       " 10,\n",
       " 13,\n",
       " 16,\n",
       " 19,\n",
       " 22,\n",
       " 25,\n",
       " 28,\n",
       " 31,\n",
       " 34,\n",
       " 37,\n",
       " 40,\n",
       " 43,\n",
       " 46,\n",
       " 49,\n",
       " 52,\n",
       " 55,\n",
       " 58,\n",
       " 61,\n",
       " 64,\n",
       " 67,\n",
       " 70,\n",
       " 73,\n",
       " 76,\n",
       " 79]"
      ]
     },
     "execution_count": 7,
     "metadata": {},
     "output_type": "execute_result"
    }
   ],
   "source": [
    "list(range(1, 80, 3))"
   ]
  },
  {
   "cell_type": "code",
   "execution_count": 8,
   "id": "530a82d0",
   "metadata": {},
   "outputs": [
    {
     "data": {
      "text/plain": [
       "['사과', '배', '딸기', '포도']"
      ]
     },
     "execution_count": 8,
     "metadata": {},
     "output_type": "execute_result"
    }
   ],
   "source": [
    "fruit"
   ]
  },
  {
   "cell_type": "code",
   "execution_count": 12,
   "id": "4f7e2b23",
   "metadata": {},
   "outputs": [
    {
     "data": {
      "text/plain": [
       "['사과', '배', '딸기', '포도', '바나나', '샤인머스캣']"
      ]
     },
     "execution_count": 12,
     "metadata": {},
     "output_type": "execute_result"
    }
   ],
   "source": [
    "fruit.append('샤인머스캣')\n",
    "fruit"
   ]
  },
  {
   "cell_type": "code",
   "execution_count": 13,
   "id": "e60b76fa",
   "metadata": {},
   "outputs": [
    {
     "data": {
      "text/plain": [
       "['사과', '배', '딸기', '포도', '바나나']"
      ]
     },
     "execution_count": 13,
     "metadata": {},
     "output_type": "execute_result"
    }
   ],
   "source": [
    "fruit.pop()\n",
    "fruit"
   ]
  },
  {
   "cell_type": "code",
   "execution_count": 14,
   "id": "ab68c90b",
   "metadata": {},
   "outputs": [
    {
     "name": "stdout",
     "output_type": "stream",
     "text": [
      "딸기 있어요\n"
     ]
    }
   ],
   "source": [
    "if '딸기' in fruit :\n",
    "    print('딸기 있어요')"
   ]
  },
  {
   "cell_type": "markdown",
   "id": "5dd3079d",
   "metadata": {},
   "source": [
    "---"
   ]
  },
  {
   "cell_type": "code",
   "execution_count": 44,
   "id": "6e4345fd",
   "metadata": {},
   "outputs": [],
   "source": [
    "import random"
   ]
  },
  {
   "cell_type": "code",
   "execution_count": 45,
   "id": "e8faee7d",
   "metadata": {},
   "outputs": [
    {
     "name": "stdout",
     "output_type": "stream",
     "text": [
      "생성된 리스트 : [4, 9, 8, 9, 0, 6, 3, 9, 5, 9]\n",
      "숫자 1은 리스트에 없네요.\n",
      "숫자 2은 리스트에 없네요.\n",
      "숫자 7은 리스트에 없네요.\n"
     ]
    }
   ],
   "source": [
    "numbers = []\n",
    "for num in range(0, 10) :\n",
    "    numbers.append(random.randrange(0,10))\n",
    "\n",
    "print('생성된 리스트 :', numbers)\n",
    "\n",
    "for num in range(0, 10) :\n",
    "    if num not in numbers :\n",
    "        print(f'숫자 {num}은 리스트에 없네요.')"
   ]
  },
  {
   "cell_type": "markdown",
   "id": "5a9e9095",
   "metadata": {},
   "source": [
    "---"
   ]
  },
  {
   "cell_type": "markdown",
   "id": "ff50b43e",
   "metadata": {},
   "source": [
    "### 로또번호 랜덤추첨"
   ]
  },
  {
   "cell_type": "code",
   "execution_count": 2,
   "id": "91707f49",
   "metadata": {},
   "outputs": [],
   "source": [
    "import random"
   ]
  },
  {
   "cell_type": "code",
   "execution_count": 3,
   "id": "5058cd52",
   "metadata": {},
   "outputs": [
    {
     "name": "stdout",
     "output_type": "stream",
     "text": [
      "로또추첨번호: [3, 21, 16, 37, 14, 18]\n"
     ]
    }
   ],
   "source": [
    "lotto = []\n",
    "\n",
    "while True :\n",
    "    num = random.randrange(1, 46)\n",
    "    if num not in lotto :  # 중복되지 않게 하는 작업\n",
    "        lotto.append(num)\n",
    "    if len(lotto) >= 6 :\n",
    "        break\n",
    "\n",
    "print('로또추첨번호:', lotto)\n"
   ]
  },
  {
   "cell_type": "markdown",
   "id": "99ac878f",
   "metadata": {},
   "source": [
    "---\n",
    "### if문 응용"
   ]
  },
  {
   "cell_type": "code",
   "execution_count": 16,
   "id": "7d904e17",
   "metadata": {},
   "outputs": [
    {
     "name": "stdout",
     "output_type": "stream",
     "text": [
      "1. 입력한 수식 계산    2. 두 수 사이의 합계   :  2\n",
      "*** 첫번째 숫자를 입력하세요 : 1\n",
      "*** 두번째 숫자를 입력하세요 : 5\n",
      "1 + ... + 5는 15입니다.\n"
     ]
    }
   ],
   "source": [
    "## 변수 선언 부분\n",
    "select, answer, numStr, num1, num2, = 0, 0, \"\", 0, 0\n",
    "\n",
    "## 메인 코드 부분\n",
    "select = int(input(\"1. 입력한 수식 계산    2. 두 수 사이의 합계   :  \"))\n",
    "\n",
    "if select == 1 :\n",
    "    numStr = input(\"*** 수식을 입력하세요 : \")\n",
    "    answer = eval(numStr)\n",
    "    print(\"%s 결과는 %5.1f입니다.\" %(numStr, answer))\n",
    "elif select == 2 :\n",
    "    num1 = int(input(\"*** 첫번째 숫자를 입력하세요 : \"))\n",
    "    num2 = int(input(\"*** 두번째 숫자를 입력하세요 : \"))\n",
    "    for i in range(num1, num2+1):\n",
    "        answer += i\n",
    "    print(\"%d + ... + %d는 %d입니다.\" %(num1, num2, answer))\n",
    "else :\n",
    "    print(\"1 또는 2만 입력해야 합니다.\")"
   ]
  },
  {
   "cell_type": "code",
   "execution_count": null,
   "id": "f36de883",
   "metadata": {},
   "outputs": [],
   "source": []
  },
  {
   "cell_type": "code",
   "execution_count": null,
   "id": "775283cb",
   "metadata": {},
   "outputs": [],
   "source": []
  },
  {
   "cell_type": "code",
   "execution_count": null,
   "id": "25160fc3",
   "metadata": {},
   "outputs": [],
   "source": []
  },
  {
   "cell_type": "code",
   "execution_count": null,
   "id": "233f9ab7",
   "metadata": {},
   "outputs": [],
   "source": []
  },
  {
   "cell_type": "code",
   "execution_count": null,
   "id": "c5ddab7d",
   "metadata": {},
   "outputs": [],
   "source": []
  },
  {
   "cell_type": "code",
   "execution_count": null,
   "id": "60d11d57",
   "metadata": {},
   "outputs": [],
   "source": []
  },
  {
   "cell_type": "code",
   "execution_count": null,
   "id": "b1741b9e",
   "metadata": {},
   "outputs": [],
   "source": []
  },
  {
   "cell_type": "code",
   "execution_count": null,
   "id": "0ccb0ebb",
   "metadata": {},
   "outputs": [],
   "source": []
  }
 ],
 "metadata": {
  "kernelspec": {
   "display_name": "Python 3 (ipykernel)",
   "language": "python",
   "name": "python3"
  },
  "language_info": {
   "codemirror_mode": {
    "name": "ipython",
    "version": 3
   },
   "file_extension": ".py",
   "mimetype": "text/x-python",
   "name": "python",
   "nbconvert_exporter": "python",
   "pygments_lexer": "ipython3",
   "version": "3.11.4"
  }
 },
 "nbformat": 4,
 "nbformat_minor": 5
}
