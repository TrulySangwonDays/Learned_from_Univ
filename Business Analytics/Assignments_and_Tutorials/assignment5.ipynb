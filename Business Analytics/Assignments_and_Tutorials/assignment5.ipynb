{
 "cells": [
  {
   "cell_type": "markdown",
   "id": "7ae592c2",
   "metadata": {},
   "source": [
    "# Assignment 3. Wine Quality Prediction\n",
    "\n",
    "The assignment is to develop a regression model to predict wine quality score.\n",
    "\n",
    "The dataset consists of 11 predictor variables and one target variable, `quality`. Predictor variables are listed below:\n",
    "\n",
    "- fixed_acidity (고정 산성도)\n",
    "- volatile_acidity (휘발성 산성도)\n",
    "- critic_acid (구연산)\n",
    "- sugar (잔당)\n",
    "- chloride (염화물)\n",
    "- free_sulfer_dioxide (자유 이상화황)\n",
    "- total_sulfer_dioxide (총 이산화황)\n",
    "- density (밀도)\n",
    "- acidity (산도)\n",
    "- sulfate (황산염)\n",
    "- alcohol (알코올)\n",
    "\n",
    "Can you build a machine learning model to accurately predict the quality scores of given wines?\n",
    "\n",
    "First, let's load the data. The training and test data files are located in the same folder.\n",
    "- training data: `wine_quality_train.csv` (4,000 samples)\n",
    "- test data: `wine_quality_test.csv` (898 samples) "
   ]
  },
  {
   "cell_type": "code",
   "execution_count": 1,
   "id": "3cde9cb0",
   "metadata": {},
   "outputs": [
    {
     "data": {
      "text/html": [
       "<div>\n",
       "<style scoped>\n",
       "    .dataframe tbody tr th:only-of-type {\n",
       "        vertical-align: middle;\n",
       "    }\n",
       "\n",
       "    .dataframe tbody tr th {\n",
       "        vertical-align: top;\n",
       "    }\n",
       "\n",
       "    .dataframe thead th {\n",
       "        text-align: right;\n",
       "    }\n",
       "</style>\n",
       "<table border=\"1\" class=\"dataframe\">\n",
       "  <thead>\n",
       "    <tr style=\"text-align: right;\">\n",
       "      <th></th>\n",
       "      <th>fixed_acidity</th>\n",
       "      <th>volatile_acidity</th>\n",
       "      <th>critic_acid</th>\n",
       "      <th>sugar</th>\n",
       "      <th>chloride</th>\n",
       "      <th>free_sulfer_dioxide</th>\n",
       "      <th>total_sulfer_dioxide</th>\n",
       "      <th>density</th>\n",
       "      <th>acidity</th>\n",
       "      <th>sulfate</th>\n",
       "      <th>alcohol</th>\n",
       "      <th>quality</th>\n",
       "    </tr>\n",
       "  </thead>\n",
       "  <tbody>\n",
       "    <tr>\n",
       "      <th>0</th>\n",
       "      <td>7.0</td>\n",
       "      <td>0.27</td>\n",
       "      <td>0.36</td>\n",
       "      <td>20.7</td>\n",
       "      <td>0.045</td>\n",
       "      <td>45.0</td>\n",
       "      <td>170.0</td>\n",
       "      <td>1.0010</td>\n",
       "      <td>3.00</td>\n",
       "      <td>0.45</td>\n",
       "      <td>8.8</td>\n",
       "      <td>6</td>\n",
       "    </tr>\n",
       "    <tr>\n",
       "      <th>1</th>\n",
       "      <td>6.3</td>\n",
       "      <td>0.30</td>\n",
       "      <td>0.34</td>\n",
       "      <td>1.6</td>\n",
       "      <td>0.049</td>\n",
       "      <td>14.0</td>\n",
       "      <td>132.0</td>\n",
       "      <td>0.9940</td>\n",
       "      <td>3.30</td>\n",
       "      <td>0.49</td>\n",
       "      <td>9.5</td>\n",
       "      <td>6</td>\n",
       "    </tr>\n",
       "    <tr>\n",
       "      <th>2</th>\n",
       "      <td>8.1</td>\n",
       "      <td>0.28</td>\n",
       "      <td>0.40</td>\n",
       "      <td>6.9</td>\n",
       "      <td>0.050</td>\n",
       "      <td>30.0</td>\n",
       "      <td>97.0</td>\n",
       "      <td>0.9951</td>\n",
       "      <td>3.26</td>\n",
       "      <td>0.44</td>\n",
       "      <td>10.1</td>\n",
       "      <td>6</td>\n",
       "    </tr>\n",
       "    <tr>\n",
       "      <th>3</th>\n",
       "      <td>7.2</td>\n",
       "      <td>0.23</td>\n",
       "      <td>0.32</td>\n",
       "      <td>8.5</td>\n",
       "      <td>0.058</td>\n",
       "      <td>47.0</td>\n",
       "      <td>186.0</td>\n",
       "      <td>0.9956</td>\n",
       "      <td>3.19</td>\n",
       "      <td>0.40</td>\n",
       "      <td>9.9</td>\n",
       "      <td>6</td>\n",
       "    </tr>\n",
       "    <tr>\n",
       "      <th>4</th>\n",
       "      <td>7.2</td>\n",
       "      <td>0.23</td>\n",
       "      <td>0.32</td>\n",
       "      <td>8.5</td>\n",
       "      <td>0.058</td>\n",
       "      <td>47.0</td>\n",
       "      <td>186.0</td>\n",
       "      <td>0.9956</td>\n",
       "      <td>3.19</td>\n",
       "      <td>0.40</td>\n",
       "      <td>9.9</td>\n",
       "      <td>6</td>\n",
       "    </tr>\n",
       "  </tbody>\n",
       "</table>\n",
       "</div>"
      ],
      "text/plain": [
       "   fixed_acidity  volatile_acidity  critic_acid  sugar  chloride  \\\n",
       "0            7.0              0.27         0.36   20.7     0.045   \n",
       "1            6.3              0.30         0.34    1.6     0.049   \n",
       "2            8.1              0.28         0.40    6.9     0.050   \n",
       "3            7.2              0.23         0.32    8.5     0.058   \n",
       "4            7.2              0.23         0.32    8.5     0.058   \n",
       "\n",
       "   free_sulfer_dioxide  total_sulfer_dioxide  density  acidity  sulfate  \\\n",
       "0                 45.0                 170.0   1.0010     3.00     0.45   \n",
       "1                 14.0                 132.0   0.9940     3.30     0.49   \n",
       "2                 30.0                  97.0   0.9951     3.26     0.44   \n",
       "3                 47.0                 186.0   0.9956     3.19     0.40   \n",
       "4                 47.0                 186.0   0.9956     3.19     0.40   \n",
       "\n",
       "   alcohol  quality  \n",
       "0      8.8        6  \n",
       "1      9.5        6  \n",
       "2     10.1        6  \n",
       "3      9.9        6  \n",
       "4      9.9        6  "
      ]
     },
     "execution_count": 1,
     "metadata": {},
     "output_type": "execute_result"
    }
   ],
   "source": [
    "import pandas as pd\n",
    "\n",
    "df = pd.read_csv('wine_quality_train.csv')\n",
    "df.head()"
   ]
  },
  {
   "cell_type": "code",
   "execution_count": 2,
   "id": "c378fd1b",
   "metadata": {},
   "outputs": [
    {
     "data": {
      "text/plain": [
       "Index(['fixed_acidity', 'volatile_acidity', 'critic_acid', 'sugar', 'chloride',\n",
       "       'free_sulfer_dioxide', 'total_sulfer_dioxide', 'density', 'acidity',\n",
       "       'sulfate', 'alcohol', 'quality'],\n",
       "      dtype='object')"
      ]
     },
     "execution_count": 2,
     "metadata": {},
     "output_type": "execute_result"
    }
   ],
   "source": [
    "df.columns"
   ]
  },
  {
   "cell_type": "markdown",
   "id": "a8c3f74d",
   "metadata": {},
   "source": [
    "Define `X` and `y`. Here, `X` and `y` refers to the input and output of our classification models."
   ]
  },
  {
   "cell_type": "code",
   "execution_count": 3,
   "id": "cbd91e3d",
   "metadata": {},
   "outputs": [],
   "source": [
    "X = df.iloc[:, :-1] # or, df[['fixed_acidity', 'volatile_acidity', 'critic_acid', 'sugar', 'chloride','free_sulfer_dioxide', 'total_sulfer_dioxide', 'density', 'acidity', 'sulfate', 'alcohol', ]]\n",
    "y = df.iloc[:, -1]  # or, df['quality']"
   ]
  },
  {
   "cell_type": "markdown",
   "id": "c6d50d59",
   "metadata": {},
   "source": [
    "## Problem 1. Check the average quality value\n",
    "\n",
    "Check the average value of the wine qualitiy of the training data (`y` in the above cell)."
   ]
  },
  {
   "cell_type": "code",
   "execution_count": 8,
   "id": "48bae64f",
   "metadata": {},
   "outputs": [
    {
     "name": "stdout",
     "output_type": "stream",
     "text": [
      "average value of the win quality is : 5.9\n"
     ]
    }
   ],
   "source": [
    "# your code here\n",
    "# ...\n",
    "\n",
    "average_quality = y.mean()\n",
    "print('average value of the win quality is :', round(average_quality,1))\n",
    "\n"
   ]
  },
  {
   "cell_type": "markdown",
   "id": "92f27d4b",
   "metadata": {},
   "source": [
    "## Problem 2. Train Classifiers"
   ]
  },
  {
   "cell_type": "markdown",
   "id": "4dc1e731",
   "metadata": {},
   "source": [
    "First, split the data into training and validation data. This is necessary to avoid overfitting."
   ]
  },
  {
   "cell_type": "code",
   "execution_count": 9,
   "id": "fdde3072",
   "metadata": {},
   "outputs": [],
   "source": [
    "from sklearn.model_selection import train_test_split\n",
    "\n",
    "X_trn, X_val, y_trn, y_val = train_test_split(X, y, test_size=0.3, random_state=0)"
   ]
  },
  {
   "cell_type": "markdown",
   "id": "c56595a6",
   "metadata": {},
   "source": [
    "Apply feature normalization so that all features are considered equal."
   ]
  },
  {
   "cell_type": "code",
   "execution_count": 10,
   "id": "f63b9e23",
   "metadata": {},
   "outputs": [],
   "source": [
    "from sklearn.preprocessing import StandardScaler\n",
    "\n",
    "scaler = StandardScaler()\n",
    "scaler.fit(X_trn)\n",
    "\n",
    "X_trn_norm = scaler.transform(X_trn)\n",
    "X_val_norm = scaler.transform(X_val)"
   ]
  },
  {
   "cell_type": "markdown",
   "id": "d99a9d36",
   "metadata": {},
   "source": [
    "- Train decision tree,\n",
    "- random forest,\n",
    "- lasso regressiors\n",
    "using the normalized training data.\n",
    "\n",
    "And check the training and validation performances of the model\n",
    "using the root mean squared error (RMSE) measure.\n",
    "\n",
    "* The choice of model parameters (e.g., `max_depth` in decision tree, `n_estimators` in random forest, `alpha` (C) in lasso) is up to you :) Note that the models have their default values (e.g., `max_depth=3`, `n_estimators=100`, `alpha=1`) I recommend you to search over some parameter candidates to find a good model with low validation error!"
   ]
  },
  {
   "cell_type": "code",
   "execution_count": 11,
   "id": "499d4855",
   "metadata": {
    "scrolled": true
   },
   "outputs": [
    {
     "name": "stdout",
     "output_type": "stream",
     "text": [
      "Model: DecisionTreeRegressor(max_depth=3) | Training RMSE: 0.766 | Validation RMSE: 0.781\n",
      "Model: DecisionTreeRegressor(max_depth=5) | Training RMSE: 0.713 | Validation RMSE: 0.774\n",
      "Model: RandomForestRegressor(n_estimators=10) | Training RMSE: 0.289 | Validation RMSE: 0.656\n",
      "Model: RandomForestRegressor() | Training RMSE: 0.244 | Validation RMSE: 0.629\n",
      "Model: Lasso(alpha=0.1) | Training RMSE: 0.802 | Validation RMSE: 0.805\n",
      "Model: Lasso(alpha=1) | Training RMSE: 0.886 | Validation RMSE: 0.894\n",
      "Model: Lasso(alpha=10) | Training RMSE: 0.908 | Validation RMSE: 0.914\n",
      "Model: Lasso(alpha=100) | Training RMSE: 0.908 | Validation RMSE: 0.914\n"
     ]
    }
   ],
   "source": [
    "# your code here\n",
    "# ...\n",
    "from sklearn.tree import DecisionTreeRegressor\n",
    "from sklearn.ensemble import RandomForestRegressor\n",
    "from sklearn.linear_model import Lasso\n",
    "\n",
    "from sklearn.metrics import mean_squared_error\n",
    "\n",
    "regr_dt3 = DecisionTreeRegressor(max_depth=3)\n",
    "regr_dt5 = DecisionTreeRegressor(max_depth=5)\n",
    "\n",
    "regr_rf10= RandomForestRegressor(n_estimators=10)\n",
    "regr_rf100 = RandomForestRegressor(n_estimators=100)\n",
    "\n",
    "regr_l1_01 = Lasso(alpha=0.1) #. 베타의 절대값을 최소화\n",
    "regr_l1_1 = Lasso(alpha=1)\n",
    "regr_l1_10 = Lasso(alpha=10)\n",
    "regr_l1_100 = Lasso(alpha=100)\n",
    "\n",
    "for regr in [regr_dt3, regr_dt5,\n",
    "             regr_rf10, regr_rf100,\n",
    "             regr_l1_01, regr_l1_1, regr_l1_10, regr_l1_100]:\n",
    "    regr.fit(X_trn, y_trn)\n",
    "    \n",
    "    y_trn_pred = regr.predict(X_trn)\n",
    "    y_val_pred = regr.predict(X_val)\n",
    "    \n",
    "    trn_error = mean_squared_error(y_trn, y_trn_pred, squared=False) #RMSE  만약 True로 하면 MSE\n",
    "    val_error = mean_squared_error(y_val, y_val_pred, squared=False)\n",
    "    \n",
    "    print('Model: {} | Training RMSE: {:.3f} | Validation RMSE: {:.3f}'.format(str(regr), trn_error, val_error))    "
   ]
  },
  {
   "cell_type": "markdown",
   "id": "64f295b6",
   "metadata": {},
   "source": [
    "## Problem 3. Feature importance\n",
    "\n",
    "Remember that linear regression, decision tree, and random forest provide information about which input feature is important to predict the outcome.\n",
    "\n",
    "In our problem of wine quality prediction, which feature is important? explore the model and describe your opinion."
   ]
  },
  {
   "cell_type": "code",
   "execution_count": 37,
   "id": "7cc57deb",
   "metadata": {},
   "outputs": [
    {
     "name": "stdout",
     "output_type": "stream",
     "text": [
      "DecisionTree_5_feature_importances : [0.02910674 0.16198927 0.01202003 0.03296747 0.00769547 0.12498285\n",
      " 0.0372609  0.01964373 0.0264061  0.01081375 0.5371137 ]\n",
      "RandomTree_100_feature_importances : [0.07014017 0.11764998 0.05653432 0.06301356 0.05912445 0.11525592\n",
      " 0.07851546 0.06113374 0.06768404 0.06511797 0.24583039]\n",
      "Lasso1_01_Coef : [-0.         -0.          0.          0.00265695 -0.          0.01002722\n",
      " -0.00271513 -0.          0.          0.          0.26485677]\n"
     ]
    }
   ],
   "source": [
    "regr_dt5.feature_importances_\n",
    "regr_rf100.feature_importances_\n",
    "regr_l1_01.coef_\n",
    "\n",
    "print(\"DecisionTree_5_feature_importances :\", regr_dt5.feature_importances_)\n",
    "print(\"RandomTree_100_feature_importances :\", regr_rf100.feature_importances_)\n",
    "print(\"Lasso1_01_Coef :\",regr_l1_01.coef_)"
   ]
  },
  {
   "cell_type": "code",
   "execution_count": 25,
   "id": "8a7e88d2",
   "metadata": {},
   "outputs": [
    {
     "data": {
      "text/plain": [
       "array([0.06795897, 0.11706738, 0.05757126, 0.06153891, 0.06009007,\n",
       "       0.11804814, 0.07453654, 0.06022947, 0.06944703, 0.06616705,\n",
       "       0.2473452 ])"
      ]
     },
     "execution_count": 25,
     "metadata": {},
     "output_type": "execute_result"
    }
   ],
   "source": []
  },
  {
   "cell_type": "code",
   "execution_count": 19,
   "id": "c7738e23",
   "metadata": {},
   "outputs": [
    {
     "data": {
      "text/plain": [
       "array([-0.        , -0.        ,  0.        ,  0.00265695, -0.        ,\n",
       "        0.01002722, -0.00271513, -0.        ,  0.        ,  0.        ,\n",
       "        0.26485677])"
      ]
     },
     "execution_count": 19,
     "metadata": {},
     "output_type": "execute_result"
    }
   ],
   "source": [
    "\n"
   ]
  },
  {
   "cell_type": "code",
   "execution_count": 26,
   "id": "c4a2b5e0",
   "metadata": {},
   "outputs": [
    {
     "data": {
      "text/plain": [
       "Index(['fixed_acidity', 'volatile_acidity', 'critic_acid', 'sugar', 'chloride',\n",
       "       'free_sulfer_dioxide', 'total_sulfer_dioxide', 'density', 'acidity',\n",
       "       'sulfate', 'alcohol'],\n",
       "      dtype='object')"
      ]
     },
     "execution_count": 26,
     "metadata": {},
     "output_type": "execute_result"
    }
   ],
   "source": [
    "X.columns"
   ]
  },
  {
   "cell_type": "code",
   "execution_count": 27,
   "id": "b031e459",
   "metadata": {
    "scrolled": true
   },
   "outputs": [
    {
     "name": "stdout",
     "output_type": "stream",
     "text": [
      "fixed_acidity  : 0.03(lr),\t 0.07(l1),\t -0.00(l2)\n",
      "volatile_acidity: 0.16(lr),\t 0.12(l1),\t -0.00(l2)\n",
      "critic_acid    : 0.02(lr),\t 0.06(l1),\t 0.00(l2)\n",
      "sugar          : 0.03(lr),\t 0.06(l1),\t 0.00(l2)\n",
      "chloride       : 0.01(lr),\t 0.06(l1),\t -0.00(l2)\n",
      "free_sulfer_dioxide: 0.13(lr),\t 0.12(l1),\t 0.01(l2)\n",
      "total_sulfer_dioxide: 0.04(lr),\t 0.07(l1),\t -0.00(l2)\n",
      "density        : 0.02(lr),\t 0.06(l1),\t -0.00(l2)\n",
      "acidity        : 0.03(lr),\t 0.07(l1),\t 0.00(l2)\n",
      "sulfate        : 0.01(lr),\t 0.07(l1),\t 0.00(l2)\n",
      "alcohol        : 0.54(lr),\t 0.25(l1),\t 0.26(l2)\n"
     ]
    }
   ],
   "source": [
    "for col, a, b, c in zip(X.columns, \n",
    "                        regr_dt5.feature_importances_, \n",
    "                        regr_rf100.feature_importances_, \n",
    "                        regr_l1_01.coef_):\n",
    "    print('{:<15}: {:.2f}(lr),\\t {:.2f}(l1),\\t {:.2f}(l2)'.format(col, a, b, c))"
   ]
  },
  {
   "cell_type": "code",
   "execution_count": 29,
   "id": "f2bfd446",
   "metadata": {},
   "outputs": [
    {
     "data": {
      "image/png": "[encoded data removed]",
      "text/plain": [
       "<Figure size 640x480 with 1 Axes>"
      ]
     },
     "metadata": {},
     "output_type": "display_data"
    },
    {
     "data": {
      "image/png": "[encoded data removed]",
      "text/plain": [
       "<Figure size 640x480 with 1 Axes>"
      ]
     },
     "metadata": {},
     "output_type": "display_data"
    },
    {
     "data": {
      "image/png": "[encoded data removed]",
      "text/plain": [
       "<Figure size 640x480 with 1 Axes>"
      ]
     },
     "metadata": {},
     "output_type": "display_data"
    }
   ],
   "source": [
    "from matplotlib import pyplot as plt\n",
    "\n",
    "plt.bar(X.columns, regr_dt5.feature_importances_)\n",
    "plt.xticks(rotation=90)\n",
    "plt.ylabel('Coefficient value')\n",
    "plt.title('DecisionTree_5')\n",
    "plt.show()\n",
    "\n",
    "plt.bar(X.columns, regr_rf100.feature_importances_)\n",
    "plt.xticks(rotation=90)\n",
    "plt.ylabel('Coefficient value')\n",
    "plt.title('RandomForest_100')\n",
    "plt.show()\n",
    "\n",
    "plt.bar(X.columns, regr_l1_01.coef_)\n",
    "plt.xticks(rotation=90)\n",
    "plt.ylabel('Coefficient value')\n",
    "plt.title('Lasso (L1) Linear Regression 0.1')\n",
    "plt.show()"
   ]
  },
  {
   "cell_type": "markdown",
   "id": "d9f36a9a",
   "metadata": {},
   "source": [
    "## Problem 4. Check model performance on new data (test performance)\n",
    "\n",
    "In this month, 898 new wine samples arrived in our shop, so you want to check your model performance on new samples.\n",
    "The wine quality \"labels (answers)\" of new wines were obtained from experienced wine critics in the shop.\n",
    "\n",
    "The test data named `wine_quality_test.csv` is located in the same forder."
   ]
  },
  {
   "cell_type": "code",
   "execution_count": 30,
   "id": "581c8e18",
   "metadata": {},
   "outputs": [
    {
     "data": {
      "text/html": [
       "<div>\n",
       "<style scoped>\n",
       "    .dataframe tbody tr th:only-of-type {\n",
       "        vertical-align: middle;\n",
       "    }\n",
       "\n",
       "    .dataframe tbody tr th {\n",
       "        vertical-align: top;\n",
       "    }\n",
       "\n",
       "    .dataframe thead th {\n",
       "        text-align: right;\n",
       "    }\n",
       "</style>\n",
       "<table border=\"1\" class=\"dataframe\">\n",
       "  <thead>\n",
       "    <tr style=\"text-align: right;\">\n",
       "      <th></th>\n",
       "      <th>fixed_acidity</th>\n",
       "      <th>volatile_acidity</th>\n",
       "      <th>critic_acid</th>\n",
       "      <th>sugar</th>\n",
       "      <th>chloride</th>\n",
       "      <th>free_sulfer_dioxide</th>\n",
       "      <th>total_sulfer_dioxide</th>\n",
       "      <th>density</th>\n",
       "      <th>acidity</th>\n",
       "      <th>sulfate</th>\n",
       "      <th>alcohol</th>\n",
       "      <th>quality</th>\n",
       "    </tr>\n",
       "  </thead>\n",
       "  <tbody>\n",
       "    <tr>\n",
       "      <th>0</th>\n",
       "      <td>6.4</td>\n",
       "      <td>0.24</td>\n",
       "      <td>0.49</td>\n",
       "      <td>5.8</td>\n",
       "      <td>0.053</td>\n",
       "      <td>25.0</td>\n",
       "      <td>120.0</td>\n",
       "      <td>0.99420</td>\n",
       "      <td>3.01</td>\n",
       "      <td>0.98</td>\n",
       "      <td>10.5</td>\n",
       "      <td>6</td>\n",
       "    </tr>\n",
       "    <tr>\n",
       "      <th>1</th>\n",
       "      <td>6.4</td>\n",
       "      <td>0.25</td>\n",
       "      <td>0.57</td>\n",
       "      <td>1.0</td>\n",
       "      <td>0.062</td>\n",
       "      <td>21.0</td>\n",
       "      <td>122.0</td>\n",
       "      <td>0.99238</td>\n",
       "      <td>3.00</td>\n",
       "      <td>0.40</td>\n",
       "      <td>9.5</td>\n",
       "      <td>5</td>\n",
       "    </tr>\n",
       "    <tr>\n",
       "      <th>2</th>\n",
       "      <td>6.1</td>\n",
       "      <td>0.25</td>\n",
       "      <td>0.48</td>\n",
       "      <td>15.8</td>\n",
       "      <td>0.052</td>\n",
       "      <td>25.0</td>\n",
       "      <td>94.0</td>\n",
       "      <td>0.99782</td>\n",
       "      <td>3.07</td>\n",
       "      <td>0.45</td>\n",
       "      <td>9.2</td>\n",
       "      <td>6</td>\n",
       "    </tr>\n",
       "    <tr>\n",
       "      <th>3</th>\n",
       "      <td>6.8</td>\n",
       "      <td>0.14</td>\n",
       "      <td>0.35</td>\n",
       "      <td>1.5</td>\n",
       "      <td>0.047</td>\n",
       "      <td>40.0</td>\n",
       "      <td>117.0</td>\n",
       "      <td>0.99111</td>\n",
       "      <td>3.07</td>\n",
       "      <td>0.72</td>\n",
       "      <td>11.1</td>\n",
       "      <td>6</td>\n",
       "    </tr>\n",
       "    <tr>\n",
       "      <th>4</th>\n",
       "      <td>6.5</td>\n",
       "      <td>0.38</td>\n",
       "      <td>0.26</td>\n",
       "      <td>5.2</td>\n",
       "      <td>0.042</td>\n",
       "      <td>33.0</td>\n",
       "      <td>112.0</td>\n",
       "      <td>0.99067</td>\n",
       "      <td>3.06</td>\n",
       "      <td>0.50</td>\n",
       "      <td>12.3</td>\n",
       "      <td>7</td>\n",
       "    </tr>\n",
       "    <tr>\n",
       "      <th>...</th>\n",
       "      <td>...</td>\n",
       "      <td>...</td>\n",
       "      <td>...</td>\n",
       "      <td>...</td>\n",
       "      <td>...</td>\n",
       "      <td>...</td>\n",
       "      <td>...</td>\n",
       "      <td>...</td>\n",
       "      <td>...</td>\n",
       "      <td>...</td>\n",
       "      <td>...</td>\n",
       "      <td>...</td>\n",
       "    </tr>\n",
       "    <tr>\n",
       "      <th>893</th>\n",
       "      <td>6.2</td>\n",
       "      <td>0.21</td>\n",
       "      <td>0.29</td>\n",
       "      <td>1.6</td>\n",
       "      <td>0.039</td>\n",
       "      <td>24.0</td>\n",
       "      <td>92.0</td>\n",
       "      <td>0.99114</td>\n",
       "      <td>3.27</td>\n",
       "      <td>0.50</td>\n",
       "      <td>11.2</td>\n",
       "      <td>6</td>\n",
       "    </tr>\n",
       "    <tr>\n",
       "      <th>894</th>\n",
       "      <td>6.6</td>\n",
       "      <td>0.32</td>\n",
       "      <td>0.36</td>\n",
       "      <td>8.0</td>\n",
       "      <td>0.047</td>\n",
       "      <td>57.0</td>\n",
       "      <td>168.0</td>\n",
       "      <td>0.99490</td>\n",
       "      <td>3.15</td>\n",
       "      <td>0.46</td>\n",
       "      <td>9.6</td>\n",
       "      <td>5</td>\n",
       "    </tr>\n",
       "    <tr>\n",
       "      <th>895</th>\n",
       "      <td>6.5</td>\n",
       "      <td>0.24</td>\n",
       "      <td>0.19</td>\n",
       "      <td>1.2</td>\n",
       "      <td>0.041</td>\n",
       "      <td>30.0</td>\n",
       "      <td>111.0</td>\n",
       "      <td>0.99254</td>\n",
       "      <td>2.99</td>\n",
       "      <td>0.46</td>\n",
       "      <td>9.4</td>\n",
       "      <td>6</td>\n",
       "    </tr>\n",
       "    <tr>\n",
       "      <th>896</th>\n",
       "      <td>5.5</td>\n",
       "      <td>0.29</td>\n",
       "      <td>0.30</td>\n",
       "      <td>1.1</td>\n",
       "      <td>0.022</td>\n",
       "      <td>20.0</td>\n",
       "      <td>110.0</td>\n",
       "      <td>0.98869</td>\n",
       "      <td>3.34</td>\n",
       "      <td>0.38</td>\n",
       "      <td>12.8</td>\n",
       "      <td>7</td>\n",
       "    </tr>\n",
       "    <tr>\n",
       "      <th>897</th>\n",
       "      <td>6.0</td>\n",
       "      <td>0.21</td>\n",
       "      <td>0.38</td>\n",
       "      <td>0.8</td>\n",
       "      <td>0.020</td>\n",
       "      <td>22.0</td>\n",
       "      <td>98.0</td>\n",
       "      <td>0.98941</td>\n",
       "      <td>3.26</td>\n",
       "      <td>0.32</td>\n",
       "      <td>11.8</td>\n",
       "      <td>6</td>\n",
       "    </tr>\n",
       "  </tbody>\n",
       "</table>\n",
       "<p>898 rows × 12 columns</p>\n",
       "</div>"
      ],
      "text/plain": [
       "     fixed_acidity  volatile_acidity  critic_acid  sugar  chloride  \\\n",
       "0              6.4              0.24         0.49    5.8     0.053   \n",
       "1              6.4              0.25         0.57    1.0     0.062   \n",
       "2              6.1              0.25         0.48   15.8     0.052   \n",
       "3              6.8              0.14         0.35    1.5     0.047   \n",
       "4              6.5              0.38         0.26    5.2     0.042   \n",
       "..             ...               ...          ...    ...       ...   \n",
       "893            6.2              0.21         0.29    1.6     0.039   \n",
       "894            6.6              0.32         0.36    8.0     0.047   \n",
       "895            6.5              0.24         0.19    1.2     0.041   \n",
       "896            5.5              0.29         0.30    1.1     0.022   \n",
       "897            6.0              0.21         0.38    0.8     0.020   \n",
       "\n",
       "     free_sulfer_dioxide  total_sulfer_dioxide  density  acidity  sulfate  \\\n",
       "0                   25.0                 120.0  0.99420     3.01     0.98   \n",
       "1                   21.0                 122.0  0.99238     3.00     0.40   \n",
       "2                   25.0                  94.0  0.99782     3.07     0.45   \n",
       "3                   40.0                 117.0  0.99111     3.07     0.72   \n",
       "4                   33.0                 112.0  0.99067     3.06     0.50   \n",
       "..                   ...                   ...      ...      ...      ...   \n",
       "893                 24.0                  92.0  0.99114     3.27     0.50   \n",
       "894                 57.0                 168.0  0.99490     3.15     0.46   \n",
       "895                 30.0                 111.0  0.99254     2.99     0.46   \n",
       "896                 20.0                 110.0  0.98869     3.34     0.38   \n",
       "897                 22.0                  98.0  0.98941     3.26     0.32   \n",
       "\n",
       "     alcohol  quality  \n",
       "0       10.5        6  \n",
       "1        9.5        5  \n",
       "2        9.2        6  \n",
       "3       11.1        6  \n",
       "4       12.3        7  \n",
       "..       ...      ...  \n",
       "893     11.2        6  \n",
       "894      9.6        5  \n",
       "895      9.4        6  \n",
       "896     12.8        7  \n",
       "897     11.8        6  \n",
       "\n",
       "[898 rows x 12 columns]"
      ]
     },
     "execution_count": 30,
     "metadata": {},
     "output_type": "execute_result"
    }
   ],
   "source": [
    "df_test = pd.read_csv('wine_quality_test.csv')\n",
    "df_test"
   ]
  },
  {
   "cell_type": "markdown",
   "id": "ee3e242c",
   "metadata": {},
   "source": [
    "Define `X` and `y` of test data."
   ]
  },
  {
   "cell_type": "code",
   "execution_count": 31,
   "id": "9097ae8d",
   "metadata": {},
   "outputs": [],
   "source": [
    "X_tst = df_test.iloc[:, :-1]\n",
    "y_tst = df_test.iloc[:, -1]"
   ]
  },
  {
   "cell_type": "markdown",
   "id": "1f2209ee",
   "metadata": {},
   "source": [
    "Don't forget to normalize the input data `X_tst` using `scaler` obtained from the training data!"
   ]
  },
  {
   "cell_type": "code",
   "execution_count": 33,
   "id": "7b8b46be",
   "metadata": {},
   "outputs": [],
   "source": [
    "X_tst_norm = scaler.transform(X_tst)"
   ]
  },
  {
   "cell_type": "markdown",
   "id": "8f7fdd1a",
   "metadata": {},
   "source": [
    "Test your regressiors on the test data and get RMSE scores of the models obtained in the Problem 2."
   ]
  },
  {
   "cell_type": "code",
   "execution_count": 34,
   "id": "03711757",
   "metadata": {},
   "outputs": [
    {
     "name": "stdout",
     "output_type": "stream",
     "text": [
      "Model: DecisionTreeRegressor(max_depth=3) | Training RMSE: 0.766 | Test RMSE: 0.683\n",
      "Model: DecisionTreeRegressor(max_depth=5) | Training RMSE: 0.713 | Test RMSE: 0.671\n",
      "Model: RandomForestRegressor(n_estimators=10) | Training RMSE: 0.293 | Test RMSE: 0.692\n",
      "Model: RandomForestRegressor() | Training RMSE: 0.245 | Test RMSE: 0.649\n",
      "Model: Lasso(alpha=0.1) | Training RMSE: 0.802 | Test RMSE: 0.726\n",
      "Model: Lasso(alpha=1) | Training RMSE: 0.886 | Test RMSE: 0.751\n",
      "Model: Lasso(alpha=10) | Training RMSE: 0.908 | Test RMSE: 0.768\n",
      "Model: Lasso(alpha=100) | Training RMSE: 0.908 | Test RMSE: 0.768\n"
     ]
    }
   ],
   "source": [
    "# your code here\n",
    "# ...\n",
    "\n",
    "regr_dt3 = DecisionTreeRegressor(max_depth=3)\n",
    "regr_dt5 = DecisionTreeRegressor(max_depth=5)\n",
    "\n",
    "regr_rf10= RandomForestRegressor(n_estimators=10)\n",
    "regr_rf100 = RandomForestRegressor(n_estimators=100)\n",
    "\n",
    "regr_l1_01 = Lasso(alpha=0.1) #. 베타의 절대값을 최소화\n",
    "regr_l1_1 = Lasso(alpha=1)\n",
    "regr_l1_10 = Lasso(alpha=10)\n",
    "regr_l1_100 = Lasso(alpha=100)\n",
    "\n",
    "for regr in [regr_dt3, regr_dt5,\n",
    "             regr_rf10, regr_rf100,\n",
    "             regr_l1_01, regr_l1_1, regr_l1_10, regr_l1_100]:\n",
    "    regr.fit(X_trn, y_trn)\n",
    "    \n",
    "    y_trn_pred = regr.predict(X_trn)\n",
    "    y_tst_pred = regr.predict(X_tst)\n",
    "    \n",
    "    trn_error = mean_squared_error(y_trn, y_trn_pred, squared=False) #RMSE  만약 True로 하면 MSE\n",
    "    tst_error = mean_squared_error(y_tst, y_tst_pred, squared=False)\n",
    "    \n",
    "    print('Model: {} | Training RMSE: {:.3f} | Test RMSE: {:.3f}'.format(str(regr), trn_error, tst_error))    "
   ]
  },
  {
   "cell_type": "code",
   "execution_count": null,
   "id": "75f78987",
   "metadata": {},
   "outputs": [],
   "source": []
  }
 ],
 "metadata": {
  "kernelspec": {
   "display_name": "Python 3 (ipykernel)",
   "language": "python",
   "name": "python3"
  },
  "language_info": {
   "codemirror_mode": {
    "name": "ipython",
    "version": 3
   },
   "file_extension": ".py",
   "mimetype": "text/x-python",
   "name": "python",
   "nbconvert_exporter": "python",
   "pygments_lexer": "ipython3",
   "version": "3.11.4"
  }
 },
 "nbformat": 4,
 "nbformat_minor": 5
}
