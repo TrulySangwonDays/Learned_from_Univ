{
 "cells": [
  {
   "cell_type": "code",
   "execution_count": 4,
   "id": "78fd0c58",
   "metadata": {},
   "outputs": [
    {
     "ename": "AttributeError",
     "evalue": "'str' object has no attribute 'capabilities'",
     "output_type": "error",
     "traceback": [
      "\u001b[1;31m---------------------------------------------------------------------------\u001b[0m",
      "\u001b[1;31mAttributeError\u001b[0m                            Traceback (most recent call last)",
      "File \u001b[1;32mc:\\Users\\01wkd\\anaconda3\\Lib\\site-packages\\selenium\\webdriver\\common\\driver_finder.py:38\u001b[0m, in \u001b[0;36mDriverFinder.get_path\u001b[1;34m(service, options)\u001b[0m\n\u001b[0;32m     37\u001b[0m \u001b[38;5;28;01mtry\u001b[39;00m:\n\u001b[1;32m---> 38\u001b[0m     path \u001b[38;5;241m=\u001b[39m SeleniumManager()\u001b[38;5;241m.\u001b[39mdriver_location(options) \u001b[38;5;28;01mif\u001b[39;00m path \u001b[38;5;129;01mis\u001b[39;00m \u001b[38;5;28;01mNone\u001b[39;00m \u001b[38;5;28;01melse\u001b[39;00m path\n\u001b[0;32m     39\u001b[0m \u001b[38;5;28;01mexcept\u001b[39;00m \u001b[38;5;167;01mException\u001b[39;00m \u001b[38;5;28;01mas\u001b[39;00m err:\n",
      "File \u001b[1;32mc:\\Users\\01wkd\\anaconda3\\Lib\\site-packages\\selenium\\webdriver\\common\\selenium_manager.py:75\u001b[0m, in \u001b[0;36mSeleniumManager.driver_location\u001b[1;34m(self, options)\u001b[0m\n\u001b[0;32m     68\u001b[0m \u001b[38;5;250m\u001b[39m\u001b[38;5;124;03m\"\"\"Determines the path of the correct driver.\u001b[39;00m\n\u001b[0;32m     69\u001b[0m \n\u001b[0;32m     70\u001b[0m \u001b[38;5;124;03m:Args:\u001b[39;00m\n\u001b[0;32m     71\u001b[0m \u001b[38;5;124;03m - browser: which browser to get the driver path for.\u001b[39;00m\n\u001b[0;32m     72\u001b[0m \u001b[38;5;124;03m:Returns: The driver path to use\u001b[39;00m\n\u001b[0;32m     73\u001b[0m \u001b[38;5;124;03m\"\"\"\u001b[39;00m\n\u001b[1;32m---> 75\u001b[0m browser \u001b[38;5;241m=\u001b[39m options\u001b[38;5;241m.\u001b[39mcapabilities[\u001b[38;5;124m\"\u001b[39m\u001b[38;5;124mbrowserName\u001b[39m\u001b[38;5;124m\"\u001b[39m]\n\u001b[0;32m     77\u001b[0m args \u001b[38;5;241m=\u001b[39m [\u001b[38;5;28mstr\u001b[39m(\u001b[38;5;28mself\u001b[39m\u001b[38;5;241m.\u001b[39mget_binary()), \u001b[38;5;124m\"\u001b[39m\u001b[38;5;124m--browser\u001b[39m\u001b[38;5;124m\"\u001b[39m, browser]\n",
      "\u001b[1;31mAttributeError\u001b[0m: 'str' object has no attribute 'capabilities'",
      "\nDuring handling of the above exception, another exception occurred:\n",
      "\u001b[1;31mAttributeError\u001b[0m                            Traceback (most recent call last)",
      "Cell \u001b[1;32mIn[4], line 2\u001b[0m\n\u001b[0;32m      1\u001b[0m \u001b[38;5;28;01mfrom\u001b[39;00m \u001b[38;5;21;01mselenium\u001b[39;00m \u001b[38;5;28;01mimport\u001b[39;00m webdriver\n\u001b[1;32m----> 2\u001b[0m driver \u001b[38;5;241m=\u001b[39m webdriver\u001b[38;5;241m.\u001b[39mChrome (\u001b[38;5;124m'\u001b[39m\u001b[38;5;124mchromedriver.exe\u001b[39m\u001b[38;5;124m'\u001b[39m)\n\u001b[0;32m      3\u001b[0m driver\u001b[38;5;241m.\u001b[39mimplicitly_wait (\u001b[38;5;241m3\u001b[39m)\n",
      "File \u001b[1;32mc:\\Users\\01wkd\\anaconda3\\Lib\\site-packages\\selenium\\webdriver\\chrome\\webdriver.py:45\u001b[0m, in \u001b[0;36mWebDriver.__init__\u001b[1;34m(self, options, service, keep_alive)\u001b[0m\n\u001b[0;32m     42\u001b[0m service \u001b[38;5;241m=\u001b[39m service \u001b[38;5;28;01mif\u001b[39;00m service \u001b[38;5;28;01melse\u001b[39;00m Service()\n\u001b[0;32m     43\u001b[0m options \u001b[38;5;241m=\u001b[39m options \u001b[38;5;28;01mif\u001b[39;00m options \u001b[38;5;28;01melse\u001b[39;00m Options()\n\u001b[1;32m---> 45\u001b[0m \u001b[38;5;28msuper\u001b[39m()\u001b[38;5;241m.\u001b[39m\u001b[38;5;21m__init__\u001b[39m(\n\u001b[0;32m     46\u001b[0m     DesiredCapabilities\u001b[38;5;241m.\u001b[39mCHROME[\u001b[38;5;124m\"\u001b[39m\u001b[38;5;124mbrowserName\u001b[39m\u001b[38;5;124m\"\u001b[39m],\n\u001b[0;32m     47\u001b[0m     \u001b[38;5;124m\"\u001b[39m\u001b[38;5;124mgoog\u001b[39m\u001b[38;5;124m\"\u001b[39m,\n\u001b[0;32m     48\u001b[0m     options,\n\u001b[0;32m     49\u001b[0m     service,\n\u001b[0;32m     50\u001b[0m     keep_alive,\n\u001b[0;32m     51\u001b[0m )\n",
      "File \u001b[1;32mc:\\Users\\01wkd\\anaconda3\\Lib\\site-packages\\selenium\\webdriver\\chromium\\webdriver.py:51\u001b[0m, in \u001b[0;36mChromiumDriver.__init__\u001b[1;34m(self, browser_name, vendor_prefix, options, service, keep_alive)\u001b[0m\n\u001b[0;32m     47\u001b[0m \u001b[38;5;28mself\u001b[39m\u001b[38;5;241m.\u001b[39mvendor_prefix \u001b[38;5;241m=\u001b[39m vendor_prefix\n\u001b[0;32m     49\u001b[0m \u001b[38;5;28mself\u001b[39m\u001b[38;5;241m.\u001b[39mservice \u001b[38;5;241m=\u001b[39m service\n\u001b[1;32m---> 51\u001b[0m \u001b[38;5;28mself\u001b[39m\u001b[38;5;241m.\u001b[39mservice\u001b[38;5;241m.\u001b[39mpath \u001b[38;5;241m=\u001b[39m DriverFinder\u001b[38;5;241m.\u001b[39mget_path(\u001b[38;5;28mself\u001b[39m\u001b[38;5;241m.\u001b[39mservice, options)\n\u001b[0;32m     53\u001b[0m \u001b[38;5;28mself\u001b[39m\u001b[38;5;241m.\u001b[39mservice\u001b[38;5;241m.\u001b[39mstart()\n\u001b[0;32m     55\u001b[0m \u001b[38;5;28;01mtry\u001b[39;00m:\n",
      "File \u001b[1;32mc:\\Users\\01wkd\\anaconda3\\Lib\\site-packages\\selenium\\webdriver\\common\\driver_finder.py:40\u001b[0m, in \u001b[0;36mDriverFinder.get_path\u001b[1;34m(service, options)\u001b[0m\n\u001b[0;32m     38\u001b[0m     path \u001b[38;5;241m=\u001b[39m SeleniumManager()\u001b[38;5;241m.\u001b[39mdriver_location(options) \u001b[38;5;28;01mif\u001b[39;00m path \u001b[38;5;129;01mis\u001b[39;00m \u001b[38;5;28;01mNone\u001b[39;00m \u001b[38;5;28;01melse\u001b[39;00m path\n\u001b[0;32m     39\u001b[0m \u001b[38;5;28;01mexcept\u001b[39;00m \u001b[38;5;167;01mException\u001b[39;00m \u001b[38;5;28;01mas\u001b[39;00m err:\n\u001b[1;32m---> 40\u001b[0m     msg \u001b[38;5;241m=\u001b[39m \u001b[38;5;124mf\u001b[39m\u001b[38;5;124m\"\u001b[39m\u001b[38;5;124mUnable to obtain driver for \u001b[39m\u001b[38;5;132;01m{\u001b[39;00moptions\u001b[38;5;241m.\u001b[39mcapabilities[\u001b[38;5;124m'\u001b[39m\u001b[38;5;124mbrowserName\u001b[39m\u001b[38;5;124m'\u001b[39m]\u001b[38;5;132;01m}\u001b[39;00m\u001b[38;5;124m using Selenium Manager.\u001b[39m\u001b[38;5;124m\"\u001b[39m\n\u001b[0;32m     41\u001b[0m     \u001b[38;5;28;01mraise\u001b[39;00m NoSuchDriverException(msg) \u001b[38;5;28;01mfrom\u001b[39;00m \u001b[38;5;21;01merr\u001b[39;00m\n\u001b[0;32m     43\u001b[0m \u001b[38;5;28;01mif\u001b[39;00m path \u001b[38;5;129;01mis\u001b[39;00m \u001b[38;5;28;01mNone\u001b[39;00m \u001b[38;5;129;01mor\u001b[39;00m \u001b[38;5;129;01mnot\u001b[39;00m Path(path)\u001b[38;5;241m.\u001b[39mis_file():\n",
      "\u001b[1;31mAttributeError\u001b[0m: 'str' object has no attribute 'capabilities'"
     ]
    }
   ],
   "source": [
    "from selenium import webdriver\n",
    "driver = webdriver.Chrome ('chromedriver.exe')\n",
    "driver.implicitly_wait (3) # waiting 3 seconds"
   ]
  },
  {
   "cell_type": "code",
   "execution_count": 7,
   "id": "2a54a7e4",
   "metadata": {},
   "outputs": [],
   "source": [
    "driver.get('https://entertain.naver.com/photo')"
   ]
  },
  {
   "cell_type": "code",
   "execution_count": null,
   "id": "609c70a6",
   "metadata": {},
   "outputs": [],
   "source": [
    "url_list = []\n",
    "title_list = []\n",
    "\n",
    "for li in li_list :\n",
    "    url = li.find_element(\"css selector\",\n",
    "                                \"div > a\").get_attribute('href')\n",
    "    title = li.find_element(\"css selector\",\n",
    "                                \"div > div > span.time\").text\n",
    "    print(title, url, datetime)\n",
    "    title_list.append(title)\n",
    "    url_list.append(url)\n",
    "    datetime_list.append(datetime)"
   ]
  },
  {
   "cell_type": "markdown",
   "id": "e963abbf",
   "metadata": {},
   "source": [
    "# title"
   ]
  },
  {
   "cell_type": "code",
   "execution_count": 20,
   "id": "2b8f0366",
   "metadata": {},
   "outputs": [
    {
     "data": {
      "text/plain": [
       "'스타 공항패션'"
      ]
     },
     "execution_count": 20,
     "metadata": {},
     "output_type": "execute_result"
    }
   ],
   "source": [
    "driver.find_element(\"css selector\",\n",
    "                    \"#content > div.photo_wrp > div > div:nth-child(1) > ul:nth-child(1) > li.long > a > div.photo_tit > strong\").text"
   ]
  },
  {
   "cell_type": "code",
   "execution_count": 15,
   "id": "9ebd9a60",
   "metadata": {},
   "outputs": [],
   "source": [
    "title_objects = driver.find_elements(\"css selector\",\n",
    "                    \"#content > div.photo_wrp > div > div > ul > li> a > div.photo_tit > strong\")"
   ]
  },
  {
   "cell_type": "code",
   "execution_count": 16,
   "id": "aa55c9be",
   "metadata": {
    "scrolled": true
   },
   "outputs": [
    {
     "data": {
      "text/plain": [
       "[<selenium.webdriver.remote.webelement.WebElement (session=\"6f6feb35d5933fb7a169db3b09f51433\", element=\"557FCEA97177E7D08EEBE3D96999AECD_element_80\")>,\n",
       " <selenium.webdriver.remote.webelement.WebElement (session=\"6f6feb35d5933fb7a169db3b09f51433\", element=\"557FCEA97177E7D08EEBE3D96999AECD_element_85\")>,\n",
       " <selenium.webdriver.remote.webelement.WebElement (session=\"6f6feb35d5933fb7a169db3b09f51433\", element=\"557FCEA97177E7D08EEBE3D96999AECD_element_86\")>,\n",
       " <selenium.webdriver.remote.webelement.WebElement (session=\"6f6feb35d5933fb7a169db3b09f51433\", element=\"557FCEA97177E7D08EEBE3D96999AECD_element_87\")>,\n",
       " <selenium.webdriver.remote.webelement.WebElement (session=\"6f6feb35d5933fb7a169db3b09f51433\", element=\"557FCEA97177E7D08EEBE3D96999AECD_element_82\")>,\n",
       " <selenium.webdriver.remote.webelement.WebElement (session=\"6f6feb35d5933fb7a169db3b09f51433\", element=\"557FCEA97177E7D08EEBE3D96999AECD_element_88\")>,\n",
       " <selenium.webdriver.remote.webelement.WebElement (session=\"6f6feb35d5933fb7a169db3b09f51433\", element=\"557FCEA97177E7D08EEBE3D96999AECD_element_89\")>,\n",
       " <selenium.webdriver.remote.webelement.WebElement (session=\"6f6feb35d5933fb7a169db3b09f51433\", element=\"557FCEA97177E7D08EEBE3D96999AECD_element_90\")>,\n",
       " <selenium.webdriver.remote.webelement.WebElement (session=\"6f6feb35d5933fb7a169db3b09f51433\", element=\"557FCEA97177E7D08EEBE3D96999AECD_element_91\")>,\n",
       " <selenium.webdriver.remote.webelement.WebElement (session=\"6f6feb35d5933fb7a169db3b09f51433\", element=\"557FCEA97177E7D08EEBE3D96999AECD_element_92\")>,\n",
       " <selenium.webdriver.remote.webelement.WebElement (session=\"6f6feb35d5933fb7a169db3b09f51433\", element=\"557FCEA97177E7D08EEBE3D96999AECD_element_83\")>,\n",
       " <selenium.webdriver.remote.webelement.WebElement (session=\"6f6feb35d5933fb7a169db3b09f51433\", element=\"557FCEA97177E7D08EEBE3D96999AECD_element_93\")>,\n",
       " <selenium.webdriver.remote.webelement.WebElement (session=\"6f6feb35d5933fb7a169db3b09f51433\", element=\"557FCEA97177E7D08EEBE3D96999AECD_element_94\")>,\n",
       " <selenium.webdriver.remote.webelement.WebElement (session=\"6f6feb35d5933fb7a169db3b09f51433\", element=\"557FCEA97177E7D08EEBE3D96999AECD_element_95\")>,\n",
       " <selenium.webdriver.remote.webelement.WebElement (session=\"6f6feb35d5933fb7a169db3b09f51433\", element=\"557FCEA97177E7D08EEBE3D96999AECD_element_84\")>,\n",
       " <selenium.webdriver.remote.webelement.WebElement (session=\"6f6feb35d5933fb7a169db3b09f51433\", element=\"557FCEA97177E7D08EEBE3D96999AECD_element_96\")>]"
      ]
     },
     "execution_count": 16,
     "metadata": {},
     "output_type": "execute_result"
    }
   ],
   "source": [
    "title_objects"
   ]
  },
  {
   "cell_type": "code",
   "execution_count": 17,
   "id": "ea43ea9d",
   "metadata": {},
   "outputs": [
    {
     "name": "stdout",
     "output_type": "stream",
     "text": [
      "스타 공항패션\n",
      "제작 발표회\n",
      "스타들의 인터뷰\n",
      "스타들의 일상\n",
      "행사장 속 스타\n",
      "방송국 출근길\n",
      "화보 속 스타\n",
      "연예가 현장\n",
      "시사회 현장\n",
      "HD 포토 | 세븐틴\n",
      "경기장의 스타들\n",
      "대한민국 대중문화예술상\n",
      "컴백 티저 이미지\n",
      "HD 포토\n",
      "컴백 쇼케이스\n",
      "영화·TV 포스터\n"
     ]
    }
   ],
   "source": [
    "for obj in title_objects :\n",
    "    print(obj.text)"
   ]
  },
  {
   "cell_type": "markdown",
   "id": "cfcd5884",
   "metadata": {},
   "source": [
    "# url"
   ]
  },
  {
   "cell_type": "code",
   "execution_count": 30,
   "id": "8a86f423",
   "metadata": {},
   "outputs": [
    {
     "data": {
      "text/plain": [
       "<selenium.webdriver.remote.webelement.WebElement (session=\"6f6feb35d5933fb7a169db3b09f51433\", element=\"557FCEA97177E7D08EEBE3D96999AECD_element_2\")>"
      ]
     },
     "execution_count": 30,
     "metadata": {},
     "output_type": "execute_result"
    }
   ],
   "source": [
    "driver.find_element(\"css selector\",\n",
    "                    \"#content > div.photo_wrp > div > div:nth-child(1) > ul:nth-child(1) > li.long > a > div.thumb_area > img\")\n",
    "#content > div.photo_wrp > div > div:nth-child(1) > ul:nth-child(1) > li.long > a > div.thumb_area > img"
   ]
  },
  {
   "cell_type": "code",
   "execution_count": 36,
   "id": "478a9589",
   "metadata": {},
   "outputs": [],
   "source": [
    "url_objects = driver.find_elements(\"css selector\",\n",
    "                    \"#content > div.photo_wrp > div > div > ul > li > a > div.thumb_area > img\")"
   ]
  },
  {
   "cell_type": "code",
   "execution_count": 37,
   "id": "91f4f4ec",
   "metadata": {},
   "outputs": [
    {
     "data": {
      "text/plain": [
       "[<selenium.webdriver.remote.webelement.WebElement (session=\"6f6feb35d5933fb7a169db3b09f51433\", element=\"557FCEA97177E7D08EEBE3D96999AECD_element_2\")>,\n",
       " <selenium.webdriver.remote.webelement.WebElement (session=\"6f6feb35d5933fb7a169db3b09f51433\", element=\"557FCEA97177E7D08EEBE3D96999AECD_element_3\")>,\n",
       " <selenium.webdriver.remote.webelement.WebElement (session=\"6f6feb35d5933fb7a169db3b09f51433\", element=\"557FCEA97177E7D08EEBE3D96999AECD_element_4\")>,\n",
       " <selenium.webdriver.remote.webelement.WebElement (session=\"6f6feb35d5933fb7a169db3b09f51433\", element=\"557FCEA97177E7D08EEBE3D96999AECD_element_5\")>,\n",
       " <selenium.webdriver.remote.webelement.WebElement (session=\"6f6feb35d5933fb7a169db3b09f51433\", element=\"557FCEA97177E7D08EEBE3D96999AECD_element_6\")>,\n",
       " <selenium.webdriver.remote.webelement.WebElement (session=\"6f6feb35d5933fb7a169db3b09f51433\", element=\"557FCEA97177E7D08EEBE3D96999AECD_element_7\")>,\n",
       " <selenium.webdriver.remote.webelement.WebElement (session=\"6f6feb35d5933fb7a169db3b09f51433\", element=\"557FCEA97177E7D08EEBE3D96999AECD_element_100\")>,\n",
       " <selenium.webdriver.remote.webelement.WebElement (session=\"6f6feb35d5933fb7a169db3b09f51433\", element=\"557FCEA97177E7D08EEBE3D96999AECD_element_101\")>,\n",
       " <selenium.webdriver.remote.webelement.WebElement (session=\"6f6feb35d5933fb7a169db3b09f51433\", element=\"557FCEA97177E7D08EEBE3D96999AECD_element_8\")>,\n",
       " <selenium.webdriver.remote.webelement.WebElement (session=\"6f6feb35d5933fb7a169db3b09f51433\", element=\"557FCEA97177E7D08EEBE3D96999AECD_element_9\")>,\n",
       " <selenium.webdriver.remote.webelement.WebElement (session=\"6f6feb35d5933fb7a169db3b09f51433\", element=\"557FCEA97177E7D08EEBE3D96999AECD_element_10\")>,\n",
       " <selenium.webdriver.remote.webelement.WebElement (session=\"6f6feb35d5933fb7a169db3b09f51433\", element=\"557FCEA97177E7D08EEBE3D96999AECD_element_11\")>,\n",
       " <selenium.webdriver.remote.webelement.WebElement (session=\"6f6feb35d5933fb7a169db3b09f51433\", element=\"557FCEA97177E7D08EEBE3D96999AECD_element_12\")>,\n",
       " <selenium.webdriver.remote.webelement.WebElement (session=\"6f6feb35d5933fb7a169db3b09f51433\", element=\"557FCEA97177E7D08EEBE3D96999AECD_element_13\")>,\n",
       " <selenium.webdriver.remote.webelement.WebElement (session=\"6f6feb35d5933fb7a169db3b09f51433\", element=\"557FCEA97177E7D08EEBE3D96999AECD_element_14\")>,\n",
       " <selenium.webdriver.remote.webelement.WebElement (session=\"6f6feb35d5933fb7a169db3b09f51433\", element=\"557FCEA97177E7D08EEBE3D96999AECD_element_102\")>]"
      ]
     },
     "execution_count": 37,
     "metadata": {},
     "output_type": "execute_result"
    }
   ],
   "source": [
    "url_objects"
   ]
  },
  {
   "cell_type": "code",
   "execution_count": 38,
   "id": "06ac0e64",
   "metadata": {},
   "outputs": [
    {
     "name": "stdout",
     "output_type": "stream",
     "text": [
      "https://mimgnews.pstatic.net/image/origin/109/2023/10/26/4954185.jpg?type=nfc239_406_q90\n",
      "https://ssl.pstatic.net/mimgnews/image/origin/410/2023/10/26/964752.jpg?type=nfc239_199_q90\n",
      "https://mimgnews.pstatic.net/image/origin/108/2023/10/26/3190579.jpg?type=nfc239_199_q90\n",
      "https://ssl.pstatic.net/mimgnews/image/origin/112/2023/10/26/3660702.jpg?type=nfc486_406_q90\n",
      "https://mimgnews.pstatic.net/image/origin/213/2023/10/25/1274434.jpg?type=nfc239_406_q90\n",
      "https://ssl.pstatic.net/mimgnews/image/origin/311/2023/10/25/1653640.jpg?type=nfc239_199_q90\n",
      "https://mimgnews.pstatic.net/image/origin/112/2023/10/26/3660819.jpg?type=nfc486_406_q90\n",
      "https://ssl.pstatic.net/mimgnews/image/origin/029/2023/10/24/2832373.jpg?type=nfc239_199_q90\n",
      "https://mimgnews.pstatic.net/image/origin/109/2023/10/25/4953396.jpg?type=nfc486_406_q90\n",
      "https://ssl.pstatic.net/mimgnews/image/origin/433/2023/10/24/98006.jpg?type=nfc239_199_q90\n",
      "https://mimgnews.pstatic.net/image/origin/609/2023/10/23/785324.jpg?type=nfc239_406_q90\n",
      "https://ssl.pstatic.net/mimgnews/image/origin/109/2023/10/21/4950991.jpg?type=nfc239_199_q90\n",
      "https://mimgnews.pstatic.net/image/origin/003/2023/10/24/12165003.jpg?type=nfc239_199_q90\n",
      "https://ssl.pstatic.net/mimgnews/image/origin/433/2023/10/21/97943.jpg?type=nfc486_406_q90\n",
      "https://mimgnews.pstatic.net/image/origin/112/2023/10/18/3659145.jpg?type=nfc239_406_q90\n",
      "https://ssl.pstatic.net/mimgnews/image/origin/112/2023/10/26/3660767.jpg?type=nfc239_199_q90\n"
     ]
    }
   ],
   "source": [
    "for obj in url_objects :\n",
    "    print(obj.get_attribute('src'))"
   ]
  },
  {
   "cell_type": "code",
   "execution_count": 39,
   "id": "9396ce84",
   "metadata": {},
   "outputs": [
    {
     "data": {
      "text/plain": [
       "[<selenium.webdriver.remote.webelement.WebElement (session=\"6f6feb35d5933fb7a169db3b09f51433\", element=\"557FCEA97177E7D08EEBE3D96999AECD_element_68\")>,\n",
       " <selenium.webdriver.remote.webelement.WebElement (session=\"6f6feb35d5933fb7a169db3b09f51433\", element=\"557FCEA97177E7D08EEBE3D96999AECD_element_69\")>,\n",
       " <selenium.webdriver.remote.webelement.WebElement (session=\"6f6feb35d5933fb7a169db3b09f51433\", element=\"557FCEA97177E7D08EEBE3D96999AECD_element_70\")>,\n",
       " <selenium.webdriver.remote.webelement.WebElement (session=\"6f6feb35d5933fb7a169db3b09f51433\", element=\"557FCEA97177E7D08EEBE3D96999AECD_element_128\")>,\n",
       " <selenium.webdriver.remote.webelement.WebElement (session=\"6f6feb35d5933fb7a169db3b09f51433\", element=\"557FCEA97177E7D08EEBE3D96999AECD_element_129\")>,\n",
       " <selenium.webdriver.remote.webelement.WebElement (session=\"6f6feb35d5933fb7a169db3b09f51433\", element=\"557FCEA97177E7D08EEBE3D96999AECD_element_130\")>,\n",
       " <selenium.webdriver.remote.webelement.WebElement (session=\"6f6feb35d5933fb7a169db3b09f51433\", element=\"557FCEA97177E7D08EEBE3D96999AECD_element_131\")>,\n",
       " <selenium.webdriver.remote.webelement.WebElement (session=\"6f6feb35d5933fb7a169db3b09f51433\", element=\"557FCEA97177E7D08EEBE3D96999AECD_element_132\")>,\n",
       " <selenium.webdriver.remote.webelement.WebElement (session=\"6f6feb35d5933fb7a169db3b09f51433\", element=\"557FCEA97177E7D08EEBE3D96999AECD_element_133\")>,\n",
       " <selenium.webdriver.remote.webelement.WebElement (session=\"6f6feb35d5933fb7a169db3b09f51433\", element=\"557FCEA97177E7D08EEBE3D96999AECD_element_134\")>,\n",
       " <selenium.webdriver.remote.webelement.WebElement (session=\"6f6feb35d5933fb7a169db3b09f51433\", element=\"557FCEA97177E7D08EEBE3D96999AECD_element_135\")>,\n",
       " <selenium.webdriver.remote.webelement.WebElement (session=\"6f6feb35d5933fb7a169db3b09f51433\", element=\"557FCEA97177E7D08EEBE3D96999AECD_element_136\")>,\n",
       " <selenium.webdriver.remote.webelement.WebElement (session=\"6f6feb35d5933fb7a169db3b09f51433\", element=\"557FCEA97177E7D08EEBE3D96999AECD_element_137\")>,\n",
       " <selenium.webdriver.remote.webelement.WebElement (session=\"6f6feb35d5933fb7a169db3b09f51433\", element=\"557FCEA97177E7D08EEBE3D96999AECD_element_138\")>,\n",
       " <selenium.webdriver.remote.webelement.WebElement (session=\"6f6feb35d5933fb7a169db3b09f51433\", element=\"557FCEA97177E7D08EEBE3D96999AECD_element_139\")>,\n",
       " <selenium.webdriver.remote.webelement.WebElement (session=\"6f6feb35d5933fb7a169db3b09f51433\", element=\"557FCEA97177E7D08EEBE3D96999AECD_element_140\")>]"
      ]
     },
     "execution_count": 39,
     "metadata": {},
     "output_type": "execute_result"
    }
   ],
   "source": [
    "li_list = driver.find_elements(\"css selector\",\n",
    "                    \"#content > div.photo_wrp > div > div > ul > li\")\n",
    "li_list"
   ]
  },
  {
   "cell_type": "code",
   "execution_count": 40,
   "id": "576291ea",
   "metadata": {
    "scrolled": true
   },
   "outputs": [
    {
     "name": "stdout",
     "output_type": "stream",
     "text": [
      "https://mimgnews.pstatic.net/image/origin/109/2023/10/26/4954185.jpg?type=nfc239_406_q90 스타 공항패션\n",
      "https://ssl.pstatic.net/mimgnews/image/origin/410/2023/10/26/964752.jpg?type=nfc239_199_q90 제작 발표회\n",
      "https://mimgnews.pstatic.net/image/origin/108/2023/10/26/3190579.jpg?type=nfc239_199_q90 스타들의 인터뷰\n",
      "https://ssl.pstatic.net/mimgnews/image/origin/112/2023/10/26/3660702.jpg?type=nfc486_406_q90 스타들의 일상\n",
      "https://mimgnews.pstatic.net/image/origin/213/2023/10/25/1274434.jpg?type=nfc239_406_q90 행사장 속 스타\n",
      "https://ssl.pstatic.net/mimgnews/image/origin/311/2023/10/25/1653640.jpg?type=nfc239_199_q90 방송국 출근길\n",
      "https://mimgnews.pstatic.net/image/origin/112/2023/10/26/3660819.jpg?type=nfc486_406_q90 화보 속 스타\n",
      "https://ssl.pstatic.net/mimgnews/image/origin/029/2023/10/24/2832373.jpg?type=nfc239_199_q90 연예가 현장\n",
      "https://mimgnews.pstatic.net/image/origin/109/2023/10/25/4953396.jpg?type=nfc486_406_q90 시사회 현장\n",
      "https://ssl.pstatic.net/mimgnews/image/origin/433/2023/10/24/98006.jpg?type=nfc239_199_q90 HD 포토 | 세븐틴\n",
      "https://mimgnews.pstatic.net/image/origin/609/2023/10/23/785324.jpg?type=nfc239_406_q90 경기장의 스타들\n",
      "https://ssl.pstatic.net/mimgnews/image/origin/109/2023/10/21/4950991.jpg?type=nfc239_199_q90 대한민국 대중문화예술상\n",
      "https://mimgnews.pstatic.net/image/origin/003/2023/10/24/12165003.jpg?type=nfc239_199_q90 컴백 티저 이미지\n",
      "https://ssl.pstatic.net/mimgnews/image/origin/433/2023/10/21/97943.jpg?type=nfc486_406_q90 HD 포토\n",
      "https://mimgnews.pstatic.net/image/origin/112/2023/10/18/3659145.jpg?type=nfc239_406_q90 컴백 쇼케이스\n",
      "https://ssl.pstatic.net/mimgnews/image/origin/112/2023/10/26/3660767.jpg?type=nfc239_199_q90 영화·TV 포스터\n"
     ]
    }
   ],
   "source": [
    "link_list = []\n",
    "title_list = []\n",
    "\n",
    "for li in li_list :\n",
    "    link = li.find_element(\"css selector\",\n",
    "                                \"a > div.thumb_area > img\").get_attribute('src')\n",
    "    title = li.find_element(\"css selector\",\n",
    "                                \"a > div.photo_tit > strong\").text\n",
    "    print(link, title)\n",
    "    link_list.append(link)\n",
    "    title_list.append(title)"
   ]
  },
  {
   "cell_type": "code",
   "execution_count": 42,
   "id": "c2e87d8b",
   "metadata": {},
   "outputs": [
    {
     "data": {
      "text/plain": [
       "['https://mimgnews.pstatic.net/image/origin/109/2023/10/26/4954185.jpg?type=nfc239_406_q90',\n",
       " 'https://ssl.pstatic.net/mimgnews/image/origin/410/2023/10/26/964752.jpg?type=nfc239_199_q90',\n",
       " 'https://mimgnews.pstatic.net/image/origin/108/2023/10/26/3190579.jpg?type=nfc239_199_q90',\n",
       " 'https://ssl.pstatic.net/mimgnews/image/origin/112/2023/10/26/3660702.jpg?type=nfc486_406_q90',\n",
       " 'https://mimgnews.pstatic.net/image/origin/213/2023/10/25/1274434.jpg?type=nfc239_406_q90',\n",
       " 'https://ssl.pstatic.net/mimgnews/image/origin/311/2023/10/25/1653640.jpg?type=nfc239_199_q90',\n",
       " 'https://mimgnews.pstatic.net/image/origin/112/2023/10/26/3660819.jpg?type=nfc486_406_q90',\n",
       " 'https://ssl.pstatic.net/mimgnews/image/origin/029/2023/10/24/2832373.jpg?type=nfc239_199_q90',\n",
       " 'https://mimgnews.pstatic.net/image/origin/109/2023/10/25/4953396.jpg?type=nfc486_406_q90',\n",
       " 'https://ssl.pstatic.net/mimgnews/image/origin/433/2023/10/24/98006.jpg?type=nfc239_199_q90',\n",
       " 'https://mimgnews.pstatic.net/image/origin/609/2023/10/23/785324.jpg?type=nfc239_406_q90',\n",
       " 'https://ssl.pstatic.net/mimgnews/image/origin/109/2023/10/21/4950991.jpg?type=nfc239_199_q90',\n",
       " 'https://mimgnews.pstatic.net/image/origin/003/2023/10/24/12165003.jpg?type=nfc239_199_q90',\n",
       " 'https://ssl.pstatic.net/mimgnews/image/origin/433/2023/10/21/97943.jpg?type=nfc486_406_q90',\n",
       " 'https://mimgnews.pstatic.net/image/origin/112/2023/10/18/3659145.jpg?type=nfc239_406_q90',\n",
       " 'https://ssl.pstatic.net/mimgnews/image/origin/112/2023/10/26/3660767.jpg?type=nfc239_199_q90']"
      ]
     },
     "execution_count": 42,
     "metadata": {},
     "output_type": "execute_result"
    }
   ],
   "source": [
    "link_list"
   ]
  },
  {
   "cell_type": "code",
   "execution_count": 43,
   "id": "237db66d",
   "metadata": {},
   "outputs": [
    {
     "data": {
      "text/plain": [
       "['스타 공항패션',\n",
       " '제작 발표회',\n",
       " '스타들의 인터뷰',\n",
       " '스타들의 일상',\n",
       " '행사장 속 스타',\n",
       " '방송국 출근길',\n",
       " '화보 속 스타',\n",
       " '연예가 현장',\n",
       " '시사회 현장',\n",
       " 'HD 포토 | 세븐틴',\n",
       " '경기장의 스타들',\n",
       " '대한민국 대중문화예술상',\n",
       " '컴백 티저 이미지',\n",
       " 'HD 포토',\n",
       " '컴백 쇼케이스',\n",
       " '영화·TV 포스터']"
      ]
     },
     "execution_count": 43,
     "metadata": {},
     "output_type": "execute_result"
    }
   ],
   "source": [
    "title_list"
   ]
  },
  {
   "cell_type": "code",
   "execution_count": 44,
   "id": "1292e179",
   "metadata": {},
   "outputs": [],
   "source": [
    "import pandas as pd\n",
    "\n",
    "df = pd.DataFrame({'link' : link_list,\n",
    "                  'title' : title_list\n",
    "                  })"
   ]
  },
  {
   "cell_type": "code",
   "execution_count": 45,
   "id": "d85a8ef5",
   "metadata": {},
   "outputs": [
    {
     "data": {
      "text/html": [
       "<div>\n",
       "<style scoped>\n",
       "    .dataframe tbody tr th:only-of-type {\n",
       "        vertical-align: middle;\n",
       "    }\n",
       "\n",
       "    .dataframe tbody tr th {\n",
       "        vertical-align: top;\n",
       "    }\n",
       "\n",
       "    .dataframe thead th {\n",
       "        text-align: right;\n",
       "    }\n",
       "</style>\n",
       "<table border=\"1\" class=\"dataframe\">\n",
       "  <thead>\n",
       "    <tr style=\"text-align: right;\">\n",
       "      <th></th>\n",
       "      <th>link</th>\n",
       "      <th>title</th>\n",
       "    </tr>\n",
       "  </thead>\n",
       "  <tbody>\n",
       "    <tr>\n",
       "      <th>0</th>\n",
       "      <td>https://mimgnews.pstatic.net/image/origin/109/...</td>\n",
       "      <td>스타 공항패션</td>\n",
       "    </tr>\n",
       "    <tr>\n",
       "      <th>1</th>\n",
       "      <td>https://ssl.pstatic.net/mimgnews/image/origin/...</td>\n",
       "      <td>제작 발표회</td>\n",
       "    </tr>\n",
       "    <tr>\n",
       "      <th>2</th>\n",
       "      <td>https://mimgnews.pstatic.net/image/origin/108/...</td>\n",
       "      <td>스타들의 인터뷰</td>\n",
       "    </tr>\n",
       "    <tr>\n",
       "      <th>3</th>\n",
       "      <td>https://ssl.pstatic.net/mimgnews/image/origin/...</td>\n",
       "      <td>스타들의 일상</td>\n",
       "    </tr>\n",
       "    <tr>\n",
       "      <th>4</th>\n",
       "      <td>https://mimgnews.pstatic.net/image/origin/213/...</td>\n",
       "      <td>행사장 속 스타</td>\n",
       "    </tr>\n",
       "    <tr>\n",
       "      <th>5</th>\n",
       "      <td>https://ssl.pstatic.net/mimgnews/image/origin/...</td>\n",
       "      <td>방송국 출근길</td>\n",
       "    </tr>\n",
       "    <tr>\n",
       "      <th>6</th>\n",
       "      <td>https://mimgnews.pstatic.net/image/origin/112/...</td>\n",
       "      <td>화보 속 스타</td>\n",
       "    </tr>\n",
       "    <tr>\n",
       "      <th>7</th>\n",
       "      <td>https://ssl.pstatic.net/mimgnews/image/origin/...</td>\n",
       "      <td>연예가 현장</td>\n",
       "    </tr>\n",
       "    <tr>\n",
       "      <th>8</th>\n",
       "      <td>https://mimgnews.pstatic.net/image/origin/109/...</td>\n",
       "      <td>시사회 현장</td>\n",
       "    </tr>\n",
       "    <tr>\n",
       "      <th>9</th>\n",
       "      <td>https://ssl.pstatic.net/mimgnews/image/origin/...</td>\n",
       "      <td>HD 포토 | 세븐틴</td>\n",
       "    </tr>\n",
       "    <tr>\n",
       "      <th>10</th>\n",
       "      <td>https://mimgnews.pstatic.net/image/origin/609/...</td>\n",
       "      <td>경기장의 스타들</td>\n",
       "    </tr>\n",
       "    <tr>\n",
       "      <th>11</th>\n",
       "      <td>https://ssl.pstatic.net/mimgnews/image/origin/...</td>\n",
       "      <td>대한민국 대중문화예술상</td>\n",
       "    </tr>\n",
       "    <tr>\n",
       "      <th>12</th>\n",
       "      <td>https://mimgnews.pstatic.net/image/origin/003/...</td>\n",
       "      <td>컴백 티저 이미지</td>\n",
       "    </tr>\n",
       "    <tr>\n",
       "      <th>13</th>\n",
       "      <td>https://ssl.pstatic.net/mimgnews/image/origin/...</td>\n",
       "      <td>HD 포토</td>\n",
       "    </tr>\n",
       "    <tr>\n",
       "      <th>14</th>\n",
       "      <td>https://mimgnews.pstatic.net/image/origin/112/...</td>\n",
       "      <td>컴백 쇼케이스</td>\n",
       "    </tr>\n",
       "    <tr>\n",
       "      <th>15</th>\n",
       "      <td>https://ssl.pstatic.net/mimgnews/image/origin/...</td>\n",
       "      <td>영화·TV 포스터</td>\n",
       "    </tr>\n",
       "  </tbody>\n",
       "</table>\n",
       "</div>"
      ],
      "text/plain": [
       "                                                 link         title\n",
       "0   https://mimgnews.pstatic.net/image/origin/109/...       스타 공항패션\n",
       "1   https://ssl.pstatic.net/mimgnews/image/origin/...        제작 발표회\n",
       "2   https://mimgnews.pstatic.net/image/origin/108/...      스타들의 인터뷰\n",
       "3   https://ssl.pstatic.net/mimgnews/image/origin/...       스타들의 일상\n",
       "4   https://mimgnews.pstatic.net/image/origin/213/...      행사장 속 스타\n",
       "5   https://ssl.pstatic.net/mimgnews/image/origin/...       방송국 출근길\n",
       "6   https://mimgnews.pstatic.net/image/origin/112/...       화보 속 스타\n",
       "7   https://ssl.pstatic.net/mimgnews/image/origin/...        연예가 현장\n",
       "8   https://mimgnews.pstatic.net/image/origin/109/...        시사회 현장\n",
       "9   https://ssl.pstatic.net/mimgnews/image/origin/...   HD 포토 | 세븐틴\n",
       "10  https://mimgnews.pstatic.net/image/origin/609/...      경기장의 스타들\n",
       "11  https://ssl.pstatic.net/mimgnews/image/origin/...  대한민국 대중문화예술상\n",
       "12  https://mimgnews.pstatic.net/image/origin/003/...     컴백 티저 이미지\n",
       "13  https://ssl.pstatic.net/mimgnews/image/origin/...         HD 포토\n",
       "14  https://mimgnews.pstatic.net/image/origin/112/...       컴백 쇼케이스\n",
       "15  https://ssl.pstatic.net/mimgnews/image/origin/...     영화·TV 포스터"
      ]
     },
     "execution_count": 45,
     "metadata": {},
     "output_type": "execute_result"
    }
   ],
   "source": [
    "df"
   ]
  },
  {
   "cell_type": "code",
   "execution_count": 46,
   "id": "962432d6",
   "metadata": {},
   "outputs": [],
   "source": [
    "df.to_csv('entertain.csv', sep='\\t', index=False)"
   ]
  },
  {
   "cell_type": "code",
   "execution_count": 47,
   "id": "e80a9866",
   "metadata": {},
   "outputs": [],
   "source": [
    "df_loaded = pd.read_csv('entertain.csv', sep = '\\t')"
   ]
  },
  {
   "cell_type": "code",
   "execution_count": 48,
   "id": "6c58ef11",
   "metadata": {},
   "outputs": [
    {
     "data": {
      "text/html": [
       "<div>\n",
       "<style scoped>\n",
       "    .dataframe tbody tr th:only-of-type {\n",
       "        vertical-align: middle;\n",
       "    }\n",
       "\n",
       "    .dataframe tbody tr th {\n",
       "        vertical-align: top;\n",
       "    }\n",
       "\n",
       "    .dataframe thead th {\n",
       "        text-align: right;\n",
       "    }\n",
       "</style>\n",
       "<table border=\"1\" class=\"dataframe\">\n",
       "  <thead>\n",
       "    <tr style=\"text-align: right;\">\n",
       "      <th></th>\n",
       "      <th>link</th>\n",
       "      <th>title</th>\n",
       "    </tr>\n",
       "  </thead>\n",
       "  <tbody>\n",
       "    <tr>\n",
       "      <th>0</th>\n",
       "      <td>https://mimgnews.pstatic.net/image/origin/109/...</td>\n",
       "      <td>스타 공항패션</td>\n",
       "    </tr>\n",
       "    <tr>\n",
       "      <th>1</th>\n",
       "      <td>https://ssl.pstatic.net/mimgnews/image/origin/...</td>\n",
       "      <td>제작 발표회</td>\n",
       "    </tr>\n",
       "    <tr>\n",
       "      <th>2</th>\n",
       "      <td>https://mimgnews.pstatic.net/image/origin/108/...</td>\n",
       "      <td>스타들의 인터뷰</td>\n",
       "    </tr>\n",
       "    <tr>\n",
       "      <th>3</th>\n",
       "      <td>https://ssl.pstatic.net/mimgnews/image/origin/...</td>\n",
       "      <td>스타들의 일상</td>\n",
       "    </tr>\n",
       "    <tr>\n",
       "      <th>4</th>\n",
       "      <td>https://mimgnews.pstatic.net/image/origin/213/...</td>\n",
       "      <td>행사장 속 스타</td>\n",
       "    </tr>\n",
       "    <tr>\n",
       "      <th>5</th>\n",
       "      <td>https://ssl.pstatic.net/mimgnews/image/origin/...</td>\n",
       "      <td>방송국 출근길</td>\n",
       "    </tr>\n",
       "    <tr>\n",
       "      <th>6</th>\n",
       "      <td>https://mimgnews.pstatic.net/image/origin/112/...</td>\n",
       "      <td>화보 속 스타</td>\n",
       "    </tr>\n",
       "    <tr>\n",
       "      <th>7</th>\n",
       "      <td>https://ssl.pstatic.net/mimgnews/image/origin/...</td>\n",
       "      <td>연예가 현장</td>\n",
       "    </tr>\n",
       "    <tr>\n",
       "      <th>8</th>\n",
       "      <td>https://mimgnews.pstatic.net/image/origin/109/...</td>\n",
       "      <td>시사회 현장</td>\n",
       "    </tr>\n",
       "    <tr>\n",
       "      <th>9</th>\n",
       "      <td>https://ssl.pstatic.net/mimgnews/image/origin/...</td>\n",
       "      <td>HD 포토 | 세븐틴</td>\n",
       "    </tr>\n",
       "    <tr>\n",
       "      <th>10</th>\n",
       "      <td>https://mimgnews.pstatic.net/image/origin/609/...</td>\n",
       "      <td>경기장의 스타들</td>\n",
       "    </tr>\n",
       "    <tr>\n",
       "      <th>11</th>\n",
       "      <td>https://ssl.pstatic.net/mimgnews/image/origin/...</td>\n",
       "      <td>대한민국 대중문화예술상</td>\n",
       "    </tr>\n",
       "    <tr>\n",
       "      <th>12</th>\n",
       "      <td>https://mimgnews.pstatic.net/image/origin/003/...</td>\n",
       "      <td>컴백 티저 이미지</td>\n",
       "    </tr>\n",
       "    <tr>\n",
       "      <th>13</th>\n",
       "      <td>https://ssl.pstatic.net/mimgnews/image/origin/...</td>\n",
       "      <td>HD 포토</td>\n",
       "    </tr>\n",
       "    <tr>\n",
       "      <th>14</th>\n",
       "      <td>https://mimgnews.pstatic.net/image/origin/112/...</td>\n",
       "      <td>컴백 쇼케이스</td>\n",
       "    </tr>\n",
       "    <tr>\n",
       "      <th>15</th>\n",
       "      <td>https://ssl.pstatic.net/mimgnews/image/origin/...</td>\n",
       "      <td>영화·TV 포스터</td>\n",
       "    </tr>\n",
       "  </tbody>\n",
       "</table>\n",
       "</div>"
      ],
      "text/plain": [
       "                                                 link         title\n",
       "0   https://mimgnews.pstatic.net/image/origin/109/...       스타 공항패션\n",
       "1   https://ssl.pstatic.net/mimgnews/image/origin/...        제작 발표회\n",
       "2   https://mimgnews.pstatic.net/image/origin/108/...      스타들의 인터뷰\n",
       "3   https://ssl.pstatic.net/mimgnews/image/origin/...       스타들의 일상\n",
       "4   https://mimgnews.pstatic.net/image/origin/213/...      행사장 속 스타\n",
       "5   https://ssl.pstatic.net/mimgnews/image/origin/...       방송국 출근길\n",
       "6   https://mimgnews.pstatic.net/image/origin/112/...       화보 속 스타\n",
       "7   https://ssl.pstatic.net/mimgnews/image/origin/...        연예가 현장\n",
       "8   https://mimgnews.pstatic.net/image/origin/109/...        시사회 현장\n",
       "9   https://ssl.pstatic.net/mimgnews/image/origin/...   HD 포토 | 세븐틴\n",
       "10  https://mimgnews.pstatic.net/image/origin/609/...      경기장의 스타들\n",
       "11  https://ssl.pstatic.net/mimgnews/image/origin/...  대한민국 대중문화예술상\n",
       "12  https://mimgnews.pstatic.net/image/origin/003/...     컴백 티저 이미지\n",
       "13  https://ssl.pstatic.net/mimgnews/image/origin/...         HD 포토\n",
       "14  https://mimgnews.pstatic.net/image/origin/112/...       컴백 쇼케이스\n",
       "15  https://ssl.pstatic.net/mimgnews/image/origin/...     영화·TV 포스터"
      ]
     },
     "execution_count": 48,
     "metadata": {},
     "output_type": "execute_result"
    }
   ],
   "source": [
    "df_loaded"
   ]
  },
  {
   "cell_type": "code",
   "execution_count": null,
   "id": "2ca3a079",
   "metadata": {},
   "outputs": [],
   "source": []
  }
 ],
 "metadata": {
  "kernelspec": {
   "display_name": "Python 3 (ipykernel)",
   "language": "python",
   "name": "python3"
  },
  "language_info": {
   "codemirror_mode": {
    "name": "ipython",
    "version": 3
   },
   "file_extension": ".py",
   "mimetype": "text/x-python",
   "name": "python",
   "nbconvert_exporter": "python",
   "pygments_lexer": "ipython3",
   "version": "3.11.4"
  }
 },
 "nbformat": 4,
 "nbformat_minor": 5
}
