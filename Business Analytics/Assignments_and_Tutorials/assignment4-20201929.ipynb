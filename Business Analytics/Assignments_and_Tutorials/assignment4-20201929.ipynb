{
 "cells": [
  {
   "cell_type": "markdown",
   "id": "7ae592c2",
   "metadata": {},
   "source": [
    "# Assignment 2. Diabetes Diagnosis\n",
    "\n",
    "The assignment is to develop a classifier diagnostically predict whether or not a patient has diabetes, based on certain diagnostic measurements included in the dataset.\n",
    "\n",
    "The datasets consists of several medical predictor variables and one target variable, `Outcome`. Predictor variables includes the number of pregnancies the patient has had, their BMI, insulin level, age, and so on.\n",
    "\n",
    "Can you build a machine learning model to accurately predict whether or not the patients in the dataset have diabetes or not?\n",
    "\n",
    "First, let's load the data. The file named `diabetes_train.csv` is located in the same folder."
   ]
  },
  {
   "cell_type": "code",
   "execution_count": 1,
   "id": "3cde9cb0",
   "metadata": {},
   "outputs": [
    {
     "data": {
      "text/html": [
       "<div>\n",
       "<style scoped>\n",
       "    .dataframe tbody tr th:only-of-type {\n",
       "        vertical-align: middle;\n",
       "    }\n",
       "\n",
       "    .dataframe tbody tr th {\n",
       "        vertical-align: top;\n",
       "    }\n",
       "\n",
       "    .dataframe thead th {\n",
       "        text-align: right;\n",
       "    }\n",
       "</style>\n",
       "<table border=\"1\" class=\"dataframe\">\n",
       "  <thead>\n",
       "    <tr style=\"text-align: right;\">\n",
       "      <th></th>\n",
       "      <th>Pregnancies</th>\n",
       "      <th>Glucose</th>\n",
       "      <th>BloodPressure</th>\n",
       "      <th>SkinThickness</th>\n",
       "      <th>Insulin</th>\n",
       "      <th>BMI</th>\n",
       "      <th>DiabetesPedigreeFunction</th>\n",
       "      <th>Age</th>\n",
       "      <th>Outcome</th>\n",
       "    </tr>\n",
       "  </thead>\n",
       "  <tbody>\n",
       "    <tr>\n",
       "      <th>0</th>\n",
       "      <td>6</td>\n",
       "      <td>148</td>\n",
       "      <td>72</td>\n",
       "      <td>35</td>\n",
       "      <td>0</td>\n",
       "      <td>33.6</td>\n",
       "      <td>0.627</td>\n",
       "      <td>50</td>\n",
       "      <td>1</td>\n",
       "    </tr>\n",
       "    <tr>\n",
       "      <th>1</th>\n",
       "      <td>1</td>\n",
       "      <td>85</td>\n",
       "      <td>66</td>\n",
       "      <td>29</td>\n",
       "      <td>0</td>\n",
       "      <td>26.6</td>\n",
       "      <td>0.351</td>\n",
       "      <td>31</td>\n",
       "      <td>0</td>\n",
       "    </tr>\n",
       "    <tr>\n",
       "      <th>2</th>\n",
       "      <td>8</td>\n",
       "      <td>183</td>\n",
       "      <td>64</td>\n",
       "      <td>0</td>\n",
       "      <td>0</td>\n",
       "      <td>23.3</td>\n",
       "      <td>0.672</td>\n",
       "      <td>32</td>\n",
       "      <td>1</td>\n",
       "    </tr>\n",
       "    <tr>\n",
       "      <th>3</th>\n",
       "      <td>1</td>\n",
       "      <td>89</td>\n",
       "      <td>66</td>\n",
       "      <td>23</td>\n",
       "      <td>94</td>\n",
       "      <td>28.1</td>\n",
       "      <td>0.167</td>\n",
       "      <td>21</td>\n",
       "      <td>0</td>\n",
       "    </tr>\n",
       "    <tr>\n",
       "      <th>4</th>\n",
       "      <td>0</td>\n",
       "      <td>137</td>\n",
       "      <td>40</td>\n",
       "      <td>35</td>\n",
       "      <td>168</td>\n",
       "      <td>43.1</td>\n",
       "      <td>2.288</td>\n",
       "      <td>33</td>\n",
       "      <td>1</td>\n",
       "    </tr>\n",
       "    <tr>\n",
       "      <th>...</th>\n",
       "      <td>...</td>\n",
       "      <td>...</td>\n",
       "      <td>...</td>\n",
       "      <td>...</td>\n",
       "      <td>...</td>\n",
       "      <td>...</td>\n",
       "      <td>...</td>\n",
       "      <td>...</td>\n",
       "      <td>...</td>\n",
       "    </tr>\n",
       "    <tr>\n",
       "      <th>693</th>\n",
       "      <td>7</td>\n",
       "      <td>129</td>\n",
       "      <td>68</td>\n",
       "      <td>49</td>\n",
       "      <td>125</td>\n",
       "      <td>38.5</td>\n",
       "      <td>0.439</td>\n",
       "      <td>43</td>\n",
       "      <td>1</td>\n",
       "    </tr>\n",
       "    <tr>\n",
       "      <th>694</th>\n",
       "      <td>2</td>\n",
       "      <td>90</td>\n",
       "      <td>60</td>\n",
       "      <td>0</td>\n",
       "      <td>0</td>\n",
       "      <td>23.5</td>\n",
       "      <td>0.191</td>\n",
       "      <td>25</td>\n",
       "      <td>0</td>\n",
       "    </tr>\n",
       "    <tr>\n",
       "      <th>695</th>\n",
       "      <td>7</td>\n",
       "      <td>142</td>\n",
       "      <td>90</td>\n",
       "      <td>24</td>\n",
       "      <td>480</td>\n",
       "      <td>30.4</td>\n",
       "      <td>0.128</td>\n",
       "      <td>43</td>\n",
       "      <td>1</td>\n",
       "    </tr>\n",
       "    <tr>\n",
       "      <th>696</th>\n",
       "      <td>3</td>\n",
       "      <td>169</td>\n",
       "      <td>74</td>\n",
       "      <td>19</td>\n",
       "      <td>125</td>\n",
       "      <td>29.9</td>\n",
       "      <td>0.268</td>\n",
       "      <td>31</td>\n",
       "      <td>1</td>\n",
       "    </tr>\n",
       "    <tr>\n",
       "      <th>697</th>\n",
       "      <td>0</td>\n",
       "      <td>99</td>\n",
       "      <td>0</td>\n",
       "      <td>0</td>\n",
       "      <td>0</td>\n",
       "      <td>25.0</td>\n",
       "      <td>0.253</td>\n",
       "      <td>22</td>\n",
       "      <td>0</td>\n",
       "    </tr>\n",
       "  </tbody>\n",
       "</table>\n",
       "<p>698 rows × 9 columns</p>\n",
       "</div>"
      ],
      "text/plain": [
       "     Pregnancies  Glucose  BloodPressure  SkinThickness  Insulin   BMI  \\\n",
       "0              6      148             72             35        0  33.6   \n",
       "1              1       85             66             29        0  26.6   \n",
       "2              8      183             64              0        0  23.3   \n",
       "3              1       89             66             23       94  28.1   \n",
       "4              0      137             40             35      168  43.1   \n",
       "..           ...      ...            ...            ...      ...   ...   \n",
       "693            7      129             68             49      125  38.5   \n",
       "694            2       90             60              0        0  23.5   \n",
       "695            7      142             90             24      480  30.4   \n",
       "696            3      169             74             19      125  29.9   \n",
       "697            0       99              0              0        0  25.0   \n",
       "\n",
       "     DiabetesPedigreeFunction  Age  Outcome  \n",
       "0                       0.627   50        1  \n",
       "1                       0.351   31        0  \n",
       "2                       0.672   32        1  \n",
       "3                       0.167   21        0  \n",
       "4                       2.288   33        1  \n",
       "..                        ...  ...      ...  \n",
       "693                     0.439   43        1  \n",
       "694                     0.191   25        0  \n",
       "695                     0.128   43        1  \n",
       "696                     0.268   31        1  \n",
       "697                     0.253   22        0  \n",
       "\n",
       "[698 rows x 9 columns]"
      ]
     },
     "execution_count": 1,
     "metadata": {},
     "output_type": "execute_result"
    }
   ],
   "source": [
    "import pandas as pd\n",
    "\n",
    "df = pd.read_csv('diabetes_train.csv')\n",
    "df"
   ]
  },
  {
   "cell_type": "markdown",
   "id": "a8c3f74d",
   "metadata": {},
   "source": [
    "Define `X` and `y`. Here, `X` and `y` refers to the input and output of our classification models."
   ]
  },
  {
   "cell_type": "code",
   "execution_count": 2,
   "id": "cbd91e3d",
   "metadata": {},
   "outputs": [],
   "source": [
    "X = df.iloc[:, :-1] # or, df[['Pregnancies', 'Glucose', 'BloodPressure', 'SkinThickness', 'Insulin', 'BMI', 'DiabetesPedigreeFunction', 'Age']]\n",
    "y = df.iloc[:, -1]  # or, df['Outcome']"
   ]
  },
  {
   "cell_type": "markdown",
   "id": "c6d50d59",
   "metadata": {},
   "source": [
    "## Problem 1. Check the ratio of positive samples\n",
    "\n",
    "Check the ratio of positive samples? (here, positive means the target variable `Outcome==1`)\n",
    "\n",
    "- Hint: Check the number of all samples ans positive samples."
   ]
  },
  {
   "cell_type": "code",
   "execution_count": 3,
   "id": "48bae64f",
   "metadata": {
    "scrolled": true
   },
   "outputs": [
    {
     "name": "stdout",
     "output_type": "stream",
     "text": [
      "(698, 8)\n",
      "(698,)\n",
      "The ratio of positive smaple is 0.35\n"
     ]
    }
   ],
   "source": [
    "# your code here\n",
    "# ...\n",
    "print(X.shape)\n",
    "print(y.shape)\n",
    "print(\"The ratio of positive smaple is\", round(y.sum() / len(y),2))    # y값들 중 1인 값들의 합 / y 샘플의 총 개수   ->   positve(1)인 애들의 비율이 나온다"
   ]
  },
  {
   "cell_type": "markdown",
   "id": "92f27d4b",
   "metadata": {},
   "source": [
    "## Problem 2. Train Classifiers"
   ]
  },
  {
   "cell_type": "markdown",
   "id": "4dc1e731",
   "metadata": {},
   "source": [
    "First, split the data into training and validation data. This is necessary to avoid overfitting. When spliting data, apply `stratify` option (why?)."
   ]
  },
  {
   "cell_type": "code",
   "execution_count": 4,
   "id": "fdde3072",
   "metadata": {},
   "outputs": [],
   "source": [
    "from sklearn.model_selection import train_test_split\n",
    "\n",
    "X_trn, X_val, y_trn, y_val = train_test_split(X, y, test_size=0.3, stratify=y, random_state=0)"
   ]
  },
  {
   "cell_type": "markdown",
   "id": "c56595a6",
   "metadata": {},
   "source": [
    "Apply feature normalization so that all features are considered equal."
   ]
  },
  {
   "cell_type": "code",
   "execution_count": 5,
   "id": "f63b9e23",
   "metadata": {},
   "outputs": [],
   "source": [
    "from sklearn.preprocessing import StandardScaler\n",
    "\n",
    "scaler = StandardScaler()\n",
    "scaler.fit(X_trn)\n",
    "X_trn_norm = scaler.transform(X_trn)\n",
    "X_val_norm = scaler.transform(X_val)"
   ]
  },
  {
   "cell_type": "markdown",
   "id": "d99a9d36",
   "metadata": {},
   "source": [
    "Train decision tree, random forest, and logistic regression using the normalized training data. And check the training and validation performances of the model (e.g., accuracy, fscore, ...)."
   ]
  },
  {
   "cell_type": "code",
   "execution_count": 6,
   "id": "499d4855",
   "metadata": {
    "scrolled": true
   },
   "outputs": [
    {
     "name": "stdout",
     "output_type": "stream",
     "text": [
      "trainning finished.\n"
     ]
    }
   ],
   "source": [
    "# your code here\n",
    "# ...\n",
    "from sklearn.tree import DecisionTreeClassifier\n",
    "from sklearn.naive_bayes import GaussianNB\n",
    "from sklearn.neighbors import KNeighborsClassifier\n",
    "from sklearn.linear_model import LogisticRegression\n",
    "from sklearn.ensemble import RandomForestClassifier\n",
    "\n",
    "clf_dt = DecisionTreeClassifier(max_depth=3)\n",
    "clf_dt.fit(X_trn, y_trn)\n",
    "\n",
    "clf_nb = GaussianNB()\n",
    "clf_nb.fit(X_trn, y_trn)\n",
    "\n",
    "clf_knn = KNeighborsClassifier(n_neighbors=5)\n",
    "clf_knn.fit(X_trn_norm, y_trn)\n",
    "\n",
    "clf_lr = LogisticRegression()\n",
    "clf_lr.fit(X_trn_norm, y_trn)\n",
    "\n",
    "clf_rf = RandomForestClassifier()\n",
    "clf_rf.fit(X_trn, y_trn)\n",
    "\n",
    "print(\"trainning finished.\")"
   ]
  },
  {
   "cell_type": "code",
   "execution_count": 7,
   "id": "2ba843b8",
   "metadata": {},
   "outputs": [],
   "source": [
    "from sklearn.metrics import accuracy_score, precision_score, recall_score, f1_score\n",
    "\n",
    "def evaluate(y_true, y_pred):\n",
    "    accuracy = accuracy_score(y_true, y_pred)\n",
    "    precision = precision_score(y_true, y_pred)\n",
    "    recall = recall_score(y_true, y_pred)\n",
    "    fscore = f1_score(y_true, y_pred)\n",
    "    print('Accuracy: {:.2f}%'.format(accuracy*100))\n",
    "    print('Precision: {:.2f}%'.format(precision*100))\n",
    "    print('Recall: {:.2f}%'.format(recall*100))\n",
    "    print('Fscore: {:.2f}%'.format(fscore*100))"
   ]
  },
  {
   "cell_type": "code",
   "execution_count": 8,
   "id": "c72e1f35",
   "metadata": {},
   "outputs": [
    {
     "name": "stdout",
     "output_type": "stream",
     "text": [
      "Model: Decision Tree\n",
      "Accuracy: 68.10%\n",
      "Precision: 56.82%\n",
      "Recall: 34.25%\n",
      "Fscore: 42.74%\n",
      "\n",
      "Model: k-NN\n",
      "Accuracy: 73.33%\n",
      "Precision: 66.04%\n",
      "Recall: 47.95%\n",
      "Fscore: 55.56%\n",
      "\n",
      "Model: Naive Bayes\n",
      "Accuracy: 69.52%\n",
      "Precision: 58.49%\n",
      "Recall: 42.47%\n",
      "Fscore: 49.21%\n",
      "\n",
      "Model: Logistic Regression\n",
      "Accuracy: 72.38%\n",
      "Precision: 66.67%\n",
      "Recall: 41.10%\n",
      "Fscore: 50.85%\n",
      "\n",
      "Model: Random Forest\n",
      "Accuracy: 70.95%\n",
      "Precision: 63.04%\n",
      "Recall: 39.73%\n",
      "Fscore: 48.74%\n",
      "\n"
     ]
    }
   ],
   "source": [
    "for clf, name in zip(\n",
    "    [clf_dt, clf_knn, clf_nb, clf_lr, clf_rf],\n",
    "    ['Decision Tree', 'k-NN', 'Naive Bayes', 'Logistic Regression', 'Random Forest']\n",
    ") :\n",
    "    if name in ['k-NN', 'Logistic Regression']:\n",
    "        y_val_pred = clf.predict(X_val_norm)\n",
    "    else:\n",
    "        y_val_pred = clf.predict(X_val)\n",
    "    print('Model: {}'.format(name))\n",
    "    evaluate(y_val, y_val_pred)\n",
    "    print()"
   ]
  },
  {
   "cell_type": "markdown",
   "id": "64f295b6",
   "metadata": {},
   "source": [
    "## Problem 3. Feature importance\n",
    "\n",
    "Remember that logistic regression, decision tree, and random forest provide information about which feature is important to predict the outcome.\n",
    "\n",
    "In our problem of diabetes diagnosis, which feature is important? explore the model and describe your opinion."
   ]
  },
  {
   "cell_type": "markdown",
   "id": "b94ab836",
   "metadata": {},
   "source": [
    "다섯가지 모델 중 정확도가 가장 높은 모델은 Random Forest가 73.81%로 가장 높았다. k-NN과 Logistic Regression이 각각 73.33%, 72.38%로 그 뒤를 이었다. Precision과 Recall의 조화평균인 F1score는 k-NN(55.56%), Random Forest(54.55%), Logistic Regression(50.85%) 순으로 높았다. 이러한 결과를 비추어봤을 때, 가장 잘 작동하는 모델은 k-NN 또는 Random Forest라고 할 수 있다."
   ]
  },
  {
   "cell_type": "markdown",
   "id": "d9f36a9a",
   "metadata": {},
   "source": [
    "## Problem 4. Check model performance on new data (test performance)\n",
    "\n",
    "Today, 70 new patients arrived in our hospital, so you want to check your model performance on new samples.\n",
    "The labels of new instances were obtained by diagnosis of experienced doctors.\n",
    "\n",
    "The test data named `diabetes_test.csv` is located in the same forder."
   ]
  },
  {
   "cell_type": "code",
   "execution_count": null,
   "id": "581c8e18",
   "metadata": {},
   "outputs": [],
   "source": [
    "df_test = pd.read_csv('diabetes_test.csv')\n",
    "df_test"
   ]
  },
  {
   "cell_type": "markdown",
   "id": "ee3e242c",
   "metadata": {},
   "source": [
    "Define `X` and `y` of test data."
   ]
  },
  {
   "cell_type": "code",
   "execution_count": null,
   "id": "9097ae8d",
   "metadata": {},
   "outputs": [],
   "source": [
    "X_test = df_test.iloc[:, :-1]\n",
    "y_test = df_test.iloc[:, -1]"
   ]
  },
  {
   "cell_type": "markdown",
   "id": "8f7fdd1a",
   "metadata": {},
   "source": [
    "Test your classifiers on the test data and draw a plot containing ROC curves and AUC scores of the models obtained in the Problem 2.\n",
    "* (warning) Don't forget normalization using `scaler` before inputting your data into the model. Or, your results may be not good...\n",
    "* Use `plt.savefig('roc.png')` to save the plot to the file named `roc.png`."
   ]
  },
  {
   "cell_type": "code",
   "execution_count": 11,
   "id": "03711757",
   "metadata": {},
   "outputs": [
    {
     "name": "stderr",
     "output_type": "stream",
     "text": [
      "C:\\Users\\01wkd\\anaconda3\\Lib\\site-packages\\sklearn\\base.py:457: UserWarning: X has feature names, but KNeighborsClassifier was fitted without feature names\n",
      "  warnings.warn(\n"
     ]
    },
    {
     "data": {
      "image/png": "[encoded data removed]",
      "text/plain": [
       "<Figure size 640x480 with 1 Axes>"
      ]
     },
     "metadata": {},
     "output_type": "display_data"
    }
   ],
   "source": [
    "# your code here\n",
    "# ...\n",
    "import matplotlib.pyplot as plt\n",
    "\n",
    "from sklearn.metrics import roc_curve, roc_auc_score\n",
    "\n",
    "for clf, name in zip(\n",
    "    [clf_dt, clf_knn, clf_nb, clf_lr, clf_rf],\n",
    "    ['Decision Tree', 'k-NN', 'Naive Bayes', 'Logistic Regression', 'Random Forest']\n",
    "):\n",
    "    \n",
    "    if  name in ['k_nn', 'Logistic Regression']:\n",
    "        y_val_pred_proba = clf.predict_proba(X_val_norm)[:, 1]\n",
    "    else:\n",
    "        y_val_pred_proba = clf.predict_proba(X_val)[:, 1]\n",
    "    \n",
    "    \n",
    "    fpr, tpr, _ = roc_curve(y_val, y_val_pred_proba)\n",
    "    \n",
    "    auc = roc_auc_score(y_val,y_val_pred_proba)\n",
    "    \n",
    "    plt.plot(fpr, tpr, label = \"{}, auc={:.2f}\".format(name, auc))\n",
    "    \n",
    "plt.legend(loc=4)\n",
    "plt.xlabel('1-Secificity (FPR)')\n",
    "plt.ylabel('Sensitivity (TPR)')\n",
    "plt.title('ROC Curve')\n",
    "plt.show()"
   ]
  }
 ],
 "metadata": {
  "kernelspec": {
   "display_name": "Python 3 (ipykernel)",
   "language": "python",
   "name": "python3"
  },
  "language_info": {
   "codemirror_mode": {
    "name": "ipython",
    "version": 3
   },
   "file_extension": ".py",
   "mimetype": "text/x-python",
   "name": "python",
   "nbconvert_exporter": "python",
   "pygments_lexer": "ipython3",
   "version": "3.11.4"
  }
 },
 "nbformat": 4,
 "nbformat_minor": 5
}
