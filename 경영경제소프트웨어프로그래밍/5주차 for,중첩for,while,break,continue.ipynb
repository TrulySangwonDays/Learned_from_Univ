{
 "cells": [
  {
   "cell_type": "code",
   "execution_count": 3,
   "metadata": {},
   "outputs": [
    {
     "name": "stdout",
     "output_type": "stream",
     "text": [
      "0 안녕하세요. for문을 공부중입니다. ^^\n",
      "1 안녕하세요. for문을 공부중입니다. ^^\n",
      "2 안녕하세요. for문을 공부중입니다. ^^\n"
     ]
    }
   ],
   "source": [
    "for i in range(0, 3, 1) :\n",
    "    print(i, '안녕하세요. for문을 공부중입니다. ^^')"
   ]
  },
  {
   "cell_type": "code",
   "execution_count": 5,
   "metadata": {},
   "outputs": [
    {
     "name": "stdout",
     "output_type": "stream",
     "text": [
      "1 2 3 4 5 "
     ]
    }
   ],
   "source": [
    "for i in range(1,6) :\n",
    "    print(i, end=\" \")"
   ]
  },
  {
   "cell_type": "code",
   "execution_count": 7,
   "metadata": {},
   "outputs": [
    {
     "name": "stdout",
     "output_type": "stream",
     "text": [
      "1에서 10까지 합계 : 55\n"
     ]
    }
   ],
   "source": [
    "hap = 0\n",
    "for i in range(1,11,1) :\n",
    "    hap += i\n",
    "print(f'1에서 10까지 합계 : {hap}')"
   ]
  },
  {
   "cell_type": "code",
   "execution_count": 11,
   "metadata": {},
   "outputs": [
    {
     "name": "stdout",
     "output_type": "stream",
     "text": [
      "187500\n"
     ]
    }
   ],
   "source": [
    "# 500에서 1000까지 홀수 합계 (내가 짠 코드, 이면서 교수님 코드)\n",
    "hap = 0\n",
    "for i in range(500, 1001, 1) :\n",
    "    if i % 2 == 1 :\n",
    "        hap += i\n",
    "print(hap)"
   ]
  },
  {
   "cell_type": "code",
   "execution_count": 2,
   "metadata": {},
   "outputs": [
    {
     "name": "stdout",
     "output_type": "stream",
     "text": [
      "187500\n"
     ]
    }
   ],
   "source": [
    "# 500에서 1000까지 홀수 합계 (교재 코드)\n",
    "hap = 0\n",
    "for i in range(501, 1000, 2) :\n",
    "    hap += i\n",
    "print(hap)"
   ]
  },
  {
   "cell_type": "code",
   "execution_count": 6,
   "metadata": {},
   "outputs": [
    {
     "name": "stdout",
     "output_type": "stream",
     "text": [
      "7부터 30까지 3씩 증가시킨 값의 합계 : 140\n"
     ]
    }
   ],
   "source": [
    "# 시작값과 끝값, 증가값까지 사용자 입력\n",
    "hap = 0\n",
    "num_1 = int(input('시작값 입력 : '))\n",
    "num_2 = int(input('끝값 입력 : '))\n",
    "num_3 = int(input('증가값 입력 : '))\n",
    "\n",
    "for i in range(num_1, num_2+1, num_3) :\n",
    "    hap += i\n",
    "\n",
    "print(f'{num_1}부터 {num_2}까지 {num_3}씩 증가시킨 값의 합계 : {hap}')"
   ]
  },
  {
   "cell_type": "code",
   "execution_count": 7,
   "metadata": {},
   "outputs": [
    {
     "name": "stdout",
     "output_type": "stream",
     "text": [
      "7 X 1 = 7\n",
      "7 X 2 = 14\n",
      "7 X 3 = 21\n",
      "7 X 4 = 28\n",
      "7 X 5 = 35\n",
      "7 X 6 = 42\n",
      "7 X 7 = 49\n",
      "7 X 8 = 56\n",
      "7 X 9 = 63\n"
     ]
    }
   ],
   "source": [
    "# 구구단 만들기\n",
    "dan = int(input('단을 입력하세요 :'))\n",
    "\n",
    "for i in range(1, 10, 1) :\n",
    "    val = dan * i\n",
    "    print(f'{dan} X {i} = {val}')"
   ]
  },
  {
   "cell_type": "code",
   "execution_count": 19,
   "metadata": {},
   "outputs": [
    {
     "name": "stdout",
     "output_type": "stream",
     "text": [
      "2 X 1 = 2\t3 X 1 = 3\t4 X 1 = 4\t5 X 1 = 5\t6 X 1 = 6\t7 X 1 = 7\t8 X 1 = 8\t9 X 1 = 9\t\n",
      "2 X 2 = 4\t3 X 2 = 6\t4 X 2 = 8\t5 X 2 = 10\t6 X 2 = 12\t7 X 2 = 14\t8 X 2 = 16\t9 X 2 = 18\t\n",
      "2 X 3 = 6\t3 X 3 = 9\t4 X 3 = 12\t5 X 3 = 15\t6 X 3 = 18\t7 X 3 = 21\t8 X 3 = 24\t9 X 3 = 27\t\n",
      "2 X 4 = 8\t3 X 4 = 12\t4 X 4 = 16\t5 X 4 = 20\t6 X 4 = 24\t7 X 4 = 28\t8 X 4 = 32\t9 X 4 = 36\t\n",
      "2 X 5 = 10\t3 X 5 = 15\t4 X 5 = 20\t5 X 5 = 25\t6 X 5 = 30\t7 X 5 = 35\t8 X 5 = 40\t9 X 5 = 45\t\n",
      "2 X 6 = 12\t3 X 6 = 18\t4 X 6 = 24\t5 X 6 = 30\t6 X 6 = 36\t7 X 6 = 42\t8 X 6 = 48\t9 X 6 = 54\t\n",
      "2 X 7 = 14\t3 X 7 = 21\t4 X 7 = 28\t5 X 7 = 35\t6 X 7 = 42\t7 X 7 = 49\t8 X 7 = 56\t9 X 7 = 63\t\n",
      "2 X 8 = 16\t3 X 8 = 24\t4 X 8 = 32\t5 X 8 = 40\t6 X 8 = 48\t7 X 8 = 56\t8 X 8 = 64\t9 X 8 = 72\t\n",
      "2 X 9 = 18\t3 X 9 = 27\t4 X 9 = 36\t5 X 9 = 45\t6 X 9 = 54\t7 X 9 = 63\t8 X 9 = 72\t9 X 9 = 81\t\n"
     ]
    }
   ],
   "source": [
    "# 중첩for 루프 (feat.구구단 전부 출력하기)\n",
    "for i in range(1, 10, 1) :\n",
    "    for j in range(2, 10, 1) :\n",
    "        val = j * i\n",
    "        print(f'{j} X {i} = {val}', end='\\t')\n",
    "    print()"
   ]
  },
  {
   "cell_type": "code",
   "execution_count": 21,
   "metadata": {},
   "outputs": [
    {
     "name": "stdout",
     "output_type": "stream",
     "text": [
      "2 X 1 = 2\t2 X 2 = 4\t2 X 3 = 6\t2 X 4 = 8\t2 X 5 = 10\t2 X 6 = 12\t2 X 7 = 14\t2 X 8 = 16\t2 X 9 = 18\t\n",
      "3 X 1 = 3\t3 X 2 = 6\t3 X 3 = 9\t3 X 4 = 12\t3 X 5 = 15\t3 X 6 = 18\t3 X 7 = 21\t3 X 8 = 24\t3 X 9 = 27\t\n",
      "4 X 1 = 4\t4 X 2 = 8\t4 X 3 = 12\t4 X 4 = 16\t4 X 5 = 20\t4 X 6 = 24\t4 X 7 = 28\t4 X 8 = 32\t4 X 9 = 36\t\n",
      "5 X 1 = 5\t5 X 2 = 10\t5 X 3 = 15\t5 X 4 = 20\t5 X 5 = 25\t5 X 6 = 30\t5 X 7 = 35\t5 X 8 = 40\t5 X 9 = 45\t\n",
      "6 X 1 = 6\t6 X 2 = 12\t6 X 3 = 18\t6 X 4 = 24\t6 X 5 = 30\t6 X 6 = 36\t6 X 7 = 42\t6 X 8 = 48\t6 X 9 = 54\t\n",
      "7 X 1 = 7\t7 X 2 = 14\t7 X 3 = 21\t7 X 4 = 28\t7 X 5 = 35\t7 X 6 = 42\t7 X 7 = 49\t7 X 8 = 56\t7 X 9 = 63\t\n",
      "8 X 1 = 8\t8 X 2 = 16\t8 X 3 = 24\t8 X 4 = 32\t8 X 5 = 40\t8 X 6 = 48\t8 X 7 = 56\t8 X 8 = 64\t8 X 9 = 72\t\n",
      "9 X 1 = 9\t9 X 2 = 18\t9 X 3 = 27\t9 X 4 = 36\t9 X 5 = 45\t9 X 6 = 54\t9 X 7 = 63\t9 X 8 = 72\t9 X 9 = 81\t\n"
     ]
    }
   ],
   "source": [
    "# 중첩for 루프 (feat.구구단 전부 출력하기) 가로세로변환\n",
    "for i in range(2, 10, 1) :\n",
    "    for j in range(1, 10, 1) :\n",
    "        val = i * j\n",
    "        print(f'{i} X {j} = {val}', end='\\t')\n",
    "    print()"
   ]
  },
  {
   "cell_type": "code",
   "execution_count": 22,
   "metadata": {},
   "outputs": [
    {
     "name": "stdout",
     "output_type": "stream",
     "text": [
      "hi 0\n",
      "hi 1\n",
      "hi 2\n"
     ]
    }
   ],
   "source": [
    "# while 루프\n",
    "i = 0\n",
    "while i < 3 :\n",
    "    print('hi', i)\n",
    "    i += 1"
   ]
  },
  {
   "cell_type": "code",
   "execution_count": 26,
   "metadata": {},
   "outputs": [
    {
     "name": "stdout",
     "output_type": "stream",
     "text": [
      "1에서 10까지의 합 : 55\n"
     ]
    }
   ],
   "source": [
    "# while 구문으로 1에서 10까지의 합계 구하기\n",
    "hap = 0\n",
    "i = 1\n",
    "\n",
    "while i < 11 :\n",
    "    hap += i\n",
    "    i += 1\n",
    "print(f'1에서 10까지의 합 : {hap}')\n",
    "    "
   ]
  },
  {
   "cell_type": "code",
   "execution_count": 28,
   "metadata": {},
   "outputs": [
    {
     "name": "stdout",
     "output_type": "stream",
     "text": [
      "10 + 1 = 11\n"
     ]
    },
    {
     "ename": "ValueError",
     "evalue": "invalid literal for int() with base 10: ''",
     "output_type": "error",
     "traceback": [
      "\u001b[1;31m---------------------------------------------------------------------------\u001b[0m",
      "\u001b[1;31mValueError\u001b[0m                                Traceback (most recent call last)",
      "Cell \u001b[1;32mIn[28], line 3\u001b[0m\n\u001b[0;32m      1\u001b[0m \u001b[38;5;66;03m# while 무한루프 사용해서 입력받은 두 숫자 합계 계산\u001b[39;00m\n\u001b[0;32m      2\u001b[0m \u001b[38;5;28;01mwhile\u001b[39;00m \u001b[38;5;28;01mTrue\u001b[39;00m :\n\u001b[1;32m----> 3\u001b[0m     num_1 \u001b[38;5;241m=\u001b[39m \u001b[38;5;28mint\u001b[39m(\u001b[38;5;28minput\u001b[39m(\u001b[38;5;124m'\u001b[39m\u001b[38;5;124m첫번째 숫자 : \u001b[39m\u001b[38;5;124m'\u001b[39m))\n\u001b[0;32m      4\u001b[0m     num_2 \u001b[38;5;241m=\u001b[39m \u001b[38;5;28mint\u001b[39m(\u001b[38;5;28minput\u001b[39m(\u001b[38;5;124m'\u001b[39m\u001b[38;5;124m두번째 숫자 : \u001b[39m\u001b[38;5;124m'\u001b[39m))\n\u001b[0;32m      5\u001b[0m     val \u001b[38;5;241m=\u001b[39m num_1 \u001b[38;5;241m+\u001b[39m num_2\n",
      "\u001b[1;31mValueError\u001b[0m: invalid literal for int() with base 10: ''"
     ]
    }
   ],
   "source": [
    "# while 무한루프 사용해서 입력받은 두 숫자 합계 계산\n",
    "while True :\n",
    "    num_1 = int(input('첫번째 숫자 : '))\n",
    "    num_2 = int(input('두번째 숫자 : '))\n",
    "    val = num_1 + num_2\n",
    "    print(f'{num_1} + {num_2} = {val}')\n"
   ]
  },
  {
   "cell_type": "code",
   "execution_count": 35,
   "metadata": {},
   "outputs": [
    {
     "name": "stdout",
     "output_type": "stream",
     "text": [
      "1 / 8 = 몫: 0, 나머지: 1\n"
     ]
    },
    {
     "ename": "ValueError",
     "evalue": "invalid literal for int() with base 10: ''",
     "output_type": "error",
     "traceback": [
      "\u001b[1;31m---------------------------------------------------------------------------\u001b[0m",
      "\u001b[1;31mValueError\u001b[0m                                Traceback (most recent call last)",
      "Cell \u001b[1;32mIn[35], line 3\u001b[0m\n\u001b[0;32m      1\u001b[0m \u001b[38;5;66;03m# while 무한루프 사용해서 덧셈,뺄셈,곱셈,나눗셈,나머지 계산\u001b[39;00m\n\u001b[0;32m      2\u001b[0m \u001b[38;5;28;01mwhile\u001b[39;00m \u001b[38;5;28;01mTrue\u001b[39;00m :\n\u001b[1;32m----> 3\u001b[0m     num_1 \u001b[38;5;241m=\u001b[39m \u001b[38;5;28mint\u001b[39m(\u001b[38;5;28minput\u001b[39m(\u001b[38;5;124m'\u001b[39m\u001b[38;5;124m첫번째 숫자 : \u001b[39m\u001b[38;5;124m'\u001b[39m))\n\u001b[0;32m      4\u001b[0m     \u001b[38;5;28;01mif\u001b[39;00m num_1 \u001b[38;5;241m==\u001b[39m \u001b[38;5;241m0\u001b[39m :\n\u001b[0;32m      5\u001b[0m         \u001b[38;5;28;01mbreak\u001b[39;00m\n",
      "\u001b[1;31mValueError\u001b[0m: invalid literal for int() with base 10: ''"
     ]
    }
   ],
   "source": [
    "# while 무한루프 사용해서 덧셈,뺄셈,곱셈,나눗셈,나머지 계산\n",
    "while True :\n",
    "    num_1 = int(input('첫번째 숫자 : '))\n",
    "    if num_1 == 0 :\n",
    "        break\n",
    "    num_2 = int(input('두번째 숫자 : '))\n",
    "    ch = str(input('연산자 입력(+,-,*,/) :'))\n",
    "    \n",
    "    if ch == '+' :\n",
    "        print(f'{num_1} + {num_2} = {num_1 + num_2}')\n",
    "    elif ch == '-' :\n",
    "        print(f'{num_1} - {num_2} = {num_1 - num_2}')\n",
    "    elif ch == '-' :\n",
    "        print(f'{num_1} * {num_2} = {num_1 * num_2}')\n",
    "    elif ch == '/' :\n",
    "        print(f'{num_1} / {num_2} = 몫: {num_1 // num_2}, 나머지: {num_1 % num_2}')\n",
    "    else :\n",
    "        print('연산자를 다시 입력하세요')\n",
    "        \n",
    "    \n"
   ]
  },
  {
   "cell_type": "code",
   "execution_count": 2,
   "metadata": {},
   "outputs": [
    {
     "name": "stdout",
     "output_type": "stream",
     "text": [
      "1~100의 합계를 최초롤 1000을 넘게 하는 숫자 : 45\n"
     ]
    }
   ],
   "source": [
    "# break 예제\n",
    "hap = 0\n",
    "for i in range(1, 100, 1) :\n",
    "    hap += i\n",
    "    \n",
    "    if hap >= 1000 :\n",
    "        break\n",
    "\n",
    "print('1~100의 합계를 최초롤 1000을 넘게 하는 숫자 : %d' %i)"
   ]
  },
  {
   "cell_type": "code",
   "execution_count": 4,
   "metadata": {},
   "outputs": [
    {
     "name": "stdout",
     "output_type": "stream",
     "text": [
      "1~100의 합계(3의 배수 제외) : 3367\n"
     ]
    }
   ],
   "source": [
    "# continue 예제\n",
    "hap = 0\n",
    "for i in range(1, 101) :\n",
    "    if i % 3 == 0 :\n",
    "        continue\n",
    "    \n",
    "    hap += i\n",
    "\n",
    "print('1~100의 합계(3의 배수 제외) : %d' %hap)"
   ]
  },
  {
   "cell_type": "code",
   "execution_count": 8,
   "metadata": {},
   "outputs": [
    {
     "name": "stdout",
     "output_type": "stream",
     "text": [
      "✁\n",
      "★\n"
     ]
    }
   ],
   "source": [
    "# 유니코드\n",
    "print('\\u2701')\n",
    "print('\\u2605')"
   ]
  },
  {
   "cell_type": "code",
   "execution_count": 10,
   "metadata": {},
   "outputs": [
    {
     "name": "stdout",
     "output_type": "stream",
     "text": [
      "        ★\n",
      "      ★★★\n",
      "    ★★★★★\n",
      "  ★★★★★★★\n",
      "★★★★★★★★★\n",
      "  ★★★★★★★\n",
      "    ★★★★★\n",
      "      ★★★\n",
      "        ★\n"
     ]
    }
   ],
   "source": [
    "# 별 마름모 형태 만들기\n",
    "i, k = 0, 0\n",
    "\n",
    "i = 0\n",
    "while i < 9 :\n",
    "    if i < 5 :\n",
    "        k = 0\n",
    "        while k < 4-i :\n",
    "            print('  ', end='')\n",
    "            k += 1\n",
    "        k = 0\n",
    "        while k < i*2+1 :\n",
    "            print('\\u2605', end='')\n",
    "            k += 1\n",
    "    else :\n",
    "        k = 0\n",
    "        while k < i-4 :\n",
    "            print('  ', end='')\n",
    "            k += 1\n",
    "        k = 0\n",
    "        while k < (9-i)*2-1 :\n",
    "            print('\\u2605', end='')\n",
    "            k += 1\n",
    "    print()\n",
    "    i += 1"
   ]
  },
  {
   "cell_type": "code",
   "execution_count": null,
   "metadata": {},
   "outputs": [],
   "source": []
  },
  {
   "cell_type": "markdown",
   "metadata": {},
   "source": [
    "### 시험안내\n",
    "#### 1 누르면 이렇게 해, 2 누르면 이렇게 해\n",
    "- 등등 내부로직 3개, 그걸 싸고 있는 루프를 만들어야 해\n",
    "- 다 못한 것 주석 상태로 내면 부분점수\n",
    "- 실행했는데 오류 떠버리면 점수없음..."
   ]
  }
 ],
 "metadata": {
  "kernelspec": {
   "display_name": "base",
   "language": "python",
   "name": "python3"
  },
  "language_info": {
   "codemirror_mode": {
    "name": "ipython",
    "version": 3
   },
   "file_extension": ".py",
   "mimetype": "text/x-python",
   "name": "python",
   "nbconvert_exporter": "python",
   "pygments_lexer": "ipython3",
   "version": "3.11.4"
  }
 },
 "nbformat": 4,
 "nbformat_minor": 2
}
