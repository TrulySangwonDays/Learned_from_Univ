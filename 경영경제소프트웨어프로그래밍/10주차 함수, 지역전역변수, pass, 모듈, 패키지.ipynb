{
 "cells": [
  {
   "cell_type": "markdown",
   "metadata": {},
   "source": [
    "#### 함수는 *매개변수*를 써도 되고 없어도 된다."
   ]
  },
  {
   "cell_type": "code",
   "execution_count": 2,
   "metadata": {},
   "outputs": [
    {
     "name": "stdout",
     "output_type": "stream",
     "text": [
      "100과 200의 plus() 함수 결과는 300\n"
     ]
    }
   ],
   "source": [
    "def plus(v1, v2) :\n",
    "    result =  0\n",
    "    result = v1 + v2\n",
    "    return result\n",
    "\n",
    "hap = 0\n",
    "\n",
    "hap = plus(100, 200)\n",
    "print('100과 200의 plus() 함수 결과는 %d' %hap)"
   ]
  },
  {
   "cell_type": "code",
   "execution_count": 4,
   "metadata": {},
   "outputs": [
    {
     "name": "stdout",
     "output_type": "stream",
     "text": [
      "100과 200의 plus() 함수 결과는 300\n"
     ]
    }
   ],
   "source": [
    "# 효율적인 코드로 단축\n",
    "def plus(v1, v2) :\n",
    "    return v1 + v2\n",
    "\n",
    "print('100과 200의 plus() 함수 결과는 %d' %plus(100, 200))"
   ]
  },
  {
   "cell_type": "code",
   "execution_count": 18,
   "metadata": {},
   "outputs": [
    {
     "name": "stdout",
     "output_type": "stream",
     "text": [
      "5 * 7 = 35\n"
     ]
    }
   ],
   "source": [
    "# 사칙연산 함수\n",
    "def calc(v1, v2, op) :\n",
    "    result = 0\n",
    "    if op == '+' :\n",
    "        result = v1 + v2\n",
    "    elif op == '-' :\n",
    "        result = v1 - v2\n",
    "    elif op == '*' :\n",
    "        result = v1 * v2\n",
    "    elif op == '/' :\n",
    "        result = v1 / v2\n",
    "    return result\n",
    "\n",
    "var1 = int(input(\"첫번째 숫자\"))\n",
    "var2 = int(input('두번째 숫자'))\n",
    "option = input('+ or - or * or /')\n",
    "\n",
    "\n",
    "res = calc(var1, var2, option)\n",
    "print(f'{var1} {option} {var2} = {res}')"
   ]
  },
  {
   "cell_type": "code",
   "execution_count": 26,
   "metadata": {},
   "outputs": [
    {
     "name": "stdout",
     "output_type": "stream",
     "text": [
      "0으로 나누면 안 돼요.\n"
     ]
    }
   ],
   "source": [
    "# 사칙연산 함수 (제곱과 0나누지마 옵션)\n",
    "def calc(v1, v2, op) :\n",
    "    result = 0\n",
    "    if op == '+' :\n",
    "        result = v1 + v2\n",
    "    elif op == '-' :\n",
    "        result = v1 - v2\n",
    "    elif op == '*' :\n",
    "        result = v1 * v2\n",
    "    elif op == '/' :\n",
    "        result = v1 / v2\n",
    "    elif op == '**' :\n",
    "        result = v1 ** v2\n",
    "    return result\n",
    "\n",
    "var1 = int(input(\"첫번째 숫자\"))\n",
    "option = input('+ or - or * or / or **')\n",
    "var2 = int(input('두번째 숫자'))\n",
    "\n",
    "if option == \"/\" and var2 == 0 :\n",
    "    print('0으로 나누면 안 돼요.')\n",
    "else :\n",
    "    res = calc(var1, var2, option)\n",
    "    print(f'{var1} {option} {var2} = {res}')"
   ]
  },
  {
   "cell_type": "markdown",
   "metadata": {},
   "source": [
    "#### 지역변수와 전역변수의 변수명을 똑같은 것을 사용해도 된다.\n",
    "#### 지역변수 사용이 우선, 없으면 전역변수 사용"
   ]
  },
  {
   "cell_type": "code",
   "execution_count": 28,
   "metadata": {},
   "outputs": [
    {
     "name": "stdout",
     "output_type": "stream",
     "text": [
      "func1()에서 a값 10\n",
      "func2()에서 a값 10\n"
     ]
    }
   ],
   "source": [
    "def func1() :\n",
    "    global a\n",
    "    a = 10\n",
    "    print(\"func1()에서 a값 %d\" %a)\n",
    "    \n",
    "def func2() :\n",
    "    print(\"func2()에서 a값 %d\" %a)\n",
    "    \n",
    "a = 20\n",
    "\n",
    "func1()\n",
    "func2()"
   ]
  },
  {
   "cell_type": "code",
   "execution_count": 1,
   "metadata": {},
   "outputs": [
    {
     "name": "stdout",
     "output_type": "stream",
     "text": [
      "<class 'tuple'>\n",
      "(300, -100)\n",
      "300\n",
      "-100\n"
     ]
    }
   ],
   "source": [
    "# 반환값이 여러 개인 경우 -> 튜플 타입으로 반환함.\n",
    "def multi(v1, v2) :\n",
    "    return v1 + v2, v1 - v2\n",
    "\n",
    "mytuple = multi(100, 200)\n",
    "\n",
    "print(type(mytuple))\n",
    "print(mytuple)\n",
    "print(mytuple[0])\n",
    "print(mytuple[1])"
   ]
  },
  {
   "cell_type": "code",
   "execution_count": 5,
   "metadata": {},
   "outputs": [
    {
     "name": "stdout",
     "output_type": "stream",
     "text": [
      "매개변수가 2개인 함수를 호출한 결과 -> 30\n",
      "매개변수가 3개인 함수를 호출한 결과 -> 60\n"
     ]
    }
   ],
   "source": [
    "# 매개변수에 기본값을 설정해 놓고 전달하는 방법\n",
    "# 파라미터에 디폴트 값 설정하지 않으면 오류 발생\n",
    "def para_func(v1, v2, v3 = 0) :\n",
    "    result = 0\n",
    "    result = v1 + v2 + v3\n",
    "    return result\n",
    "\n",
    "hap = 0\n",
    "\n",
    "hap = para_func(10, 20)\n",
    "print(\"매개변수가 2개인 함수를 호출한 결과 -> %d\" %hap)\n",
    "hap = para_func(10, 20, 30)\n",
    "print(\"매개변수가 3개인 함수를 호출한 결과 -> %d\" %hap)"
   ]
  },
  {
   "cell_type": "code",
   "execution_count": 7,
   "metadata": {},
   "outputs": [
    {
     "name": "stdout",
     "output_type": "stream",
     "text": [
      "파라미터 2개만 호출한 결과 : 30\n",
      "파라미터 3개만 호출한 결과 : 60\n",
      "파라미터 10개 호출한 결과 : 55\n"
     ]
    }
   ],
   "source": [
    "# 파라미터의 개수를 지정하지 않고 전달하는 방법\n",
    "# *하나 쓰면 튜플타입으로, **두개 쓰면 딕셔너리타입으로.\n",
    "def para_func(*para) :\n",
    "    result = 0\n",
    "    for num in para :\n",
    "        result += num\n",
    "    return result\n",
    "\n",
    "hap = 0\n",
    "\n",
    "hap = para_func(10, 20)\n",
    "print(\"파라미터 2개만 호출한 결과 : %d\" %hap)\n",
    "hap = para_func(10, 20, 30)\n",
    "print(\"파라미터 3개만 호출한 결과 : %d\" %hap)\n",
    "hap = para_func(1,2,3,4,5,6,7,8,9,10)\n",
    "print(\"파라미터 10개 호출한 결과 : %d\" %hap)"
   ]
  },
  {
   "cell_type": "code",
   "execution_count": 1,
   "metadata": {},
   "outputs": [
    {
     "name": "stdout",
     "output_type": "stream",
     "text": [
      "**로또 추첨을 시작합니다.** \n",
      "\n",
      "추첨된 로또번호 ->  1  2  11  14  19  20  "
     ]
    }
   ],
   "source": [
    "# 로또 추첨 프로그램\n",
    "import random\n",
    "\n",
    "def getNumber() :\n",
    "    return random.randrange(1, 46)\n",
    "\n",
    "lotto = []\n",
    "num = 0\n",
    "\n",
    "print(\"**로또 추첨을 시작합니다.** \\n\")\n",
    "\n",
    "while True :\n",
    "    num = getNumber()\n",
    "    if lotto.count(num) == 0 :\n",
    "        lotto.append(num)\n",
    "    if len(lotto) >= 6 :\n",
    "        break\n",
    "\n",
    "print('추첨된 로또번호 -> ', end=\" \")\n",
    "lotto.sort()\n",
    "for i in range(0, 6) :\n",
    "    print(\"%d \" %lotto[i], end=' ')"
   ]
  },
  {
   "cell_type": "markdown",
   "metadata": {},
   "source": [
    "#### 모듈 : 함수의 집합\n",
    "모듈을 호출하는 방식은 두 가지.\n",
    "1. **import** module\n",
    "    - module.func1( )\n",
    "    - module.func2( )\n",
    "2. **from** module **import** func1( ), func2( )\n",
    "    - func1( )\n",
    "    - func2( )"
   ]
  },
  {
   "cell_type": "markdown",
   "metadata": {},
   "source": [
    "### 패키지 : 모듈의 집합 -> `모듈을 주제별로 분리할 때 주로 사용`\n",
    "호출하는 방식\n",
    "- **from** 패키지명.모듈명 **import** 함수명\n",
    "- **from** package.Module1 **import** *"
   ]
  },
  {
   "cell_type": "code",
   "execution_count": null,
   "metadata": {},
   "outputs": [],
   "source": []
  },
  {
   "cell_type": "code",
   "execution_count": null,
   "metadata": {},
   "outputs": [],
   "source": []
  },
  {
   "cell_type": "code",
   "execution_count": null,
   "metadata": {},
   "outputs": [],
   "source": []
  },
  {
   "cell_type": "code",
   "execution_count": null,
   "metadata": {},
   "outputs": [],
   "source": []
  },
  {
   "cell_type": "code",
   "execution_count": null,
   "metadata": {},
   "outputs": [],
   "source": []
  },
  {
   "cell_type": "code",
   "execution_count": null,
   "metadata": {},
   "outputs": [],
   "source": []
  },
  {
   "cell_type": "code",
   "execution_count": null,
   "metadata": {},
   "outputs": [],
   "source": []
  },
  {
   "cell_type": "code",
   "execution_count": null,
   "metadata": {},
   "outputs": [],
   "source": []
  }
 ],
 "metadata": {
  "kernelspec": {
   "display_name": "base",
   "language": "python",
   "name": "python3"
  },
  "language_info": {
   "codemirror_mode": {
    "name": "ipython",
    "version": 3
   },
   "file_extension": ".py",
   "mimetype": "text/x-python",
   "name": "python",
   "nbconvert_exporter": "python",
   "pygments_lexer": "ipython3",
   "version": "3.11.4"
  }
 },
 "nbformat": 4,
 "nbformat_minor": 2
}
