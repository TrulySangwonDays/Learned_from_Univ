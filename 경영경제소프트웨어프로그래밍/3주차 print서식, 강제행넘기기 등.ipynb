{
 "cells": [
  {
   "cell_type": "markdown",
   "id": "845468da",
   "metadata": {},
   "source": [
    "- print서식\n",
    "- 강제행넘기기"
   ]
  },
  {
   "cell_type": "code",
   "execution_count": 1,
   "id": "405fc4d7",
   "metadata": {},
   "outputs": [
    {
     "name": "stdout",
     "output_type": "stream",
     "text": [
      "100\n",
      "100\n",
      "100+100\n",
      "200\n"
     ]
    }
   ],
   "source": [
    "print('100')\n",
    "print('%d' % 100)\n",
    "\n",
    "print('100+100')\n",
    "print('%d' % (100+100))"
   ]
  },
  {
   "cell_type": "code",
   "execution_count": 2,
   "id": "aa66beb4",
   "metadata": {},
   "outputs": [
    {
     "ename": "TypeError",
     "evalue": "not all arguments converted during string formatting",
     "output_type": "error",
     "traceback": [
      "\u001b[1;31m---------------------------------------------------------------------------\u001b[0m",
      "\u001b[1;31mTypeError\u001b[0m                                 Traceback (most recent call last)",
      "Cell \u001b[1;32mIn[2], line 1\u001b[0m\n\u001b[1;32m----> 1\u001b[0m \u001b[38;5;28mprint\u001b[39m(\u001b[38;5;124;43m'\u001b[39;49m\u001b[38;5;132;43;01m%d\u001b[39;49;00m\u001b[38;5;124;43m'\u001b[39;49m\u001b[43m \u001b[49m\u001b[38;5;241;43m%\u001b[39;49m\u001b[43m \u001b[49m\u001b[43m(\u001b[49m\u001b[38;5;241;43m100\u001b[39;49m\u001b[43m,\u001b[49m\u001b[43m \u001b[49m\u001b[38;5;241;43m200\u001b[39;49m\u001b[43m)\u001b[49m) \u001b[38;5;66;03m##오류 데시멀 타입 개수가 안맞음\u001b[39;00m\n\u001b[0;32m      2\u001b[0m \u001b[38;5;28mprint\u001b[39m(\u001b[38;5;124m'\u001b[39m\u001b[38;5;132;01m%d\u001b[39;00m\u001b[38;5;124m \u001b[39m\u001b[38;5;132;01m%d\u001b[39;00m\u001b[38;5;124m'\u001b[39m \u001b[38;5;241m%\u001b[39m (\u001b[38;5;241m100\u001b[39m)) \u001b[38;5;66;03m##오류 데시멀 타입 개수가 안맞음\u001b[39;00m\n",
      "\u001b[1;31mTypeError\u001b[0m: not all arguments converted during string formatting"
     ]
    }
   ],
   "source": [
    "print('%d' % (100, 200)) ##오류 데시멀 타입 개수가 안맞음\n",
    "print('%d %d' % (100)) ##오류 데시멀 타입 개수가 안맞음"
   ]
  },
  {
   "cell_type": "code",
   "execution_count": 5,
   "id": "b3e3c7c8",
   "metadata": {},
   "outputs": [
    {
     "name": "stdout",
     "output_type": "stream",
     "text": [
      "100 / 200 =   0.5\n",
      "100 / 200 =      0.500\n",
      "  100 / 200 =   0.5\n",
      "64 / 310 =   0.5\n"
     ]
    }
   ],
   "source": [
    "print('%d / %d = %5.1f' % (100, 200, 0.5) )\n",
    "print('%d / %d = %10.3f' % (100, 200, 0.5) )\n",
    "\n",
    "print('%5d / %3d = %5.1f' % (100, 200, 0.5) )\n",
    "\n",
    "\n",
    "print('%x / %o = %5.1f' % (100, 200, 0.5) )\n",
    "\n",
    "# . 앞에는 총 길이, . 뒤에는 소수점 개수"
   ]
  },
  {
   "cell_type": "code",
   "execution_count": 8,
   "id": "691bcb97",
   "metadata": {},
   "outputs": [
    {
     "name": "stdout",
     "output_type": "stream",
     "text": [
      "123\n",
      "  123\n",
      "00123\n",
      "123.450000\n",
      "  123.5\n",
      "123.450\n",
      "Python\n",
      "    Python\n"
     ]
    }
   ],
   "source": [
    "print('%d' % 123)\n",
    "print('%5d' % 123)\n",
    "print('%05d' % 123)\n",
    "\n",
    "print('%f' % 123.45)\n",
    "print('%7.1f' % 123.45)\n",
    "print('%7.3f' % 123.45)\n",
    "\n",
    "print('%s' % 'Python')\n",
    "print('%10s' % 'Python')\n",
    "\n",
    "# 데시멀 10진수 -> %d       |    문자열 -> %s"
   ]
  },
  {
   "cell_type": "code",
   "execution_count": 9,
   "id": "8040e4d7",
   "metadata": {},
   "outputs": [
    {
     "name": "stdout",
     "output_type": "stream",
     "text": [
      "100   200 00300\n",
      "100  20000300\n",
      "789   456 00123\n"
     ]
    }
   ],
   "source": [
    "# {위치 몇번째 : 형식}\n",
    "print('{0:d} {1:5d} {2:05d}'.format(100, 200, 300))\n",
    "print('{0:d}{1:5d}{2:05d}'.format(100, 200, 300))\n",
    "\n",
    "print('{2:d} {1:5d} {0:05d}'.format(123, 456, 789))"
   ]
  },
  {
   "cell_type": "code",
   "execution_count": 8,
   "id": "295ec261",
   "metadata": {},
   "outputs": [
    {
     "name": "stdout",
     "output_type": "stream",
     "text": [
      "\n",
      "줄바꿈\n",
      "연습\n",
      "\t탭키\t연습\n",
      "글자가 \"강조\"되는 효과1\n",
      "글자가 '강조'되는 효과1\n",
      "\\\\ 역슬레시 두 개 출력\n",
      "\\n\\t\\\"\\\\를 그대로 출력\n",
      "\n",
      "\b\n"
     ]
    }
   ],
   "source": [
    "print('\\n줄바꿈\\n연습')\n",
    "print('\\t탭키\\t연습')\n",
    "print(\"글자가 \\\"강조\\\"되는 효과1\")\n",
    "print(\"글자가 \\'강조\\'되는 효과1\")\n",
    "print(\"\\\\\\\\ 역슬레시 두 개 출력\")\n",
    "print(r\"\\n\\t\\\"\\\\를 그대로 출력\")\n",
    "print()\n",
    "print(\"\\b\")"
   ]
  },
  {
   "cell_type": "code",
   "execution_count": 9,
   "id": "63d6abb9",
   "metadata": {},
   "outputs": [
    {
     "name": "stdout",
     "output_type": "stream",
     "text": [
      "200\n",
      "200\n",
      "201\n",
      "300\n",
      "<class 'int'>\n",
      "<class 'float'>\n",
      "<class 'bool'>\n"
     ]
    }
   ],
   "source": [
    "var2 = 200\n",
    "var1 = var2\n",
    "\n",
    "print(var2)\n",
    "print(var1)\n",
    "\n",
    "var1 = 100 + 101\n",
    "print(var1)\n",
    "\n",
    "var1 = var2 + 100\n",
    "print(var1)\n",
    "\n",
    "\n",
    "myVar = 100\n",
    "print(type(myVar))\n",
    "myVar = 100.0\n",
    "print(type(myVar))\n",
    "\n",
    "print(type(10==100))"
   ]
  },
  {
   "cell_type": "code",
   "execution_count": 10,
   "id": "702156fe",
   "metadata": {},
   "outputs": [
    {
     "name": "stdout",
     "output_type": "stream",
     "text": [
      "메인 함수 부분이 실행됩니다.\n",
      "함수를 호출함.\n",
      "전역 변수 값 : 100\n"
     ]
    }
   ],
   "source": [
    "def myFunc() :\n",
    "    print('함수를 호출함.')\n",
    "\n",
    "gVar = 100\n",
    "\n",
    "if __name__ == '__main__' :\n",
    "    print('메인 함수 부분이 실행됩니다.')\n",
    "    myFunc()\n",
    "    print('전역 변수 값 :', gVar)"
   ]
  },
  {
   "cell_type": "markdown",
   "id": "18a69a2a",
   "metadata": {},
   "source": [
    "---\n",
    "# 연산자 - 환전 프로그램"
   ]
  },
  {
   "cell_type": "code",
   "execution_count": 11,
   "id": "08e88d82",
   "metadata": {},
   "outputs": [
    {
     "name": "stdout",
     "output_type": "stream",
     "text": [
      "교환할 돈은 얼마? 521546\n",
      "\n",
      "500원짜리 -> 1043개\n",
      "100원짜리 -> 0개\n",
      "50원짜리 -> 0개\n",
      "10원짜리 -> 4개\n",
      "바꾸지 못한 잔돈 -> 6원\n"
     ]
    }
   ],
   "source": [
    "## 변수 선언 부분\n",
    "money, c500, c100, c50, c10 = 0, 0, 0, 0, 0\n",
    "\n",
    "## 메인 코드 부분\n",
    "money = int(input('교환할 돈은 얼마? '))\n",
    "\n",
    "c500 = money // 500\n",
    "money %= 500\n",
    "\n",
    "c100 = money // 100\n",
    "money %= 100\n",
    "\n",
    "c50 = money // 50\n",
    "money %= 50\n",
    "\n",
    "c10 = money // 10\n",
    "money %= 10\n",
    "\n",
    "print('\\n500원짜리 -> %d개' % c500)\n",
    "print('100원짜리 -> %d개' % c100)\n",
    "print('50원짜리 -> %d개' % c50)\n",
    "print('10원짜리 -> %d개' % c10)\n",
    "print('바꾸지 못한 잔돈 -> %d원' % money)"
   ]
  },
  {
   "cell_type": "markdown",
   "id": "a816dc3b",
   "metadata": {},
   "source": [
    "---\n",
    "# 터틀 프로그램 - 거북이 마음대로 다니기"
   ]
  },
  {
   "cell_type": "code",
   "execution_count": 12,
   "id": "cd1d3f65",
   "metadata": {},
   "outputs": [],
   "source": [
    "import turtle\n",
    "import random\n",
    "\n",
    "\n",
    "## 전역변수 선언\n",
    "swidth, sheight, pSize, exitCount = 300, 300, 3, 0\n",
    "r, g, b ,angle, dist, curX, curY = [0] * 7\n",
    "\n",
    "## 메인 코드 부분\n",
    "turtle.title('거북이 마음대로 다니기')\n",
    "turtle.shape('turtle')\n",
    "turtle.pensize(pSize)\n",
    "turtle.setup(width = swidth + 30, height = sheight + 30)\n",
    "turtle.screensize(swidth, sheight)\n",
    "\n",
    "while True :\n",
    "    r = random.random()\n",
    "    g = random.random()\n",
    "    b = random.random()\n",
    "    turtle.pencolor((r,g,b))\n",
    "\n",
    "    angle = random.randrange(0, 360)\n",
    "    dist = random.randrange(1, 100)\n",
    "    turtle.left(angle)\n",
    "    turtle.forward(dist)\n",
    "    curX = turtle.xcor()\n",
    "    curY = turtle.ycor()\n",
    "\n",
    "    if (-swidth/2 <= curX and curX <= swidth/2) and (-sheight/2 <= curY and curY <= sheight/2) :\n",
    "        pass\n",
    "    else :\n",
    "        turtle.penup()\n",
    "        turtle.goto(0,0)\n",
    "        turtle.pendown()\n",
    "\n",
    "        exitCount += 1\n",
    "        if exitCount >= 2 :\n",
    "            break\n",
    "\n",
    "turtle.done()"
   ]
  },
  {
   "cell_type": "code",
   "execution_count": null,
   "id": "8909f507",
   "metadata": {},
   "outputs": [],
   "source": []
  },
  {
   "cell_type": "code",
   "execution_count": null,
   "id": "a8e76713",
   "metadata": {},
   "outputs": [],
   "source": []
  },
  {
   "cell_type": "code",
   "execution_count": null,
   "id": "c6ae4934",
   "metadata": {},
   "outputs": [],
   "source": []
  },
  {
   "cell_type": "code",
   "execution_count": null,
   "id": "e5157668",
   "metadata": {},
   "outputs": [],
   "source": []
  },
  {
   "cell_type": "code",
   "execution_count": null,
   "id": "afef6be1",
   "metadata": {},
   "outputs": [],
   "source": []
  },
  {
   "cell_type": "code",
   "execution_count": null,
   "id": "af3f45d5",
   "metadata": {},
   "outputs": [],
   "source": []
  },
  {
   "cell_type": "code",
   "execution_count": null,
   "id": "0ebb5c2a",
   "metadata": {},
   "outputs": [],
   "source": []
  },
  {
   "cell_type": "code",
   "execution_count": null,
   "id": "921f3681",
   "metadata": {},
   "outputs": [],
   "source": []
  },
  {
   "cell_type": "code",
   "execution_count": null,
   "id": "0406a9e5",
   "metadata": {},
   "outputs": [],
   "source": []
  },
  {
   "cell_type": "code",
   "execution_count": null,
   "id": "b1d47ece",
   "metadata": {},
   "outputs": [],
   "source": []
  }
 ],
 "metadata": {
  "kernelspec": {
   "display_name": "Python 3 (ipykernel)",
   "language": "python",
   "name": "python3"
  },
  "language_info": {
   "codemirror_mode": {
    "name": "ipython",
    "version": 3
   },
   "file_extension": ".py",
   "mimetype": "text/x-python",
   "name": "python",
   "nbconvert_exporter": "python",
   "pygments_lexer": "ipython3",
   "version": "3.9.2"
  }
 },
 "nbformat": 4,
 "nbformat_minor": 5
}
