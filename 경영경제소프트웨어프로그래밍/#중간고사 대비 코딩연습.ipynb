{
 "cells": [
  {
   "cell_type": "code",
   "execution_count": 8,
   "metadata": {},
   "outputs": [
    {
     "name": "stdout",
     "output_type": "stream",
     "text": [
      "5 < 7\n"
     ]
    }
   ],
   "source": [
    "# 두 수 비교하기\n",
    "a = input('첫번째 숫자')\n",
    "b = input('두번째 숫자')\n",
    "\n",
    "if a > b :\n",
    "    print(a + ' > ' + b)\n",
    "elif a < b :\n",
    "    print(a + ' < ' + b)\n",
    "elif a == b :\n",
    "    print(a + ' == ' + b)"
   ]
  },
  {
   "cell_type": "code",
   "execution_count": 7,
   "metadata": {},
   "outputs": [
    {
     "name": "stdout",
     "output_type": "stream",
     "text": [
      "F\n"
     ]
    }
   ],
   "source": [
    "# 시험점수\n",
    "num = int(input('점수 입력 : '))\n",
    "\n",
    "if num >= 90 :\n",
    "    print('A')\n",
    "elif num >= 80 :\n",
    "    print('B')\n",
    "elif num >= 70 :\n",
    "    print('C')\n",
    "elif num >= 60 :\n",
    "    print('D')\n",
    "else :\n",
    "    print('F')"
   ]
  },
  {
   "cell_type": "code",
   "execution_count": 28,
   "metadata": {},
   "outputs": [
    {
     "name": "stdout",
     "output_type": "stream",
     "text": [
      "윤년\n"
     ]
    }
   ],
   "source": [
    "# 윤년\n",
    "year = int(input('연도 입력 : '))\n",
    "\n",
    "if year % 4 == 0 :\n",
    "    if year % 100 != 0 :\n",
    "        print('윤년')\n",
    "    elif year % 400 == 0 :\n",
    "        print('윤년')\n",
    "    else :\n",
    "        print('윤년 아님')\n",
    "else :\n",
    "    print('윤년 아님')"
   ]
  },
  {
   "cell_type": "code",
   "execution_count": 33,
   "metadata": {},
   "outputs": [
    {
     "name": "stdout",
     "output_type": "stream",
     "text": [
      "1사분면 5 5\n"
     ]
    }
   ],
   "source": [
    "# 좌표 사분면 판별\n",
    "x = int(input('x값 입력 :'))\n",
    "y = int(input('y값 입력 :'))\n",
    "\n",
    "if x > 0 :\n",
    "    if y > 0 :\n",
    "        print('1사분면', x, y)\n",
    "    elif y < 0 :\n",
    "        print('4사분면', x, y)\n",
    "if x < 0 :\n",
    "    if y > 0 :\n",
    "        print('2사분면', x, y)\n",
    "    elif y < 0 :\n",
    "        print('3사분면', x, y)    \n",
    "if x == 0 and y == 0 :\n",
    "    print('(0, 0)')"
   ]
  },
  {
   "cell_type": "code",
   "execution_count": 45,
   "metadata": {},
   "outputs": [
    {
     "name": "stdout",
     "output_type": "stream",
     "text": [
      "상근이 알람시간 : 0시 30분\n",
      "창영이 알람시간 : 23시 45분\n"
     ]
    }
   ],
   "source": [
    "# 알람시계\n",
    "h = int(input('상근이 몇시 : '))\n",
    "m = int(input('상근이 몇분 : '))\n",
    "h_1, m_1 = 0, 0\n",
    "print(f'상근이 알람시간 : {h}시 {m}분', end='\\n')\n",
    "\n",
    "\n",
    "if h == 0 :\n",
    "    if (45-m) < 0 :\n",
    "        h_1 = h\n",
    "        m_1 = 45-m\n",
    "        print(f'창영이 알람시간 : {h_1}시 {m_1}분', end='\\n')\n",
    "\n",
    "    elif (45-m) > 0 :\n",
    "        h_1 = 23\n",
    "        m_1 = 60 - (45-m)\n",
    "        print(f'창영이 알람시간 : {h_1}시 {m_1}분', end='\\n')    \n",
    "\n",
    "else :\n",
    "    if (45-m) < 0 :\n",
    "        h_1 = h\n",
    "        m_1 = 45-m\n",
    "        print(f'창영이 알람시간 : {h_1}시 {m_1}분', end='\\n')\n",
    "\n",
    "    elif (45-m) > 0 :\n",
    "        h_1 = h-1\n",
    "        m_1 = 60 - (45-m)\n",
    "        print(f'창영이 알람시간 : {h_1}시 {m_1}분', end='\\n')"
   ]
  },
  {
   "cell_type": "code",
   "execution_count": 46,
   "metadata": {},
   "outputs": [],
   "source": [
    "# 오븐시계\n"
   ]
  },
  {
   "cell_type": "code",
   "execution_count": null,
   "metadata": {},
   "outputs": [],
   "source": []
  },
  {
   "cell_type": "code",
   "execution_count": null,
   "metadata": {},
   "outputs": [],
   "source": []
  },
  {
   "cell_type": "code",
   "execution_count": null,
   "metadata": {},
   "outputs": [],
   "source": []
  }
 ],
 "metadata": {
  "kernelspec": {
   "display_name": "base",
   "language": "python",
   "name": "python3"
  },
  "language_info": {
   "codemirror_mode": {
    "name": "ipython",
    "version": 3
   },
   "file_extension": ".py",
   "mimetype": "text/x-python",
   "name": "python",
   "nbconvert_exporter": "python",
   "pygments_lexer": "ipython3",
   "version": "3.11.4"
  }
 },
 "nbformat": 4,
 "nbformat_minor": 2
}
