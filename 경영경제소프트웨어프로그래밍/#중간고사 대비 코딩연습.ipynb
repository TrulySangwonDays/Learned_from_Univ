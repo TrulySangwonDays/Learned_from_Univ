{
 "cells": [
  {
   "cell_type": "code",
   "execution_count": 8,
   "metadata": {},
   "outputs": [
    {
     "name": "stdout",
     "output_type": "stream",
     "text": [
      "5 < 7\n"
     ]
    }
   ],
   "source": [
    "# 두 수 비교하기\n",
    "a = input('첫번째 숫자')\n",
    "b = input('두번째 숫자')\n",
    "\n",
    "if a > b :\n",
    "    print(a + ' > ' + b)\n",
    "elif a < b :\n",
    "    print(a + ' < ' + b)\n",
    "elif a == b :\n",
    "    print(a + ' == ' + b)"
   ]
  },
  {
   "cell_type": "code",
   "execution_count": 7,
   "metadata": {},
   "outputs": [
    {
     "name": "stdout",
     "output_type": "stream",
     "text": [
      "F\n"
     ]
    }
   ],
   "source": [
    "# 시험점수\n",
    "num = int(input('점수 입력 : '))\n",
    "\n",
    "if num >= 90 :\n",
    "    print('A')\n",
    "elif num >= 80 :\n",
    "    print('B')\n",
    "elif num >= 70 :\n",
    "    print('C')\n",
    "elif num >= 60 :\n",
    "    print('D')\n",
    "else :\n",
    "    print('F')"
   ]
  },
  {
   "cell_type": "code",
   "execution_count": 28,
   "metadata": {},
   "outputs": [
    {
     "name": "stdout",
     "output_type": "stream",
     "text": [
      "윤년\n"
     ]
    }
   ],
   "source": [
    "# 윤년\n",
    "year = int(input('연도 입력 : '))\n",
    "\n",
    "if year % 4 == 0 :\n",
    "    if year % 100 != 0 :\n",
    "        print('윤년')\n",
    "    elif year % 400 == 0 :\n",
    "        print('윤년')\n",
    "    else :\n",
    "        print('윤년 아님')\n",
    "else :\n",
    "    print('윤년 아님')"
   ]
  },
  {
   "cell_type": "code",
   "execution_count": 33,
   "metadata": {},
   "outputs": [
    {
     "name": "stdout",
     "output_type": "stream",
     "text": [
      "1사분면 5 5\n"
     ]
    }
   ],
   "source": [
    "# 좌표 사분면 판별\n",
    "x = int(input('x값 입력 :'))\n",
    "y = int(input('y값 입력 :'))\n",
    "\n",
    "if x > 0 :\n",
    "    if y > 0 :\n",
    "        print('1사분면', x, y)\n",
    "    elif y < 0 :\n",
    "        print('4사분면', x, y)\n",
    "if x < 0 :\n",
    "    if y > 0 :\n",
    "        print('2사분면', x, y)\n",
    "    elif y < 0 :\n",
    "        print('3사분면', x, y)    \n",
    "if x == 0 and y == 0 :\n",
    "    print('(0, 0)')"
   ]
  },
  {
   "cell_type": "code",
   "execution_count": 1,
   "metadata": {},
   "outputs": [
    {
     "name": "stdout",
     "output_type": "stream",
     "text": [
      "상근이 알람시간 : 461시 546분\n",
      "창영이 알람시간 : 461시 -501분\n"
     ]
    }
   ],
   "source": [
    "# 알람시계\n",
    "h = int(input('상근이 몇시 : '))\n",
    "m = int(input('상근이 몇분 : '))\n",
    "h_1, m_1 = 0, 0\n",
    "print(f'상근이 알람시간 : {h}시 {m}분', end='\\n')\n",
    "\n",
    "\n",
    "if h == 0 :\n",
    "    if (45-m) < 0 :\n",
    "        h_1 = h\n",
    "        m_1 = 45-m\n",
    "        print(f'창영이 알람시간 : {h_1}시 {m_1}분', end='\\n')\n",
    "\n",
    "    elif (45-m) > 0 :\n",
    "        h_1 = 23\n",
    "        m_1 = 60 - (45-m)\n",
    "        print(f'창영이 알람시간 : {h_1}시 {m_1}분', end='\\n')    \n",
    "\n",
    "else :\n",
    "    if (45-m) < 0 :\n",
    "        h_1 = h\n",
    "        m_1 = 45-m\n",
    "        print(f'창영이 알람시간 : {h_1}시 {m_1}분', end='\\n')\n",
    "\n",
    "    elif (45-m) > 0 :\n",
    "        h_1 = h-1\n",
    "        m_1 = 60 - (45-m)\n",
    "        print(f'창영이 알람시간 : {h_1}시 {m_1}분', end='\\n')"
   ]
  },
  {
   "cell_type": "markdown",
   "metadata": {},
   "source": [
    "### 240422 중간시험 전날 복습"
   ]
  },
  {
   "cell_type": "markdown",
   "metadata": {},
   "source": [
    "### chapter 1~3"
   ]
  },
  {
   "cell_type": "code",
   "execution_count": 3,
   "metadata": {},
   "outputs": [
    {
     "name": "stdout",
     "output_type": "stream",
     "text": [
      "100\n",
      "100\n"
     ]
    }
   ],
   "source": [
    "# input( ) 함수로 정수 변환\n",
    "print(int(100))\n",
    "print(int(100.123))"
   ]
  },
  {
   "cell_type": "code",
   "execution_count": 5,
   "metadata": {},
   "outputs": [],
   "source": [
    "## 함수 선언 부분 ##\n",
    "\n",
    "\n",
    "## 변수 선언 부분 ##\n",
    "\n",
    "\n",
    "## 메인 코드 부분 ##\n",
    "\n"
   ]
  },
  {
   "cell_type": "code",
   "execution_count": 12,
   "metadata": {},
   "outputs": [
    {
     "name": "stdout",
     "output_type": "stream",
     "text": [
      "안녕하세요. 파이썬\n"
     ]
    },
    {
     "data": {
      "text/plain": [
       "\"\\ndata = '안녕' +     '하세요. ' +         '파이썬'\\nprint(data)\\n\""
      ]
     },
     "execution_count": 12,
     "metadata": {},
     "output_type": "execute_result"
    }
   ],
   "source": [
    "data = '안녕' + \\\n",
    "    '하세요. ' + \\\n",
    "        '파이썬'\n",
    "print(data)\n",
    "\n",
    "# 장문주석 처리 -> '''   '''\n",
    "'''\n",
    "data = '안녕' + \\\n",
    "    '하세요. ' + \\\n",
    "        '파이썬'\n",
    "print(data)\n",
    "'''"
   ]
  },
  {
   "cell_type": "code",
   "execution_count": 16,
   "metadata": {},
   "outputs": [
    {
     "ename": "NameError",
     "evalue": "name 'turtme' is not defined",
     "output_type": "error",
     "traceback": [
      "\u001b[1;31m---------------------------------------------------------------------------\u001b[0m",
      "\u001b[1;31mNameError\u001b[0m                                 Traceback (most recent call last)",
      "Cell \u001b[1;32mIn[16], line 9\u001b[0m\n\u001b[0;32m      6\u001b[0m turtle\u001b[38;5;241m.\u001b[39mforward(\u001b[38;5;241m200\u001b[39m)\n\u001b[0;32m      7\u001b[0m turtle\u001b[38;5;241m.\u001b[39mright(\u001b[38;5;241m90\u001b[39m)\n\u001b[1;32m----> 9\u001b[0m turtme\u001b[38;5;241m.\u001b[39mdone()\n",
      "\u001b[1;31mNameError\u001b[0m: name 'turtme' is not defined"
     ]
    },
    {
     "ename": "",
     "evalue": "",
     "output_type": "error",
     "traceback": [
      "\u001b[1;31m현재 셀 또는 이전 셀에서 코드를 실행하는 동안 Kernel이 충돌했습니다. \n",
      "\u001b[1;31m셀의 코드를 검토하여 가능한 오류 원인을 식별하세요. \n",
      "\u001b[1;31m자세한 내용을 보려면 <a href='https://aka.ms/vscodeJupyterKernelCrash'>여기</a>를 클릭하세요. \n",
      "\u001b[1;31m자세한 내용은 Jupyter <a href='command:jupyter.viewOutput'>로그</a>를 참조하세요."
     ]
    }
   ],
   "source": [
    "# 터틀 프로그램 기본 틀 만들기\n",
    "import turtle\n",
    "\n",
    "turtle.shape('turtle')\n",
    "\n",
    "turtle.forward(200)\n",
    "turtle.right(90)\n",
    "\n",
    "turtle.done()"
   ]
  },
  {
   "cell_type": "code",
   "execution_count": 3,
   "metadata": {},
   "outputs": [
    {
     "name": "stdout",
     "output_type": "stream",
     "text": [
      "100\n",
      "100\n"
     ]
    }
   ],
   "source": [
    "print(\"100\") # 100을 문자열로 인식\n",
    "print(\"%d\" %100) # 100을 숫자 100으로 인식"
   ]
  },
  {
   "cell_type": "code",
   "execution_count": 28,
   "metadata": {},
   "outputs": [
    {
     "name": "stdout",
     "output_type": "stream",
     "text": [
      "100\n",
      "64\n",
      "10\n"
     ]
    }
   ],
   "source": [
    "print('%d' %100)\n",
    "print(\"%x\" %100)\n",
    "print('%o' %8)"
   ]
  },
  {
   "cell_type": "code",
   "execution_count": 31,
   "metadata": {},
   "outputs": [
    {
     "name": "stdout",
     "output_type": "stream",
     "text": [
      "123   123 00123\n",
      "123   123 00123\n",
      "300 100 200\n"
     ]
    }
   ],
   "source": [
    "print('%d %5d %05d' %(123, 123, 123))\n",
    "print('{0:d} {1:5d} {2:05d}'.format(123,123,123))\n",
    "print('{2:d} {0:d} {1:d}'.format(100,200,300))"
   ]
  },
  {
   "cell_type": "markdown",
   "metadata": {},
   "source": [
    "### chapter 4 연산자"
   ]
  },
  {
   "cell_type": "markdown",
   "metadata": {},
   "source": [
    "### chapter 5 조건문"
   ]
  },
  {
   "cell_type": "code",
   "execution_count": null,
   "metadata": {},
   "outputs": [],
   "source": []
  },
  {
   "cell_type": "code",
   "execution_count": null,
   "metadata": {},
   "outputs": [],
   "source": []
  },
  {
   "cell_type": "code",
   "execution_count": null,
   "metadata": {},
   "outputs": [],
   "source": []
  },
  {
   "cell_type": "markdown",
   "metadata": {},
   "source": [
    "---\n",
    "# 23년 1학기 중간고사\n",
    "### 1,2,3 입력하면 해당 프로그램 실행, end입력하면 프로그램 종료\n",
    "- 1번 : 초기투자금액 입력하면 특정 복리 이자율로 투자금이 특정 금액 이상이 되기 위해서 얼마나 걸리는지, 얼마가 되는지 출력\n",
    "- 2변 : 터틀 프로그램으로 색상을 계속 입력하다가 end를 누르면 그 색상의 원을 차례로 그리는 프로그램\n",
    "- 3번 : 뺄셈, 곱셈, 덧셈 퀴즈를 내고 사용자가 정답을 맞출 때까지 입력값 받음. 숫자와 사칙연산은 무작워로 나오도록"
   ]
  },
  {
   "cell_type": "code",
   "execution_count": 9,
   "metadata": {},
   "outputs": [
    {
     "name": "stdout",
     "output_type": "stream",
     "text": [
      "10년 간 투자하면,  21589250.0원을 달성할 수 있습니다.\n",
      "10년 간 투자하면, 21589249.973원을 달성할 수 있습니다.\n"
     ]
    }
   ],
   "source": [
    "# 1번\n",
    "cho_gi = int(input('초기투자금액을 입력하세요 :'))\n",
    "value_wanted = int(input('원하는 특정 금액을 입력하세요 :'))\n",
    "rate = float(input('이자율을 입력하세요'))\n",
    "\n",
    "value_forecasted = cho_gi\n",
    "gigan = 0\n",
    "\n",
    "while value_forecasted < value_wanted :\n",
    "    gigan += 1\n",
    "    value_forecasted = cho_gi * (1+rate)**gigan\n",
    "\n",
    "\n",
    "print(f'{gigan}년 간 투자하면, {value_forecasted : .1f}원을 달성할 수 있습니다.')\n",
    "print(f'{gigan}년 간 투자하면, {value_forecasted :.3f}원을 달성할 수 있습니다.')"
   ]
  },
  {
   "cell_type": "code",
   "execution_count": 8,
   "metadata": {},
   "outputs": [],
   "source": [
    "# 2번\n"
   ]
  },
  {
   "cell_type": "code",
   "execution_count": 12,
   "metadata": {},
   "outputs": [
    {
     "name": "stdout",
     "output_type": "stream",
     "text": [
      "3 - 1 = 2 정답입니다.\n"
     ]
    }
   ],
   "source": [
    "# 3번\n",
    "import random\n",
    "\n",
    "how = ['+', '-', 'X']\n",
    "how_go = random.choice(how)\n",
    "\n",
    "if how_go == '+' :\n",
    "    # 덧셈\n",
    "    a_1 = random.randint(1, 9)\n",
    "    a_2 = random.randint(1, 9)\n",
    "    a_3 = a_1 + a_2\n",
    "    a_ans = None\n",
    "    \n",
    "    while a_ans != a_3 :\n",
    "        a_ans = int(input(f'{a_1} + {a_2} = : '))\n",
    "    print(f'{a_1} + {a_2} = {a_ans} 정답입니다.')\n",
    "\n",
    "elif how_go == '-' :\n",
    "    # 뺄셈\n",
    "    b_1 = random.randint(1, 9)\n",
    "    b_2 = random.randint(1, 9)\n",
    "    b_3 = b_1 - b_2\n",
    "    b_ans = None\n",
    "\n",
    "    while b_ans != b_3 :\n",
    "        b_ans = int(input(f'{b_1} - {b_2} = : '))\n",
    "    print(f'{b_1} - {b_2} = {b_ans} 정답입니다.')\n",
    "\n",
    "elif how_go == 'X' :\n",
    "    # 곱셈\n",
    "    c_1 = random.randint(1, 9)\n",
    "    c_2 = random.randint(1, 9)\n",
    "    c_3 = c_1 * c_2\n",
    "    c_ans = None\n",
    "\n",
    "    while c_ans != c_3 :\n",
    "        c_ans = int(input(f'{c_1} X {c_2} = : '))\n",
    "    print(f'{c_1} X {c_2} = {c_ans} 정답입니다.')"
   ]
  },
  {
   "cell_type": "code",
   "execution_count": null,
   "metadata": {},
   "outputs": [],
   "source": []
  },
  {
   "cell_type": "markdown",
   "metadata": {},
   "source": [
    "# 퀴즈 1 복습"
   ]
  },
  {
   "cell_type": "code",
   "execution_count": 18,
   "metadata": {},
   "outputs": [
    {
     "name": "stdout",
     "output_type": "stream",
     "text": [
      "1시간 1초\n"
     ]
    }
   ],
   "source": [
    "# 1번 문제\n",
    "cho = int(input('초입력 :'))\n",
    "\n",
    "hour = cho // 3600\n",
    "minute = (cho % 3600) // 60\n",
    "second = (cho % 3600) % 60\n",
    "\n",
    "# 00시간 00분 00초\n",
    "if hour!=0 and minute!=0 and second!=0 :\n",
    "    print('%d시간 %d분 %d초' %(hour, minute, second))\n",
    "# 00시간 00분\n",
    "elif hour!=0 and minute!=0 and second==0 :\n",
    "    print('%d시간 %d분' %(hour, minute))\n",
    "# 00시간\n",
    "elif hour!=0 and minute==0 and second==0 :\n",
    "    print('%d시간' %(hour))\n",
    "\n",
    "# 00분 00초\n",
    "elif hour==0 and minute!=0 and second!=0 :\n",
    "    print('%d분 %d초' %(minute, second))\n",
    "\n",
    "# 00분\n",
    "elif hour==0 and minute!=0 and second!=0 :\n",
    "    print('%d분' %(minute))\n",
    "\n",
    "# 00초\n",
    "elif hour==0 and minute==0 and second!=0 :\n",
    "    print('%d초' %(second))\n",
    "\n",
    "# 00시간 00초\n",
    "elif hour!=0 and minute==0 and second!=0 :\n",
    "    print('%d시간 %d초' %(hour, second))\n",
    "\n",
    "\n",
    "\n"
   ]
  },
  {
   "cell_type": "code",
   "execution_count": 19,
   "metadata": {},
   "outputs": [
    {
     "name": "stdout",
     "output_type": "stream",
     "text": [
      "2X1=2\t\t4X1=4\t5X1=5\t6X1=6\t7X1=7\t8X1=8\t9X1=9\t\n",
      "2X2=4\t\t4X2=8\t5X2=10\t6X2=12\t7X2=14\t8X2=16\t9X2=18\t\n",
      "\t\t\t\t\t\t\t\t\n",
      "2X4=8\t\t4X4=16\t5X4=20\t6X4=24\t7X4=28\t\t\t\n",
      "2X5=10\t\t4X5=20\t5X5=25\t\t\t8X5=40\t9X5=45\t\n",
      "2X6=12\t\t4X6=24\t\t\t7X6=42\t8X6=48\t9X6=54\t\n",
      "2X7=14\t\t4X7=28\t\t6X7=42\t7X7=49\t8X7=56\t\t\n",
      "2X8=16\t\t\t5X8=40\t6X8=48\t7X8=56\t8X8=64\t9X8=72\t\n",
      "2X9=18\t\t\t5X9=45\t6X9=54\t\t8X9=72\t9X9=81\t\n"
     ]
    }
   ],
   "source": [
    "## 2번 답안\n",
    "i = 1\n",
    "while i < 10 :\n",
    "    j = 2\n",
    "    while j < 10 :\n",
    "        if (i == 3) or (j == 3) or ((i * j)%10 == 3) or ((i * j)//10 == 3):\n",
    "            print('', end='\\t')\n",
    "        else :\n",
    "            val = i * j\n",
    "            print(f'{j}X{i}={val}', end='\\t')\n",
    "        j += 1\n",
    "    print('')\n",
    "    i += 1"
   ]
  },
  {
   "cell_type": "code",
   "execution_count": 20,
   "metadata": {},
   "outputs": [
    {
     "name": "stdout",
     "output_type": "stream",
     "text": [
      "3번 무작위 수를 만들었습니다.\n",
      "숫자는 [2, 1, 1] 입니다.\n"
     ]
    }
   ],
   "source": [
    "## 3번 답안\n",
    "import random\n",
    "Num = int(input('2보다 큰 정수를 입력: '))\n",
    "\n",
    "if Num > 2 :\n",
    "    List = []\n",
    "    count = 0\n",
    "\n",
    "    while True :\n",
    "        count += 1\n",
    "        ready_to_append = random.randint(1, Num)\n",
    "\n",
    "        if ready_to_append in List :\n",
    "            List.append(ready_to_append)\n",
    "            break\n",
    "\n",
    "        List.append(ready_to_append)\n",
    "\n",
    "    print(f'{count}번 무작위 수를 만들었습니다.')\n",
    "    print(f'숫자는 {List} 입니다.')\n",
    "\n",
    "else :\n",
    "    print('2보다 큰 정수를 입력하세요.')"
   ]
  },
  {
   "cell_type": "code",
   "execution_count": 26,
   "metadata": {},
   "outputs": [
    {
     "name": "stdout",
     "output_type": "stream",
     "text": [
      "---\n",
      "4번 무작위 수를 만들었습니다.\n",
      "숫자는 [10, 6, 2, 10] 입니다.\n"
     ]
    }
   ],
   "source": [
    "# 3번 다른 코드\n",
    "import random\n",
    "Num = int(input('2보다 큰 정수 :'))\n",
    "\n",
    "while Num <= 2 :\n",
    "    print(\"2보다 큰 정수를 입력하세요.\")\n",
    "    Num = int(input('2보다 큰 정수 :'))\n",
    "\n",
    "List = []\n",
    "count = 0\n",
    "\n",
    "while True :\n",
    "    count += 1\n",
    "    ready_to_append = random.randint(1, Num)\n",
    "    \n",
    "    if ready_to_append in List :\n",
    "        List.append(ready_to_append)\n",
    "        break\n",
    "    \n",
    "    List.append(ready_to_append)\n",
    "\n",
    "print(f'---\\n{count}번 무작위 수를 만들었습니다.')\n",
    "print(f'숫자는 {List} 입니다.')"
   ]
  },
  {
   "cell_type": "code",
   "execution_count": null,
   "metadata": {},
   "outputs": [],
   "source": []
  },
  {
   "cell_type": "code",
   "execution_count": null,
   "metadata": {},
   "outputs": [],
   "source": []
  },
  {
   "cell_type": "code",
   "execution_count": null,
   "metadata": {},
   "outputs": [],
   "source": []
  },
  {
   "cell_type": "code",
   "execution_count": null,
   "metadata": {},
   "outputs": [],
   "source": []
  },
  {
   "cell_type": "code",
   "execution_count": null,
   "metadata": {},
   "outputs": [],
   "source": []
  },
  {
   "cell_type": "code",
   "execution_count": null,
   "metadata": {},
   "outputs": [],
   "source": []
  },
  {
   "cell_type": "code",
   "execution_count": null,
   "metadata": {},
   "outputs": [],
   "source": []
  }
 ],
 "metadata": {
  "kernelspec": {
   "display_name": "base",
   "language": "python",
   "name": "python3"
  },
  "language_info": {
   "codemirror_mode": {
    "name": "ipython",
    "version": 3
   },
   "file_extension": ".py",
   "mimetype": "text/x-python",
   "name": "python",
   "nbconvert_exporter": "python",
   "pygments_lexer": "ipython3",
   "version": "3.9.2"
  }
 },
 "nbformat": 4,
 "nbformat_minor": 2
}
