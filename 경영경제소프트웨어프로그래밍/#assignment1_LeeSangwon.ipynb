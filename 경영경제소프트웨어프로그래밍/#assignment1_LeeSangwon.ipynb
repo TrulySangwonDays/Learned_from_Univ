{
 "cells": [
  {
   "cell_type": "code",
   "execution_count": 1,
   "metadata": {},
   "outputs": [
    {
     "name": "stdout",
     "output_type": "stream",
     "text": [
      "1시간 31분 1초\n",
      "2X1=2\t\t4X1=4\t5X1=5\t6X1=6\t7X1=7\t8X1=8\t9X1=9\t\n",
      "2X2=4\t\t4X2=8\t5X2=10\t6X2=12\t7X2=14\t8X2=16\t9X2=18\t\n",
      "\t\t\t\t\t\t\t\t\n",
      "2X4=8\t\t4X4=16\t5X4=20\t6X4=24\t7X4=28\t\t\t\n",
      "2X5=10\t\t4X5=20\t5X5=25\t\t\t8X5=40\t9X5=45\t\n",
      "2X6=12\t\t4X6=24\t\t\t7X6=42\t8X6=48\t9X6=54\t\n",
      "2X7=14\t\t4X7=28\t\t6X7=42\t7X7=49\t8X7=56\t\t\n",
      "2X8=16\t\t\t5X8=40\t6X8=48\t7X8=56\t8X8=64\t9X8=72\t\n",
      "2X9=18\t\t\t5X9=45\t6X9=54\t\t8X9=72\t9X9=81\t\n",
      "2X1=2\t\t4X1=4\t5X1=5\t6X1=6\t7X1=7\t8X1=8\t9X1=9\t\n",
      "2X2=4\t\t4X2=8\t5X2=10\t6X2=12\t7X2=14\t8X2=16\t9X2=18\t\n",
      "\t\t\t\t\t\t\t\t\n",
      "2X4=8\t\t4X4=16\t5X4=20\t6X4=24\t7X4=28\t\t\t\n",
      "2X5=10\t\t4X5=20\t5X5=25\t\t\t8X5=40\t9X5=45\t\n",
      "2X6=12\t\t4X6=24\t\t\t7X6=42\t8X6=48\t9X6=54\t\n",
      "2X7=14\t\t4X7=28\t\t6X7=42\t7X7=49\t8X7=56\t\t\n",
      "2X8=16\t\t\t5X8=40\t6X8=48\t7X8=56\t8X8=64\t9X8=72\t\n",
      "2X9=18\t\t\t5X9=45\t6X9=54\t\t8X9=72\t9X9=81\t\n",
      "2X1=2\t\t4X1=4\t5X1=5\t6X1=6\t7X1=7\t8X1=8\t9X1=9\t\n",
      "2X2=4\t\t4X2=8\t5X2=10\t6X2=12\t7X2=14\t8X2=16\t9X2=18\t\n",
      "\t\t\t\t\t\t\t\t\n",
      "2X4=8\t\t4X4=16\t5X4=20\t6X4=24\t7X4=28\t\t\t\n",
      "2X5=10\t\t4X5=20\t5X5=25\t\t\t8X5=40\t9X5=45\t\n",
      "2X6=12\t\t4X6=24\t\t\t7X6=42\t8X6=48\t9X6=54\t\n",
      "2X7=14\t\t4X7=28\t\t6X7=42\t7X7=49\t8X7=56\t\t\n",
      "2X8=16\t\t\t5X8=40\t6X8=48\t7X8=56\t8X8=64\t9X8=72\t\n",
      "2X9=18\t\t\t5X9=45\t6X9=54\t\t8X9=72\t9X9=81\t\n",
      "2X1=2\t\t4X1=4\t5X1=5\t6X1=6\t7X1=7\t8X1=8\t9X1=9\t\n",
      "2X2=4\t\t4X2=8\t5X2=10\t6X2=12\t7X2=14\t8X2=16\t9X2=18\t\n",
      "\t\t\t\t\t\t\t\t\n",
      "2X4=8\t\t4X4=16\t5X4=20\t6X4=24\t7X4=28\t\t\t\n",
      "2X5=10\t\t4X5=20\t5X5=25\t\t\t8X5=40\t9X5=45\t\n",
      "2X6=12\t\t4X6=24\t\t\t7X6=42\t8X6=48\t9X6=54\t\n",
      "2X7=14\t\t4X7=28\t\t6X7=42\t7X7=49\t8X7=56\t\t\n",
      "2X8=16\t\t\t5X8=40\t6X8=48\t7X8=56\t8X8=64\t9X8=72\t\n",
      "2X9=18\t\t\t5X9=45\t6X9=54\t\t8X9=72\t9X9=81\t\n"
     ]
    },
    {
     "ename": "NameError",
     "evalue": "name 'random' is not defined",
     "output_type": "error",
     "traceback": [
      "\u001b[1;31m---------------------------------------------------------------------------\u001b[0m",
      "\u001b[1;31mNameError\u001b[0m                                 Traceback (most recent call last)",
      "Cell \u001b[1;32mIn[1], line 58\u001b[0m\n\u001b[0;32m     56\u001b[0m \u001b[38;5;28;01mwhile\u001b[39;00m \u001b[38;5;28;01mTrue\u001b[39;00m :\n\u001b[0;32m     57\u001b[0m     count \u001b[38;5;241m+\u001b[39m\u001b[38;5;241m=\u001b[39m \u001b[38;5;241m1\u001b[39m\n\u001b[1;32m---> 58\u001b[0m     ready_to_append \u001b[38;5;241m=\u001b[39m random\u001b[38;5;241m.\u001b[39mrandint(\u001b[38;5;241m1\u001b[39m, Num)\n\u001b[0;32m     60\u001b[0m     \u001b[38;5;28;01mif\u001b[39;00m ready_to_append \u001b[38;5;129;01min\u001b[39;00m List :\n\u001b[0;32m     61\u001b[0m         List\u001b[38;5;241m.\u001b[39mappend(ready_to_append)\n",
      "\u001b[1;31mNameError\u001b[0m: name 'random' is not defined"
     ]
    }
   ],
   "source": [
    "# 20201929 이상원\n",
    "\n",
    "while True :\n",
    "    start_num = input('프로그램 실행 번호 (1~3, end:종료) : ')\n",
    "\n",
    "    if start_num == '1' :\n",
    "        \n",
    "        # 1번 답안 20201929 이상원\n",
    "        number, hour, minute, second = 0, 0, 0, 0\n",
    "\n",
    "        number = int(input(\"초 입력: \"))\n",
    "        hour = number // 3600\n",
    "        minute = (number % 3600) // 60\n",
    "        second = (number % 3600) % 60\n",
    "\n",
    "        if hour!=0 and minute!=0 and second!=0 :\n",
    "            print(f'{hour}시간 {minute}분 {second}초')\n",
    "        elif hour!=0 and minute!=0 and second==0 :\n",
    "            print(f'{hour}시간 {minute}분')\n",
    "        elif hour!=0 and minute==0 and second==0 :\n",
    "            print(f'{hour}시간')\n",
    "        elif hour==0 and minute!=0 and second!=0 :\n",
    "            print(f'{minute}분 {second}초')\n",
    "        elif hour==0 and minute!=0 and second==0 :\n",
    "            print(f'{minute}분')\n",
    "        elif hour==0 and minute==0 and second!=0 :\n",
    "            print(f'{second}초')\n",
    "        \n",
    "        \n",
    "    elif start_num == '2' :\n",
    "        \n",
    "        # 2번 답안 20201929 이상원\n",
    "        i = 1\n",
    "        while i < 10 :\n",
    "            j = 2\n",
    "            while j < 10 :\n",
    "                if (i == 3) or (j == 3) or ((i * j)%10 == 3) or ((i * j)//10 == 3):\n",
    "                    print('', end='\\t')\n",
    "                else :\n",
    "                    val = i * j\n",
    "                    print(f'{j}X{i}={val}', end='\\t')\n",
    "                j += 1\n",
    "            print('')\n",
    "            i += 1\n",
    "        \n",
    "        \n",
    "    elif start_num == '3' :\n",
    "\n",
    "        # 3번 답안 20201929 이상원\n",
    "        Num = int(input('2보다 큰 정수를 입력: '))\n",
    "\n",
    "        if Num > 2 :\n",
    "            List = []\n",
    "            count = 0\n",
    "\n",
    "            while True :\n",
    "                count += 1\n",
    "                ready_to_append = random.randint(1, Num)\n",
    "\n",
    "                if ready_to_append in List :\n",
    "                    List.append(ready_to_append)\n",
    "                    break\n",
    "\n",
    "                List.append(ready_to_append)\n",
    "\n",
    "            print(f'{count}번 무작위 수를 만들었습니다.')\n",
    "            print(f'숫자는 {List} 입니다.')\n",
    "\n",
    "        else :\n",
    "            print('2보다 큰 정수를 입력하세요.')        \n",
    "        \n",
    "        \n",
    "    elif start_num == 'end' :\n",
    "        print('=============== 프로그램 종료 ===============')\n",
    "        break\n",
    "    \n",
    "    \n",
    "    else :\n",
    "        print('잘못된 입력입니다.')\n",
    "        continue"
   ]
  },
  {
   "cell_type": "code",
   "execution_count": null,
   "metadata": {},
   "outputs": [
    {
     "name": "stdout",
     "output_type": "stream",
     "text": [
      "9분 6초\n"
     ]
    }
   ],
   "source": [
    "        # 1번 답안 20201929 이상원\n",
    "        number, hour, minute, second = 0, 0, 0, 0\n",
    "\n",
    "        number = int(input(\"초 입력: \"))\n",
    "        hour = number // 3600\n",
    "        minute = (number % 3600) // 60\n",
    "        second = (number % 3600) % 60\n",
    "\n",
    "        if hour!=0 and minute!=0 and second!=0 :\n",
    "            print(f'{hour}시간 {minute}분 {second}초')\n",
    "        elif hour!=0 and minute!=0 and second==0 :\n",
    "            print(f'{hour}시간 {minute}분')\n",
    "        elif hour!=0 and minute==0 and second==0 :\n",
    "            print(f'{hour}시간')\n",
    "        elif hour==0 and minute!=0 and second!=0 :\n",
    "            print(f'{minute}분 {second}초')\n",
    "        elif hour==0 and minute!=0 and second==0 :\n",
    "            print(f'{minute}분')\n",
    "        elif hour==0 and minute==0 and second!=0 :\n",
    "            print(f'{second}초')"
   ]
  },
  {
   "cell_type": "code",
   "execution_count": null,
   "metadata": {},
   "outputs": [
    {
     "name": "stdout",
     "output_type": "stream",
     "text": [
      "2X1=2\t\t4X1=4\t5X1=5\t6X1=6\t7X1=7\t8X1=8\t9X1=9\t\n",
      "2X2=4\t\t4X2=8\t5X2=10\t6X2=12\t7X2=14\t8X2=16\t9X2=18\t\n",
      "\t\t\t\t\t\t\t\t\n",
      "2X4=8\t\t4X4=16\t5X4=20\t6X4=24\t7X4=28\t\t\t\n",
      "2X5=10\t\t4X5=20\t5X5=25\t\t\t8X5=40\t9X5=45\t\n",
      "2X6=12\t\t4X6=24\t\t\t7X6=42\t8X6=48\t9X6=54\t\n",
      "2X7=14\t\t4X7=28\t\t6X7=42\t7X7=49\t8X7=56\t\t\n",
      "2X8=16\t\t\t5X8=40\t6X8=48\t7X8=56\t8X8=64\t9X8=72\t\n",
      "2X9=18\t\t\t5X9=45\t6X9=54\t\t8X9=72\t9X9=81\t\n"
     ]
    }
   ],
   "source": [
    "        # 2번 답안 20201929 이상원\n",
    "        i = 1\n",
    "        while i < 10 :\n",
    "            j = 2\n",
    "            while j < 10 :\n",
    "                if (i == 3) or (j == 3) or ((i * j)%10 == 3) or ((i * j)//10 == 3):\n",
    "                    print('', end='\\t')\n",
    "                else :\n",
    "                    val = i * j\n",
    "                    print(f'{j}X{i}={val}', end='\\t')\n",
    "                j += 1\n",
    "            print('')\n",
    "            i += 1"
   ]
  },
  {
   "cell_type": "code",
   "execution_count": null,
   "metadata": {},
   "outputs": [
    {
     "name": "stdout",
     "output_type": "stream",
     "text": [
      "7번 무작위 수를 만들었습니다.\n",
      "숫자는 [22, 14, 1, 6, 18, 5, 6] 입니다.\n"
     ]
    }
   ],
   "source": [
    "        # 3번 답안 20201929 이상원\n",
    "        Num = int(input('2보다 큰 정수를 입력: '))\n",
    "\n",
    "        if Num > 2 :\n",
    "            List = []\n",
    "            count = 0\n",
    "\n",
    "            while True :\n",
    "                count += 1\n",
    "                ready_to_append = random.randint(1, Num)\n",
    "\n",
    "                if ready_to_append in List :\n",
    "                    List.append(ready_to_append)\n",
    "                    break\n",
    "\n",
    "                List.append(ready_to_append)\n",
    "\n",
    "\n",
    "\n",
    "            print(f'{count}번 무작위 수를 만들었습니다.')\n",
    "            print(f'숫자는 {List} 입니다.')\n",
    "\n",
    "\n",
    "        else :\n",
    "            print('2보다 큰 정수를 입력하세요.')"
   ]
  }
 ],
 "metadata": {
  "kernelspec": {
   "display_name": "base",
   "language": "python",
   "name": "python3"
  },
  "language_info": {
   "codemirror_mode": {
    "name": "ipython",
    "version": 3
   },
   "file_extension": ".py",
   "mimetype": "text/x-python",
   "name": "python",
   "nbconvert_exporter": "python",
   "pygments_lexer": "ipython3",
   "version": "3.11.4"
  }
 },
 "nbformat": 4,
 "nbformat_minor": 2
}
