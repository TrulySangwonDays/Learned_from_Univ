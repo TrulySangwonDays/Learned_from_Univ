{
 "cells": [
  {
   "cell_type": "code",
   "execution_count": 9,
   "metadata": {},
   "outputs": [],
   "source": [
    "from tkinter import *\n",
    "window = Tk()\n",
    "\n",
    "\n",
    "window.title('윈도우 창 연습') #창제목\n",
    "window.geometry('600x300') #화면크기\n",
    "window.resizable(width=5, height=5) #화면크기 조절가능 여부\n",
    "\n",
    "#=========================================================\n",
    "\n",
    "\n",
    "#=========================================================\n",
    "\n",
    "# 이부분에서 화면을 구성하고 처리\n",
    "window.mainloop()"
   ]
  },
  {
   "cell_type": "code",
   "execution_count": 10,
   "metadata": {},
   "outputs": [],
   "source": [
    "## 레이블 삽입\n",
    "\n",
    "from tkinter import *\n",
    "window = Tk()\n",
    "\n",
    "#=========================================================\n",
    "\n",
    "label1 = Label(window, text = 'COOKBOOK~~ Python을')\n",
    "label2 = Label(window, text = '열심히', font=('궁서체',30), fg='blue')\n",
    "label3 = Label(window, text = '공부 중입니다.', bg='magenta', width=20, height=5, anchor=SE)\n",
    "# 구글에 color picker 검색하면 색상선택 가능\n",
    "\n",
    "label1.pack()\n",
    "label2.pack()\n",
    "label3.pack()\n",
    "\n",
    "#=========================================================\n",
    "\n",
    "window.mainloop()"
   ]
  },
  {
   "cell_type": "code",
   "execution_count": 12,
   "metadata": {},
   "outputs": [],
   "source": [
    "## 레이블 글자 대신 이미지 넣기\n",
    "\n",
    "from tkinter import *\n",
    "window = Tk()\n",
    "\n",
    "#=========================================================\n",
    "\n",
    "photo1 = PhotoImage(file = 'gif/dog.gif')\n",
    "label1 = Label(window, image=photo1)\n",
    "label1.pack(side=RIGHT)\n",
    "\n",
    "photo2 = PhotoImage(file = 'gif/cat.gif')\n",
    "label2 = Label(window, image=photo2)\n",
    "label2.pack(side=RIGHT)\n",
    "\n",
    "#=========================================================\n",
    "\n",
    "window.mainloop()\n"
   ]
  },
  {
   "cell_type": "code",
   "execution_count": 1,
   "metadata": {},
   "outputs": [
    {
     "ename": "",
     "evalue": "",
     "output_type": "error",
     "traceback": [
      "\u001b[1;31m현재 셀 또는 이전 셀에서 코드를 실행하는 동안 Kernel이 충돌했습니다. \n",
      "\u001b[1;31m셀의 코드를 검토하여 가능한 오류 원인을 식별하세요. \n",
      "\u001b[1;31m자세한 내용을 보려면 <a href='https://aka.ms/vscodeJupyterKernelCrash'>여기</a>를 클릭하세요. \n",
      "\u001b[1;31m자세한 내용은 Jupyter <a href='command:jupyter.viewOutput'>로그</a>를 참조하세요."
     ]
    }
   ],
   "source": [
    "## 버튼 넣기 -> 주피터 환경에서 충돌. -> .py로 실행\n",
    "\n",
    "from tkinter import *\n",
    "window = Tk()\n",
    "\n",
    "#=========================================================\n",
    "\n",
    "button1 = Button(window, text = '파이썬 종료', fg='red', command=exit)\n",
    "button1.pack()\n",
    "\n",
    "#=========================================================\n",
    "\n",
    "window.mainloop()\n"
   ]
  },
  {
   "cell_type": "code",
   "execution_count": 1,
   "metadata": {},
   "outputs": [],
   "source": [
    "## 버튼 넣기 -> 주피터 환경에서 충돌. -> .py로 실행\n",
    "\n",
    "from tkinter import *\n",
    "from tkinter import messagebox\n",
    "\n",
    "# 함수선언\n",
    "def myFunc() :\n",
    "    messagebox.showinfo('강아지 버튼', '강아지 귀여워...')\n",
    "\n",
    "window = Tk()\n",
    "\n",
    "#=========================================================\n",
    "\n",
    "photo = PhotoImage(file = 'gif/dog.gif')\n",
    "button1 = Button(window, image=photo, command=myFunc)\n",
    "button1.pack()\n",
    "\n",
    "#=========================================================\n",
    "\n",
    "window.mainloop()\n"
   ]
  },
  {
   "cell_type": "code",
   "execution_count": 3,
   "metadata": {},
   "outputs": [],
   "source": [
    "## 체크박스\n",
    "\n",
    "from tkinter import *\n",
    "from tkinter import messagebox\n",
    "window = Tk()\n",
    "\n",
    "#=========================================================\n",
    "\n",
    "# 함수선언\n",
    "def myFunc() :\n",
    "    if chk.get() == 0 :\n",
    "        messagebox.showinfo('', '체크버튼이 꺼졌어요.')\n",
    "    else :\n",
    "        messagebox.showinfo('', '체크버튼이 켜졌어요.')\n",
    "\n",
    "# 메인코드 부분\n",
    "chk = IntVar()\n",
    "cb1 = Checkbutton(window, text='클릭하세요.', variable=chk, command=myFunc)\n",
    "cb1.pack()\n",
    "\n",
    "#=========================================================\n",
    "\n",
    "window.mainloop()\n"
   ]
  },
  {
   "cell_type": "code",
   "execution_count": 8,
   "metadata": {},
   "outputs": [
    {
     "name": "stderr",
     "output_type": "stream",
     "text": [
      "Exception in Tkinter callback\n",
      "Traceback (most recent call last):\n",
      "  File \"c:\\Users\\01wkd\\AppData\\Local\\Programs\\Python\\Python39\\lib\\tkinter\\__init__.py\", line 1892, in __call__\n",
      "    return self.func(*args)\n",
      "  File \"C:\\Users\\01wkd\\AppData\\Local\\Temp\\ipykernel_16968\\2833555708.py\", line 11, in myFunc\n",
      "    label1.comfigure(text='파이썬')\n",
      "AttributeError: 'Label' object has no attribute 'comfigure'\n",
      "Exception in Tkinter callback\n",
      "Traceback (most recent call last):\n",
      "  File \"c:\\Users\\01wkd\\AppData\\Local\\Programs\\Python\\Python39\\lib\\tkinter\\__init__.py\", line 1892, in __call__\n",
      "    return self.func(*args)\n",
      "  File \"C:\\Users\\01wkd\\AppData\\Local\\Temp\\ipykernel_16968\\2833555708.py\", line 11, in myFunc\n",
      "    label1.comfigure(text='파이썬')\n",
      "AttributeError: 'Label' object has no attribute 'comfigure'\n",
      "Exception in Tkinter callback\n",
      "Traceback (most recent call last):\n",
      "  File \"c:\\Users\\01wkd\\AppData\\Local\\Programs\\Python\\Python39\\lib\\tkinter\\__init__.py\", line 1892, in __call__\n",
      "    return self.func(*args)\n",
      "  File \"C:\\Users\\01wkd\\AppData\\Local\\Temp\\ipykernel_16968\\2833555708.py\", line 11, in myFunc\n",
      "    label1.comfigure(text='파이썬')\n",
      "AttributeError: 'Label' object has no attribute 'comfigure'\n"
     ]
    }
   ],
   "source": [
    "## 라디오 버튼\n",
    "\n",
    "from tkinter import *\n",
    "window = Tk()\n",
    "\n",
    "#=========================================================\n",
    "\n",
    "# 함수선언\n",
    "def myFunc() :\n",
    "    if var.get() == 1 :\n",
    "        label1.comfigure(text='파이썬')\n",
    "    elif var.get() == 2 :\n",
    "        label1.configure(text='C++')\n",
    "    else :\n",
    "        label1.configure(text='Java')\n",
    "        \n",
    "\n",
    "# 메인코드 부분\n",
    "var = IntVar()\n",
    "rb1 = Radiobutton(window, text='파이썬', variable=var, value=1, command=myFunc)\n",
    "rb2 = Radiobutton(window, text='C++', variable=var, value=2, command=myFunc)\n",
    "rb3 = Radiobutton(window, text='Java', variable=var, value=3, command=myFunc)\n",
    "\n",
    "label1 = Label(window, text='선택한 언어 : ', fg='red')\n",
    "\n",
    "rb1.pack()\n",
    "rb2.pack()\n",
    "rb3.pack()\n",
    "label1.pack()\n",
    "\n",
    "#=========================================================\n",
    "\n",
    "window.mainloop()\n"
   ]
  },
  {
   "cell_type": "code",
   "execution_count": 11,
   "metadata": {},
   "outputs": [],
   "source": [
    "## 수평 정렬\n",
    "\n",
    "from tkinter import *\n",
    "window = Tk()\n",
    "\n",
    "#=========================================================\n",
    "\n",
    "button1 = Button(window, text='버튼1')\n",
    "button2 = Button(window, text='버튼2')\n",
    "button3 = Button(window, text='버튼3')\n",
    "\n",
    "button1.pack(side=LEFT)\n",
    "button2.pack(side=LEFT)\n",
    "button3.pack(side=LEFT)\n",
    "\n",
    "#=========================================================\n",
    "\n",
    "window.mainloop()\n"
   ]
  },
  {
   "cell_type": "code",
   "execution_count": 26,
   "metadata": {},
   "outputs": [],
   "source": [
    "## 리스트와 for문 활용\n",
    "\n",
    "from tkinter import *\n",
    "window = Tk()\n",
    "\n",
    "#=========================================================\n",
    "\n",
    "btnList=[None]*10\n",
    "\n",
    "for i in range(0, 10) :\n",
    "    btnList[i] = Button(window, text='버튼' + str(i+1))\n",
    "    \n",
    "for btn in btnList :\n",
    "    #btn.pack(side=RIGHT)\n",
    "    #btn.pack(side=BOTTOM)\n",
    "    #btn.pack(side=TOP, fill=X)\n",
    "    btn.pack(side=TOP, fill=X, padx=10, pady=10)\n",
    "    #btn.pack(side=TOP, fill=X, ipadx=10, ipady=10)\n",
    "    #btn.pack(side=TOP, fill=X, padx=10, pady=10, padx=10, pady=10)\n",
    "    \n",
    "#=========================================================\n",
    "\n",
    "window.mainloop()\n"
   ]
  },
  {
   "cell_type": "code",
   "execution_count": 27,
   "metadata": {},
   "outputs": [],
   "source": [
    "# 고정 위치에 배치\n",
    "\n",
    "# Code10-11.py"
   ]
  },
  {
   "cell_type": "code",
   "execution_count": 28,
   "metadata": {},
   "outputs": [],
   "source": [
    "# [프로그램1] 완성\n",
    "\n",
    "# 제주도 사진앨범 보는 프로그램\n",
    "# Code10-12.py\n"
   ]
  },
  {
   "cell_type": "code",
   "execution_count": 31,
   "metadata": {},
   "outputs": [],
   "source": [
    "# 마우스 이벤트"
   ]
  },
  {
   "attachments": {
    "image.png": {
     "image/png": "[encoded data removed]"
    }
   },
   "cell_type": "markdown",
   "metadata": {},
   "source": [
    "![image.png](attachment:image.png)"
   ]
  },
  {
   "cell_type": "code",
   "execution_count": 33,
   "metadata": {},
   "outputs": [],
   "source": [
    "from tkinter import *\n",
    "from tkinter import messagebox\n",
    "\n",
    "def keyEvent(event) :\n",
    "    messagebox.showinfo('키보드 이벤트', '누른 키 : ' + chr(event.keycode))\n",
    "    \n",
    "window = Tk()\n",
    "    \n",
    "window.bind('<Return>', keyEvent)\n",
    "\n",
    "window.mainloop()"
   ]
  },
  {
   "cell_type": "code",
   "execution_count": null,
   "metadata": {},
   "outputs": [],
   "source": []
  },
  {
   "cell_type": "code",
   "execution_count": null,
   "metadata": {},
   "outputs": [],
   "source": []
  },
  {
   "cell_type": "code",
   "execution_count": null,
   "metadata": {},
   "outputs": [],
   "source": []
  },
  {
   "cell_type": "code",
   "execution_count": null,
   "metadata": {},
   "outputs": [],
   "source": []
  },
  {
   "cell_type": "code",
   "execution_count": null,
   "metadata": {},
   "outputs": [],
   "source": []
  }
 ],
 "metadata": {
  "kernelspec": {
   "display_name": "base",
   "language": "python",
   "name": "python3"
  },
  "language_info": {
   "codemirror_mode": {
    "name": "ipython",
    "version": 3
   },
   "file_extension": ".py",
   "mimetype": "text/x-python",
   "name": "python",
   "nbconvert_exporter": "python",
   "pygments_lexer": "ipython3",
   "version": "3.9.2"
  }
 },
 "nbformat": 4,
 "nbformat_minor": 2
}
